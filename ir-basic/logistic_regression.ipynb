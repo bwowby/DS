{
  "nbformat": 4,
  "nbformat_minor": 0,
  "metadata": {
    "colab": {
      "name": "logistic_regression.ipynb",
      "provenance": [],
      "authorship_tag": "ABX9TyNaNHFTdbaW0qc9EqkssSG9",
      "include_colab_link": true
    },
    "kernelspec": {
      "name": "python3",
      "display_name": "Python 3"
    }
  },
  "cells": [
    {
      "cell_type": "markdown",
      "metadata": {
        "id": "view-in-github",
        "colab_type": "text"
      },
      "source": [
        "<a href=\"https://colab.research.google.com/github/bwowby/DS/blob/master/ir-basic/logistic_regression.ipynb\" target=\"_parent\"><img src=\"https://colab.research.google.com/assets/colab-badge.svg\" alt=\"Open In Colab\"/></a>"
      ]
    },
    {
      "cell_type": "code",
      "metadata": {
        "id": "V8HSm1pgbOhl"
      },
      "source": [
        "import numpy as np"
      ],
      "execution_count": 4,
      "outputs": []
    },
    {
      "cell_type": "markdown",
      "metadata": {
        "id": "P3YSvLHVa7bn"
      },
      "source": [
        "### Generate Dataset\r\n",
        "\r\n",
        "feature : 연봉(salaries) / 업무 만족도(satisfaction)   \r\n",
        "label : 잔류(stay)"
      ]
    },
    {
      "cell_type": "code",
      "metadata": {
        "colab": {
          "base_uri": "https://localhost:8080/"
        },
        "id": "I6h0Y62Oa3iz",
        "outputId": "b6fcc09e-ab3b-4166-c011-229e9f85c98d"
      },
      "source": [
        "salaries = [5.0, 5.3, 5.1, 5.8, 5.05, 5.0, 5.3, 4.9 ,5.15, 5.05]\r\n",
        "salaries = np.array(salaries)\r\n",
        "\r\n",
        "salaries"
      ],
      "execution_count": 6,
      "outputs": [
        {
          "output_type": "execute_result",
          "data": {
            "text/plain": [
              "array([5.  , 5.3 , 5.1 , 5.8 , 5.05, 5.  , 5.3 , 4.9 , 5.15, 5.05])"
            ]
          },
          "metadata": {
            "tags": []
          },
          "execution_count": 6
        }
      ]
    },
    {
      "cell_type": "code",
      "metadata": {
        "colab": {
          "base_uri": "https://localhost:8080/"
        },
        "id": "Uen7f1XwbKrF",
        "outputId": "64b8875b-3b03-409d-c5ac-901246448cfc"
      },
      "source": [
        "satisfaction = [3,7,4,9,8,6,5,4,6,7]\r\n",
        "satisfaction = np.array(satisfaction)\r\n",
        "\r\n",
        "satisfaction"
      ],
      "execution_count": 7,
      "outputs": [
        {
          "output_type": "execute_result",
          "data": {
            "text/plain": [
              "array([3, 7, 4, 9, 8, 6, 5, 4, 6, 7])"
            ]
          },
          "metadata": {
            "tags": []
          },
          "execution_count": 7
        }
      ]
    },
    {
      "cell_type": "code",
      "metadata": {
        "colab": {
          "base_uri": "https://localhost:8080/"
        },
        "id": "d6WTDUgSbqgU",
        "outputId": "cabf834a-700b-431d-94e9-6ee109fb5f35"
      },
      "source": [
        "stay = [False, True, False, True, True, True, True, False,True, True]\r\n",
        "stay = np.array(stay)\r\n",
        "\r\n",
        "stay"
      ],
      "execution_count": 8,
      "outputs": [
        {
          "output_type": "execute_result",
          "data": {
            "text/plain": [
              "array([False,  True, False,  True,  True,  True,  True, False,  True,\n",
              "        True])"
            ]
          },
          "metadata": {
            "tags": []
          },
          "execution_count": 8
        }
      ]
    },
    {
      "cell_type": "code",
      "metadata": {
        "id": "Dy62oCPUcgaF"
      },
      "source": [
        "import pandas as pd\r\n",
        "import matplotlib.pyplot as plt"
      ],
      "execution_count": 13,
      "outputs": []
    },
    {
      "cell_type": "code",
      "metadata": {
        "colab": {
          "base_uri": "https://localhost:8080/",
          "height": 348
        },
        "id": "HAO9MQcUb5ns",
        "outputId": "a7d373f3-29bb-4006-9384-176ce4da2f9a"
      },
      "source": [
        "example = pd.DataFrame({'연봉' : salaries, '업무 만족도' : satisfaction, '잔류': stay})\r\n",
        "example"
      ],
      "execution_count": 14,
      "outputs": [
        {
          "output_type": "execute_result",
          "data": {
            "text/html": [
              "<div>\n",
              "<style scoped>\n",
              "    .dataframe tbody tr th:only-of-type {\n",
              "        vertical-align: middle;\n",
              "    }\n",
              "\n",
              "    .dataframe tbody tr th {\n",
              "        vertical-align: top;\n",
              "    }\n",
              "\n",
              "    .dataframe thead th {\n",
              "        text-align: right;\n",
              "    }\n",
              "</style>\n",
              "<table border=\"1\" class=\"dataframe\">\n",
              "  <thead>\n",
              "    <tr style=\"text-align: right;\">\n",
              "      <th></th>\n",
              "      <th>연봉</th>\n",
              "      <th>업무 만족도</th>\n",
              "      <th>잔류</th>\n",
              "    </tr>\n",
              "  </thead>\n",
              "  <tbody>\n",
              "    <tr>\n",
              "      <th>0</th>\n",
              "      <td>5.00</td>\n",
              "      <td>3</td>\n",
              "      <td>False</td>\n",
              "    </tr>\n",
              "    <tr>\n",
              "      <th>1</th>\n",
              "      <td>5.30</td>\n",
              "      <td>7</td>\n",
              "      <td>True</td>\n",
              "    </tr>\n",
              "    <tr>\n",
              "      <th>2</th>\n",
              "      <td>5.10</td>\n",
              "      <td>4</td>\n",
              "      <td>False</td>\n",
              "    </tr>\n",
              "    <tr>\n",
              "      <th>3</th>\n",
              "      <td>5.80</td>\n",
              "      <td>9</td>\n",
              "      <td>True</td>\n",
              "    </tr>\n",
              "    <tr>\n",
              "      <th>4</th>\n",
              "      <td>5.05</td>\n",
              "      <td>8</td>\n",
              "      <td>True</td>\n",
              "    </tr>\n",
              "    <tr>\n",
              "      <th>5</th>\n",
              "      <td>5.00</td>\n",
              "      <td>6</td>\n",
              "      <td>True</td>\n",
              "    </tr>\n",
              "    <tr>\n",
              "      <th>6</th>\n",
              "      <td>5.30</td>\n",
              "      <td>5</td>\n",
              "      <td>True</td>\n",
              "    </tr>\n",
              "    <tr>\n",
              "      <th>7</th>\n",
              "      <td>4.90</td>\n",
              "      <td>4</td>\n",
              "      <td>False</td>\n",
              "    </tr>\n",
              "    <tr>\n",
              "      <th>8</th>\n",
              "      <td>5.15</td>\n",
              "      <td>6</td>\n",
              "      <td>True</td>\n",
              "    </tr>\n",
              "    <tr>\n",
              "      <th>9</th>\n",
              "      <td>5.05</td>\n",
              "      <td>7</td>\n",
              "      <td>True</td>\n",
              "    </tr>\n",
              "  </tbody>\n",
              "</table>\n",
              "</div>"
            ],
            "text/plain": [
              "     연봉  업무 만족도     잔류\n",
              "0  5.00       3  False\n",
              "1  5.30       7   True\n",
              "2  5.10       4  False\n",
              "3  5.80       9   True\n",
              "4  5.05       8   True\n",
              "5  5.00       6   True\n",
              "6  5.30       5   True\n",
              "7  4.90       4  False\n",
              "8  5.15       6   True\n",
              "9  5.05       7   True"
            ]
          },
          "metadata": {
            "tags": []
          },
          "execution_count": 14
        }
      ]
    },
    {
      "cell_type": "code",
      "metadata": {
        "colab": {
          "base_uri": "https://localhost:8080/",
          "height": 283
        },
        "id": "kEZWLOJlcJEy",
        "outputId": "ab1c1000-4ccb-426a-dae4-247897da5557"
      },
      "source": [
        "#sactter chart : scatter(x, y, c=df[x][y]label)\r\n",
        "plt.scatter(salaries, satisfaction, c=stay)"
      ],
      "execution_count": 16,
      "outputs": [
        {
          "output_type": "execute_result",
          "data": {
            "text/plain": [
              "<matplotlib.collections.PathCollection at 0x7fdcf2a478d0>"
            ]
          },
          "metadata": {
            "tags": []
          },
          "execution_count": 16
        },
        {
          "output_type": "display_data",
          "data": {
            "image/png": "[encoded data removed]",
            "text/plain": [
              "<Figure size 432x288 with 1 Axes>"
            ]
          },
          "metadata": {
            "tags": [],
            "needs_background": "light"
          }
        }
      ]
    },
    {
      "cell_type": "markdown",
      "metadata": {
        "id": "yp1doqUSdIH7"
      },
      "source": [
        "2.14\r\n",
        "### Deafine Sigmoid \r\n",
        "![image.png](data:image/png;base64,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)"
      ]
    },
    {
      "cell_type": "code",
      "metadata": {
        "id": "MYtUJcU9cWpt"
      },
      "source": [
        "# 1/1+e^(-x)\r\n",
        "def sigmoid(x) :\r\n",
        "  return 1 / (1 + np.exp(-x))"
      ],
      "execution_count": 18,
      "outputs": []
    },
    {
      "cell_type": "code",
      "metadata": {
        "colab": {
          "base_uri": "https://localhost:8080/"
        },
        "id": "bwLKde1WdYQp",
        "outputId": "46ad1676-c1c4-4875-e6c8-91399d9a00de"
      },
      "source": [
        "sigmoid(6)"
      ],
      "execution_count": 20,
      "outputs": [
        {
          "output_type": "execute_result",
          "data": {
            "text/plain": [
              "0.9975273768433653"
            ]
          },
          "metadata": {
            "tags": []
          },
          "execution_count": 20
        }
      ]
    },
    {
      "cell_type": "code",
      "metadata": {
        "colab": {
          "base_uri": "https://localhost:8080/",
          "height": 465
        },
        "id": "I6LUx56RdbJx",
        "outputId": "1790a33a-c9ca-4c50-d174-a479db752372"
      },
      "source": [
        "# numpy 범위 내에서 default 50 개로 쪼개줌\r\n",
        "xx = np.linspace(-10,10)\r\n",
        "print(xx)\r\n",
        "yy = sigmoid(xx)\r\n",
        "\r\n",
        "# 단순 x,y plot(x,y)\r\n",
        "plt.plot(xx,yy)"
      ],
      "execution_count": 25,
      "outputs": [
        {
          "output_type": "stream",
          "text": [
            "[-10.          -9.59183673  -9.18367347  -8.7755102   -8.36734694\n",
            "  -7.95918367  -7.55102041  -7.14285714  -6.73469388  -6.32653061\n",
            "  -5.91836735  -5.51020408  -5.10204082  -4.69387755  -4.28571429\n",
            "  -3.87755102  -3.46938776  -3.06122449  -2.65306122  -2.24489796\n",
            "  -1.83673469  -1.42857143  -1.02040816  -0.6122449   -0.20408163\n",
            "   0.20408163   0.6122449    1.02040816   1.42857143   1.83673469\n",
            "   2.24489796   2.65306122   3.06122449   3.46938776   3.87755102\n",
            "   4.28571429   4.69387755   5.10204082   5.51020408   5.91836735\n",
            "   6.32653061   6.73469388   7.14285714   7.55102041   7.95918367\n",
            "   8.36734694   8.7755102    9.18367347   9.59183673  10.        ]\n"
          ],
          "name": "stdout"
        },
        {
          "output_type": "execute_result",
          "data": {
            "text/plain": [
              "[<matplotlib.lines.Line2D at 0x7fdcf281ccf8>]"
            ]
          },
          "metadata": {
            "tags": []
          },
          "execution_count": 25
        },
        {
          "output_type": "display_data",
          "data": {
            "image/png": "[encoded data removed]",
            "text/plain": [
              "<Figure size 432x288 with 1 Axes>"
            ]
          },
          "metadata": {
            "tags": [],
            "needs_background": "light"
          }
        }
      ]
    },
    {
      "cell_type": "markdown",
      "metadata": {
        "id": "EkH-dI27du5Q"
      },
      "source": [
        "\r\n",
        "### Gradient Descent"
      ]
    },
    {
      "cell_type": "code",
      "metadata": {
        "colab": {
          "base_uri": "https://localhost:8080/"
        },
        "id": "8cxZ9t2levvX",
        "outputId": "2499f0d2-cb5c-44c1-c4a3-01df0f08db03"
      },
      "source": [
        "x1 = salaries\r\n",
        "x2 = satisfaction \r\n",
        "x1, x2\r\n"
      ],
      "execution_count": 26,
      "outputs": [
        {
          "output_type": "execute_result",
          "data": {
            "text/plain": [
              "(array([5.  , 5.3 , 5.1 , 5.8 , 5.05, 5.  , 5.3 , 4.9 , 5.15, 5.05]),\n",
              " array([3, 7, 4, 9, 8, 6, 5, 4, 6, 7]))"
            ]
          },
          "metadata": {
            "tags": []
          },
          "execution_count": 26
        }
      ]
    },
    {
      "cell_type": "code",
      "metadata": {
        "colab": {
          "base_uri": "https://localhost:8080/"
        },
        "id": "x1ttLVhie6eU",
        "outputId": "270645ae-331e-460f-9415-266e7a360ffc"
      },
      "source": [
        "y = stay\r\n",
        "y"
      ],
      "execution_count": 28,
      "outputs": [
        {
          "output_type": "execute_result",
          "data": {
            "text/plain": [
              "array([False,  True, False,  True,  True,  True,  True, False,  True,\n",
              "        True])"
            ]
          },
          "metadata": {
            "tags": []
          },
          "execution_count": 28
        }
      ]
    },
    {
      "cell_type": "code",
      "metadata": {
        "colab": {
          "base_uri": "https://localhost:8080/"
        },
        "id": "Mx8FiR1ae74G",
        "outputId": "61e439f8-c281-4be3-f1b0-89d7792cd107"
      },
      "source": [
        "num_epoch = 100\r\n",
        "learning_rate = 1.0\r\n",
        "\r\n",
        "# x가 두개니까 w도 두개\r\n",
        "w1 = np.random.uniform(low = -1.0, high = +1.0)\r\n",
        "w2 = np.random.uniform(low = -1.0, high = +1.0)\r\n",
        "b = np.random.uniform(low = -1.0, high = +1.0)\r\n",
        "\r\n",
        "for epoch in  range(num_epoch) :\r\n",
        "  y_predict = w1*x1 + w2*x2 + b\r\n",
        "  #0~1사이 값으로 나옴\r\n",
        "  y_predict = sigmoid(y_predict)\r\n",
        "\r\n",
        "  predict = y_predict > 0.5\r\n",
        "  accuracy = (predict == y).mean()\r\n",
        "\r\n",
        "  if epoch % 10 == 0:\r\n",
        "    print(f\"epoch : {epoch} accuracy : {accuracy:.6f}\")\r\n",
        "\r\n",
        "  # 100퍼면 그만 반복하고 끝\r\n",
        "  if accuracy == 1.0 : \r\n",
        "    break;\r\n",
        "  #cost function 편미분한 값\r\n",
        "  w1 = w1 - learning_rate * ((y_predict - y) * x1).mean()\r\n",
        "  w2 = w2 - learning_rate * ((y_predict- y) * x2).mean()\r\n",
        "  b = b - learning_rate * (y_predict - y).mean()\r\n",
        "\r\n",
        "print(\"----\"*10)\r\n",
        "print(f\"epoch : {epoch} accuracy : {accuracy:.6f}\")"
      ],
      "execution_count": 57,
      "outputs": [
        {
          "output_type": "stream",
          "text": [
            "epoch : 0 accuracy : 0.100000\n",
            "epoch : 10 accuracy : 0.900000\n",
            "epoch : 20 accuracy : 0.800000\n",
            "epoch : 30 accuracy : 0.800000\n",
            "----------------------------------------\n",
            "epoch : 36 accuracy : 1.000000\n"
          ],
          "name": "stdout"
        }
      ]
    },
    {
      "cell_type": "markdown",
      "metadata": {
        "id": "JYloB_GxkKlJ"
      },
      "source": [
        "### Predict"
      ]
    },
    {
      "cell_type": "code",
      "metadata": {
        "colab": {
          "base_uri": "https://localhost:8080/",
          "height": 348
        },
        "id": "AU1g-qYcfEku",
        "outputId": "42744d79-8820-4cd5-c2b1-eb9c8535c437"
      },
      "source": [
        "y_predict = w1*x1 + w2*x2 + b\r\n",
        "y_predict = sigmoid(y_predict)\r\n",
        "\r\n",
        "predict = y_predict > 0.5\r\n",
        "\r\n",
        "result = example.copy()\r\n",
        "result[\"잔류(예측)\"] = predict\r\n",
        "result[\"잔류(확률)\"] = y_predict\r\n",
        "\r\n",
        "result"
      ],
      "execution_count": 64,
      "outputs": [
        {
          "output_type": "execute_result",
          "data": {
            "text/html": [
              "<div>\n",
              "<style scoped>\n",
              "    .dataframe tbody tr th:only-of-type {\n",
              "        vertical-align: middle;\n",
              "    }\n",
              "\n",
              "    .dataframe tbody tr th {\n",
              "        vertical-align: top;\n",
              "    }\n",
              "\n",
              "    .dataframe thead th {\n",
              "        text-align: right;\n",
              "    }\n",
              "</style>\n",
              "<table border=\"1\" class=\"dataframe\">\n",
              "  <thead>\n",
              "    <tr style=\"text-align: right;\">\n",
              "      <th></th>\n",
              "      <th>연봉</th>\n",
              "      <th>업무 만족도</th>\n",
              "      <th>잔류</th>\n",
              "      <th>잔류(예측)</th>\n",
              "      <th>잔류(확률)</th>\n",
              "    </tr>\n",
              "  </thead>\n",
              "  <tbody>\n",
              "    <tr>\n",
              "      <th>0</th>\n",
              "      <td>5.00</td>\n",
              "      <td>3</td>\n",
              "      <td>False</td>\n",
              "      <td>False</td>\n",
              "      <td>0.006951</td>\n",
              "    </tr>\n",
              "    <tr>\n",
              "      <th>1</th>\n",
              "      <td>5.30</td>\n",
              "      <td>7</td>\n",
              "      <td>True</td>\n",
              "      <td>True</td>\n",
              "      <td>0.999992</td>\n",
              "    </tr>\n",
              "    <tr>\n",
              "      <th>2</th>\n",
              "      <td>5.10</td>\n",
              "      <td>4</td>\n",
              "      <td>False</td>\n",
              "      <td>False</td>\n",
              "      <td>0.294885</td>\n",
              "    </tr>\n",
              "    <tr>\n",
              "      <th>3</th>\n",
              "      <td>5.80</td>\n",
              "      <td>9</td>\n",
              "      <td>True</td>\n",
              "      <td>True</td>\n",
              "      <td>1.000000</td>\n",
              "    </tr>\n",
              "    <tr>\n",
              "      <th>4</th>\n",
              "      <td>5.05</td>\n",
              "      <td>8</td>\n",
              "      <td>True</td>\n",
              "      <td>True</td>\n",
              "      <td>1.000000</td>\n",
              "    </tr>\n",
              "    <tr>\n",
              "      <th>5</th>\n",
              "      <td>5.00</td>\n",
              "      <td>6</td>\n",
              "      <td>True</td>\n",
              "      <td>True</td>\n",
              "      <td>0.999772</td>\n",
              "    </tr>\n",
              "    <tr>\n",
              "      <th>6</th>\n",
              "      <td>5.30</td>\n",
              "      <td>5</td>\n",
              "      <td>True</td>\n",
              "      <td>True</td>\n",
              "      <td>0.945811</td>\n",
              "    </tr>\n",
              "    <tr>\n",
              "      <th>7</th>\n",
              "      <td>4.90</td>\n",
              "      <td>4</td>\n",
              "      <td>False</td>\n",
              "      <td>False</td>\n",
              "      <td>0.461535</td>\n",
              "    </tr>\n",
              "    <tr>\n",
              "      <th>8</th>\n",
              "      <td>5.15</td>\n",
              "      <td>6</td>\n",
              "      <td>True</td>\n",
              "      <td>True</td>\n",
              "      <td>0.999609</td>\n",
              "    </tr>\n",
              "    <tr>\n",
              "      <th>9</th>\n",
              "      <td>5.05</td>\n",
              "      <td>7</td>\n",
              "      <td>True</td>\n",
              "      <td>True</td>\n",
              "      <td>0.999997</td>\n",
              "    </tr>\n",
              "  </tbody>\n",
              "</table>\n",
              "</div>"
            ],
            "text/plain": [
              "     연봉  업무 만족도     잔류  잔류(예측)    잔류(확률)\n",
              "0  5.00       3  False   False  0.006951\n",
              "1  5.30       7   True    True  0.999992\n",
              "2  5.10       4  False   False  0.294885\n",
              "3  5.80       9   True    True  1.000000\n",
              "4  5.05       8   True    True  1.000000\n",
              "5  5.00       6   True    True  0.999772\n",
              "6  5.30       5   True    True  0.945811\n",
              "7  4.90       4  False   False  0.461535\n",
              "8  5.15       6   True    True  0.999609\n",
              "9  5.05       7   True    True  0.999997"
            ]
          },
          "metadata": {
            "tags": []
          },
          "execution_count": 64
        }
      ]
    },
    {
      "cell_type": "markdown",
      "metadata": {
        "id": "TOkr3ts2lnkG"
      },
      "source": [
        "### Visualization"
      ]
    },
    {
      "cell_type": "code",
      "metadata": {
        "colab": {
          "base_uri": "https://localhost:8080/",
          "height": 283
        },
        "id": "1LL3A_QPgea_",
        "outputId": "56ce9d0c-f284-4e28-f326-3081f23c96c6"
      },
      "source": [
        "xx = np.linspace(start = 4.5, stop = 6.0)\r\n",
        "yy = -1.0 * (w1 * xx + b) / w2\r\n",
        "\r\n",
        "plt.scatter(x1,x2,c=y)\r\n",
        "plt.plot(xx,yy,c='r')"
      ],
      "execution_count": 68,
      "outputs": [
        {
          "output_type": "execute_result",
          "data": {
            "text/plain": [
              "[<matplotlib.lines.Line2D at 0x7fdcf25c2630>]"
            ]
          },
          "metadata": {
            "tags": []
          },
          "execution_count": 68
        },
        {
          "output_type": "display_data",
          "data": {
            "image/png": "[encoded data removed]",
            "text/plain": [
              "<Figure size 432x288 with 1 Axes>"
            ]
          },
          "metadata": {
            "tags": [],
            "needs_background": "light"
          }
        }
      ]
    },
    {
      "cell_type": "code",
      "metadata": {
        "id": "gjs-ZvzPlmh2"
      },
      "source": [
        ""
      ],
      "execution_count": null,
      "outputs": []
    }
  ]
}