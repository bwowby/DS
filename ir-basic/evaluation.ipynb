{
  "nbformat": 4,
  "nbformat_minor": 0,
  "metadata": {
    "colab": {
      "name": "evaluation.ipynb",
      "provenance": [],
      "authorship_tag": "ABX9TyN8EaysPGdE1veMbjkHAIco",
      "include_colab_link": true
    },
    "kernelspec": {
      "name": "python3",
      "display_name": "Python 3"
    }
  },
  "cells": [
    {
      "cell_type": "markdown",
      "metadata": {
        "id": "view-in-github",
        "colab_type": "text"
      },
      "source": [
        "<a href=\"https://colab.research.google.com/github/bwowby/DS/blob/master/ir-basic/evaluation.ipynb\" target=\"_parent\"><img src=\"https://colab.research.google.com/assets/colab-badge.svg\" alt=\"Open In Colab\"/></a>"
      ]
    },
    {
      "cell_type": "code",
      "metadata": {
        "id": "2AEZyATTFFJB"
      },
      "source": [
        "import numpy as np"
      ],
      "execution_count": 1,
      "outputs": []
    },
    {
      "cell_type": "code",
      "metadata": {
        "colab": {
          "base_uri": "https://localhost:8080/"
        },
        "id": "rN2EXZ32G7Ud",
        "outputId": "272fcc18-6e35-486f-e79a-b2051139163f"
      },
      "source": [
        "#random dataset\r\n",
        "\r\n",
        "np.random.seed(123)\r\n",
        "\r\n",
        "y_true = np.random.randint(low=0, high=2, size=20)\r\n",
        "y_pred = np.random.randint(low=0, high=2, size=20)\r\n",
        "\r\n",
        "print(y_true.shape, y_pred.shape)\r\n",
        "print(y_pred.shape, y_pred.shape)\r\n",
        "\r\n",
        "print(y_true)\r\n",
        "print(y_pred)\r\n"
      ],
      "execution_count": 5,
      "outputs": [
        {
          "output_type": "stream",
          "text": [
            "(20,) (20,)\n",
            "(20,) (20,)\n",
            "[0 1 0 0 0 0 0 1 1 0 1 1 0 1 0 1 0 1 1 0]\n",
            "[0 0 1 1 1 0 1 0 0 0 0 1 1 1 0 0 1 0 0 1]\n"
          ],
          "name": "stdout"
        }
      ]
    },
    {
      "cell_type": "code",
      "metadata": {
        "id": "FY8KFjP_U860"
      },
      "source": [
        "from sklearn.metrics import confusion_matrix\r\n",
        "\r\n",
        "pr_array = confusion_matrix(y_true,y_pred)"
      ],
      "execution_count": 9,
      "outputs": []
    },
    {
      "cell_type": "markdown",
      "metadata": {
        "id": "0PG6e-3ei8Zb"
      },
      "source": [
        "### Confusion Matrix"
      ]
    },
    {
      "cell_type": "code",
      "metadata": {
        "colab": {
          "base_uri": "https://localhost:8080/"
        },
        "id": "RPpSV3toVPhJ",
        "outputId": "7e55c78c-1bf1-41c2-f0e5-adf5bbadf296"
      },
      "source": [
        "tn = pr_array[0][0]\r\n",
        "fp = pr_array[0][1]\r\n",
        "fn = pr_array[1][0]\r\n",
        "tp = pr_array[1][1]\r\n",
        "\r\n",
        "print('tp: %d, fp: %d, fn: %d, tn: %d'%(tp, fp, fn, tn))"
      ],
      "execution_count": 15,
      "outputs": [
        {
          "output_type": "stream",
          "text": [
            "tp: 2, fp: 7, fn: 7, tn: 4\n"
          ],
          "name": "stdout"
        }
      ]
    },
    {
      "cell_type": "markdown",
      "metadata": {
        "id": "_11AyZdvi1Z7"
      },
      "source": [
        "### Accuracy (정확도)"
      ]
    },
    {
      "cell_type": "code",
      "metadata": {
        "id": "z8faoU44Y6xq"
      },
      "source": [
        ""
      ],
      "execution_count": null,
      "outputs": []
    }
  ]
}