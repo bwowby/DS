{
  "nbformat": 4,
  "nbformat_minor": 0,
  "metadata": {
    "colab": {
      "name": "evaluation.ipynb",
      "provenance": [],
      "collapsed_sections": [],
      "authorship_tag": "ABX9TyPa3FhjNzB63/S/JNTMnTET",
      "include_colab_link": true
    },
    "kernelspec": {
      "name": "python3",
      "display_name": "Python 3"
    }
  },
  "cells": [
    {
      "cell_type": "markdown",
      "metadata": {
        "id": "view-in-github",
        "colab_type": "text"
      },
      "source": [
        "<a href=\"https://colab.research.google.com/github/bwowby/DS/blob/master/ir-basic/evaluation.ipynb\" target=\"_parent\"><img src=\"https://colab.research.google.com/assets/colab-badge.svg\" alt=\"Open In Colab\"/></a>"
      ]
    },
    {
      "cell_type": "code",
      "metadata": {
        "id": "2AEZyATTFFJB"
      },
      "source": [
        "import numpy as np"
      ],
      "execution_count": 1,
      "outputs": []
    },
    {
      "cell_type": "code",
      "metadata": {
        "colab": {
          "base_uri": "https://localhost:8080/"
        },
        "id": "rN2EXZ32G7Ud",
        "outputId": "272fcc18-6e35-486f-e79a-b2051139163f"
      },
      "source": [
        "#random dataset\r\n",
        "\r\n",
        "np.random.seed(123)\r\n",
        "\r\n",
        "y_true = np.random.randint(low=0, high=2, size=20)\r\n",
        "y_pred = np.random.randint(low=0, high=2, size=20)\r\n",
        "\r\n",
        "print(y_true.shape, y_pred.shape)\r\n",
        "print(y_pred.shape, y_pred.shape)\r\n",
        "\r\n",
        "print(y_true)\r\n",
        "print(y_pred)\r\n"
      ],
      "execution_count": 5,
      "outputs": [
        {
          "output_type": "stream",
          "text": [
            "(20,) (20,)\n",
            "(20,) (20,)\n",
            "[0 1 0 0 0 0 0 1 1 0 1 1 0 1 0 1 0 1 1 0]\n",
            "[0 0 1 1 1 0 1 0 0 0 0 1 1 1 0 0 1 0 0 1]\n"
          ],
          "name": "stdout"
        }
      ]
    },
    {
      "cell_type": "code",
      "metadata": {
        "id": "FY8KFjP_U860"
      },
      "source": [
        "from sklearn.metrics import confusion_matrix\r\n",
        "\r\n",
        "pr_array = confusion_matrix(y_true,y_pred)"
      ],
      "execution_count": 9,
      "outputs": []
    },
    {
      "cell_type": "markdown",
      "metadata": {
        "id": "0PG6e-3ei8Zb"
      },
      "source": [
        "### Confusion Matrix"
      ]
    },
    {
      "cell_type": "code",
      "metadata": {
        "colab": {
          "base_uri": "https://localhost:8080/"
        },
        "id": "RPpSV3toVPhJ",
        "outputId": "7e55c78c-1bf1-41c2-f0e5-adf5bbadf296"
      },
      "source": [
        "tn = pr_array[0][0]\r\n",
        "fp = pr_array[0][1]\r\n",
        "fn = pr_array[1][0]\r\n",
        "tp = pr_array[1][1]\r\n",
        "\r\n",
        "print('tp: %d, fp: %d, fn: %d, tn: %d'%(tp, fp, fn, tn))"
      ],
      "execution_count": 15,
      "outputs": [
        {
          "output_type": "stream",
          "text": [
            "tp: 2, fp: 7, fn: 7, tn: 4\n"
          ],
          "name": "stdout"
        }
      ]
    },
    {
      "cell_type": "markdown",
      "metadata": {
        "id": "_11AyZdvi1Z7"
      },
      "source": [
        "### Accuracy (정확도)"
      ]
    },
    {
      "cell_type": "code",
      "metadata": {
        "colab": {
          "base_uri": "https://localhost:8080/"
        },
        "id": "z8faoU44Y6xq",
        "outputId": "f62e3821-6db2-4c40-e75e-eace7148851a"
      },
      "source": [
        "n_correct = sum(y_pred == y_true)\r\n",
        "accuracy1 = n_correct / len(y_pred)\r\n",
        "\r\n",
        "accuracy1"
      ],
      "execution_count": 18,
      "outputs": [
        {
          "output_type": "execute_result",
          "data": {
            "text/plain": [
              "0.3"
            ]
          },
          "metadata": {
            "tags": []
          },
          "execution_count": 18
        }
      ]
    },
    {
      "cell_type": "code",
      "metadata": {
        "colab": {
          "base_uri": "https://localhost:8080/"
        },
        "id": "w5dMSYx_jpK0",
        "outputId": "2183c266-90a9-498a-e073-48d2a431a7d3"
      },
      "source": [
        "accracy2 = (y_pred == y_true).mean(axis=0)\r\n",
        "accracy2"
      ],
      "execution_count": 19,
      "outputs": [
        {
          "output_type": "execute_result",
          "data": {
            "text/plain": [
              "0.3"
            ]
          },
          "metadata": {
            "tags": []
          },
          "execution_count": 19
        }
      ]
    },
    {
      "cell_type": "code",
      "metadata": {
        "colab": {
          "base_uri": "https://localhost:8080/"
        },
        "id": "qbGhhb26poci",
        "outputId": "4287f060-c149-4961-cfcf-e13de6c380fe"
      },
      "source": [
        "from sklearn.metrics import accuracy_score\r\n",
        "\r\n",
        "accuracy3 = accuracy_score(y_true, y_pred)\r\n",
        "accuracy3"
      ],
      "execution_count": 21,
      "outputs": [
        {
          "output_type": "execute_result",
          "data": {
            "text/plain": [
              "0.3"
            ]
          },
          "metadata": {
            "tags": []
          },
          "execution_count": 21
        }
      ]
    },
    {
      "cell_type": "markdown",
      "metadata": {
        "id": "-xwyqL2DqXax"
      },
      "source": [
        "### Precision(정밀도)"
      ]
    },
    {
      "cell_type": "code",
      "metadata": {
        "colab": {
          "base_uri": "https://localhost:8080/"
        },
        "id": "XQYYCN0mqN7P",
        "outputId": "51e277fd-6cdb-4472-d03b-325c88aa7b36"
      },
      "source": [
        "precision1 = tp / (fp+tp)\r\n",
        "precision1"
      ],
      "execution_count": 22,
      "outputs": [
        {
          "output_type": "execute_result",
          "data": {
            "text/plain": [
              "0.2222222222222222"
            ]
          },
          "metadata": {
            "tags": []
          },
          "execution_count": 22
        }
      ]
    },
    {
      "cell_type": "code",
      "metadata": {
        "colab": {
          "base_uri": "https://localhost:8080/"
        },
        "id": "nZRt88rbqhVK",
        "outputId": "f614ec73-9180-463f-d172-1b79d967d0f0"
      },
      "source": [
        "from sklearn.metrics import precision_score\r\n",
        "\r\n",
        "precision2 = precision_score(y_true,y_pred)\r\n",
        "precision2"
      ],
      "execution_count": 24,
      "outputs": [
        {
          "output_type": "execute_result",
          "data": {
            "text/plain": [
              "0.2222222222222222"
            ]
          },
          "metadata": {
            "tags": []
          },
          "execution_count": 24
        }
      ]
    },
    {
      "cell_type": "markdown",
      "metadata": {
        "id": "Qn1uq9qXtIcQ"
      },
      "source": [
        "### Recall(재현율,민감도,TPR)"
      ]
    },
    {
      "cell_type": "code",
      "metadata": {
        "colab": {
          "base_uri": "https://localhost:8080/"
        },
        "id": "tqBy9EqHtH0H",
        "outputId": "bbdc61bb-b40c-4003-b118-08fb4e485607"
      },
      "source": [
        "recall1 = tp / (fn+tp)\r\n",
        "recall1"
      ],
      "execution_count": 26,
      "outputs": [
        {
          "output_type": "execute_result",
          "data": {
            "text/plain": [
              "0.2222222222222222"
            ]
          },
          "metadata": {
            "tags": []
          },
          "execution_count": 26
        }
      ]
    },
    {
      "cell_type": "code",
      "metadata": {
        "colab": {
          "base_uri": "https://localhost:8080/"
        },
        "id": "c_LDhPQ6qrCw",
        "outputId": "c73163e0-460a-4f13-eb7a-1d4d54679d55"
      },
      "source": [
        "from sklearn.metrics import recall_score\r\n",
        "\r\n",
        "recall2 = recall_score(y_true, y_pred)\r\n",
        "recall2"
      ],
      "execution_count": 27,
      "outputs": [
        {
          "output_type": "execute_result",
          "data": {
            "text/plain": [
              "0.2222222222222222"
            ]
          },
          "metadata": {
            "tags": []
          },
          "execution_count": 27
        }
      ]
    },
    {
      "cell_type": "markdown",
      "metadata": {
        "id": "zrBltGtftHMI"
      },
      "source": [
        "### F1 Score\r\n",
        "precision recall의 가중조화 평균 중 베타값이 1일때의 지표.   \r\n",
        "어느 한쪽으로 치우치지 않을 때 상태적으로 높은 값을 지님."
      ]
    },
    {
      "cell_type": "code",
      "metadata": {
        "colab": {
          "base_uri": "https://localhost:8080/"
        },
        "id": "b9D13qfqt3JG",
        "outputId": "e66ce7d8-f398-436c-ecdd-5a116631b815"
      },
      "source": [
        "f1_1 = (2 *precision1 * recall1) / (precision1 + recall1)\r\n",
        "f1_1"
      ],
      "execution_count": 29,
      "outputs": [
        {
          "output_type": "execute_result",
          "data": {
            "text/plain": [
              "0.2222222222222222"
            ]
          },
          "metadata": {
            "tags": []
          },
          "execution_count": 29
        }
      ]
    },
    {
      "cell_type": "code",
      "metadata": {
        "colab": {
          "base_uri": "https://localhost:8080/"
        },
        "id": "Ci7jNsa5uTs1",
        "outputId": "003e6b68-a81c-42a2-eac5-eb7bc00b4fcd"
      },
      "source": [
        "from sklearn.metrics import f1_score\r\n",
        "\r\n",
        "f1_2 = f1_score(y_true, y_pred)\r\n",
        "f1_2"
      ],
      "execution_count": 30,
      "outputs": [
        {
          "output_type": "execute_result",
          "data": {
            "text/plain": [
              "0.2222222222222222"
            ]
          },
          "metadata": {
            "tags": []
          },
          "execution_count": 30
        }
      ]
    },
    {
      "cell_type": "code",
      "metadata": {
        "colab": {
          "base_uri": "https://localhost:8080/"
        },
        "id": "j6JVkCf5um75",
        "outputId": "c0b364de-e1e8-4f75-f4bc-2d41f547cd49"
      },
      "source": [
        "#classification repoort\r\n",
        "from sklearn.metrics import classification_report\r\n",
        "\r\n",
        "print(classification_report(y_true,y_pred, target_names=['claas0','class1']))"
      ],
      "execution_count": 34,
      "outputs": [
        {
          "output_type": "stream",
          "text": [
            "              precision    recall  f1-score   support\n",
            "\n",
            "      claas0       0.36      0.36      0.36        11\n",
            "      class1       0.22      0.22      0.22         9\n",
            "\n",
            "    accuracy                           0.30        20\n",
            "   macro avg       0.29      0.29      0.29        20\n",
            "weighted avg       0.30      0.30      0.30        20\n",
            "\n"
          ],
          "name": "stdout"
        }
      ]
    },
    {
      "cell_type": "markdown",
      "metadata": {
        "id": "Y3c8TdQJ0TbM"
      },
      "source": [
        "### ROC 곡선과 AUC\r\n",
        "\r\n",
        "True Positive Rate (TPR) == Recall   \r\n",
        "True Negative Rate (TNR) == specificity\r\n",
        "False Positive Rate (FPR)   \r\n",
        "TPR 과 TNR 반비례   \r\n",
        "TPR FPR 은 비레\r\n"
      ]
    },
    {
      "cell_type": "code",
      "metadata": {
        "id": "KnKTeEJswfWw"
      },
      "source": [
        "from sklearn.metrics import roc_auc_score\r\n"
      ],
      "execution_count": null,
      "outputs": []
    }
  ]
}