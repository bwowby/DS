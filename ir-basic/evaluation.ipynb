{
  "nbformat": 4,
  "nbformat_minor": 0,
  "metadata": {
    "colab": {
      "name": "evaluation.ipynb",
      "provenance": [],
      "collapsed_sections": [],
      "authorship_tag": "ABX9TyPyQAdXpePWvOFeG/wBbWZ7",
      "include_colab_link": true
    },
    "kernelspec": {
      "name": "python3",
      "display_name": "Python 3"
    }
  },
  "cells": [
    {
      "cell_type": "markdown",
      "metadata": {
        "id": "view-in-github",
        "colab_type": "text"
      },
      "source": [
        "<a href=\"https://colab.research.google.com/github/bwowby/DS/blob/master/ir-basic/evaluation.ipynb\" target=\"_parent\"><img src=\"https://colab.research.google.com/assets/colab-badge.svg\" alt=\"Open In Colab\"/></a>"
      ]
    },
    {
      "cell_type": "code",
      "metadata": {
        "id": "2AEZyATTFFJB"
      },
      "source": [
        "import numpy as np"
      ],
      "execution_count": 2,
      "outputs": []
    },
    {
      "cell_type": "code",
      "metadata": {
        "colab": {
          "base_uri": "https://localhost:8080/"
        },
        "id": "rN2EXZ32G7Ud",
        "outputId": "1ab1552a-1ec5-46b9-8226-c76be2476cd4"
      },
      "source": [
        "#random dataset\r\n",
        "\r\n",
        "np.random.seed(123)\r\n",
        "\r\n",
        "y_true = np.random.randint(low=0, high=2, size=20)\r\n",
        "y_pred = np.random.randint(low=0, high=2, size=20)\r\n",
        "\r\n",
        "print(y_true.shape, y_pred.shape)\r\n",
        "print(y_pred.shape, y_pred.shape)\r\n",
        "\r\n",
        "print(y_true)\r\n",
        "print(y_pred)\r\n"
      ],
      "execution_count": 3,
      "outputs": [
        {
          "output_type": "stream",
          "text": [
            "(20,) (20,)\n",
            "(20,) (20,)\n",
            "[0 1 0 0 0 0 0 1 1 0 1 1 0 1 0 1 0 1 1 0]\n",
            "[0 0 1 1 1 0 1 0 0 0 0 1 1 1 0 0 1 0 0 1]\n"
          ],
          "name": "stdout"
        }
      ]
    },
    {
      "cell_type": "code",
      "metadata": {
        "id": "FY8KFjP_U860"
      },
      "source": [
        "from sklearn.metrics import confusion_matrix\r\n",
        "\r\n",
        "pr_array = confusion_matrix(y_true,y_pred)"
      ],
      "execution_count": 4,
      "outputs": []
    },
    {
      "cell_type": "markdown",
      "metadata": {
        "id": "gw7uIJl2y1IS"
      },
      "source": [
        "## Classification Evaluation"
      ]
    },
    {
      "cell_type": "markdown",
      "metadata": {
        "id": "0PG6e-3ei8Zb"
      },
      "source": [
        "### Confusion Matrix"
      ]
    },
    {
      "cell_type": "code",
      "metadata": {
        "colab": {
          "base_uri": "https://localhost:8080/"
        },
        "id": "RPpSV3toVPhJ",
        "outputId": "811f1547-13bf-4b05-94cb-7582f0cc2ec9"
      },
      "source": [
        "\r\n",
        "tn = pr_array[0][0]\r\n",
        "fp = pr_array[0][1]\r\n",
        "fn = pr_array[1][0]\r\n",
        "tp = pr_array[1][1]\r\n",
        "\r\n",
        "print('tp: %d, fp: %d, fn: %d, tn: %d'%(tp, fp, fn, tn))"
      ],
      "execution_count": 5,
      "outputs": [
        {
          "output_type": "stream",
          "text": [
            "tp: 2, fp: 7, fn: 7, tn: 4\n"
          ],
          "name": "stdout"
        }
      ]
    },
    {
      "cell_type": "markdown",
      "metadata": {
        "id": "_11AyZdvi1Z7"
      },
      "source": [
        "### Accuracy (정확도)"
      ]
    },
    {
      "cell_type": "code",
      "metadata": {
        "colab": {
          "base_uri": "https://localhost:8080/"
        },
        "id": "z8faoU44Y6xq",
        "outputId": "839d315c-5482-401c-f079-d9a584fc942e"
      },
      "source": [
        "n_correct = sum(y_pred == y_true)\r\n",
        "accuracy1 = n_correct / len(y_pred)\r\n",
        "\r\n",
        "accuracy1"
      ],
      "execution_count": 6,
      "outputs": [
        {
          "output_type": "execute_result",
          "data": {
            "text/plain": [
              "0.3"
            ]
          },
          "metadata": {
            "tags": []
          },
          "execution_count": 6
        }
      ]
    },
    {
      "cell_type": "code",
      "metadata": {
        "colab": {
          "base_uri": "https://localhost:8080/"
        },
        "id": "w5dMSYx_jpK0",
        "outputId": "4eb68bd5-1e71-4348-9639-49bb52f16716"
      },
      "source": [
        "accracy2 = (y_pred == y_true).mean(axis=0)\r\n",
        "accracy2"
      ],
      "execution_count": 7,
      "outputs": [
        {
          "output_type": "execute_result",
          "data": {
            "text/plain": [
              "0.3"
            ]
          },
          "metadata": {
            "tags": []
          },
          "execution_count": 7
        }
      ]
    },
    {
      "cell_type": "code",
      "metadata": {
        "colab": {
          "base_uri": "https://localhost:8080/"
        },
        "id": "qbGhhb26poci",
        "outputId": "9f9a6019-adcc-4a28-d6aa-f59b334d3ba7"
      },
      "source": [
        "from sklearn.metrics import accuracy_score\r\n",
        "\r\n",
        "accuracy3 = accuracy_score(y_true, y_pred)\r\n",
        "accuracy3"
      ],
      "execution_count": 8,
      "outputs": [
        {
          "output_type": "execute_result",
          "data": {
            "text/plain": [
              "0.3"
            ]
          },
          "metadata": {
            "tags": []
          },
          "execution_count": 8
        }
      ]
    },
    {
      "cell_type": "markdown",
      "metadata": {
        "id": "-xwyqL2DqXax"
      },
      "source": [
        "### Precision(정밀도)"
      ]
    },
    {
      "cell_type": "code",
      "metadata": {
        "colab": {
          "base_uri": "https://localhost:8080/"
        },
        "id": "XQYYCN0mqN7P",
        "outputId": "a4c8422c-231a-4875-e13c-aa1d0c458018"
      },
      "source": [
        "precision1 = tp / (fp+tp)\r\n",
        "precision1"
      ],
      "execution_count": 9,
      "outputs": [
        {
          "output_type": "execute_result",
          "data": {
            "text/plain": [
              "0.2222222222222222"
            ]
          },
          "metadata": {
            "tags": []
          },
          "execution_count": 9
        }
      ]
    },
    {
      "cell_type": "code",
      "metadata": {
        "colab": {
          "base_uri": "https://localhost:8080/"
        },
        "id": "nZRt88rbqhVK",
        "outputId": "dfd26f88-8600-42db-e247-e51f5f915a3e"
      },
      "source": [
        "from sklearn.metrics import precision_score\r\n",
        "\r\n",
        "precision2 = precision_score(y_true,y_pred)\r\n",
        "precision2"
      ],
      "execution_count": 10,
      "outputs": [
        {
          "output_type": "execute_result",
          "data": {
            "text/plain": [
              "0.2222222222222222"
            ]
          },
          "metadata": {
            "tags": []
          },
          "execution_count": 10
        }
      ]
    },
    {
      "cell_type": "markdown",
      "metadata": {
        "id": "Qn1uq9qXtIcQ"
      },
      "source": [
        "### Recall(재현율,민감도,TPR)"
      ]
    },
    {
      "cell_type": "code",
      "metadata": {
        "colab": {
          "base_uri": "https://localhost:8080/"
        },
        "id": "tqBy9EqHtH0H",
        "outputId": "a131f48f-b5ad-4127-e203-854b2da68a85"
      },
      "source": [
        "recall1 = tp / (fn+tp)\r\n",
        "recall1"
      ],
      "execution_count": 11,
      "outputs": [
        {
          "output_type": "execute_result",
          "data": {
            "text/plain": [
              "0.2222222222222222"
            ]
          },
          "metadata": {
            "tags": []
          },
          "execution_count": 11
        }
      ]
    },
    {
      "cell_type": "code",
      "metadata": {
        "colab": {
          "base_uri": "https://localhost:8080/"
        },
        "id": "c_LDhPQ6qrCw",
        "outputId": "a7e0c1c8-5b52-459f-f4e4-9291b6fa6af2"
      },
      "source": [
        "from sklearn.metrics import recall_score\r\n",
        "\r\n",
        "recall2 = recall_score(y_true, y_pred)\r\n",
        "recall2"
      ],
      "execution_count": 12,
      "outputs": [
        {
          "output_type": "execute_result",
          "data": {
            "text/plain": [
              "0.2222222222222222"
            ]
          },
          "metadata": {
            "tags": []
          },
          "execution_count": 12
        }
      ]
    },
    {
      "cell_type": "markdown",
      "metadata": {
        "id": "zrBltGtftHMI"
      },
      "source": [
        "### F1 Score\r\n",
        "precision recall의 가중조화 평균 중 베타값이 1일때의 지표.   \r\n",
        "어느 한쪽으로 치우치지 않을 때 상태적으로 높은 값을 지님."
      ]
    },
    {
      "cell_type": "code",
      "metadata": {
        "colab": {
          "base_uri": "https://localhost:8080/"
        },
        "id": "b9D13qfqt3JG",
        "outputId": "3bf4e8ea-4b6b-4644-f0f0-3305ea6ed1a2"
      },
      "source": [
        "f1_1 = (2 *precision1 * recall1) / (precision1 + recall1)\r\n",
        "f1_1"
      ],
      "execution_count": 13,
      "outputs": [
        {
          "output_type": "execute_result",
          "data": {
            "text/plain": [
              "0.2222222222222222"
            ]
          },
          "metadata": {
            "tags": []
          },
          "execution_count": 13
        }
      ]
    },
    {
      "cell_type": "code",
      "metadata": {
        "colab": {
          "base_uri": "https://localhost:8080/"
        },
        "id": "Ci7jNsa5uTs1",
        "outputId": "a3272d58-a7c5-4e7a-c550-6f329641dd04"
      },
      "source": [
        "from sklearn.metrics import f1_score\r\n",
        "\r\n",
        "f1_2 = f1_score(y_true, y_pred)\r\n",
        "f1_2"
      ],
      "execution_count": 14,
      "outputs": [
        {
          "output_type": "execute_result",
          "data": {
            "text/plain": [
              "0.2222222222222222"
            ]
          },
          "metadata": {
            "tags": []
          },
          "execution_count": 14
        }
      ]
    },
    {
      "cell_type": "code",
      "metadata": {
        "colab": {
          "base_uri": "https://localhost:8080/"
        },
        "id": "j6JVkCf5um75",
        "outputId": "f8d82706-e797-4e04-c641-bfabee6ccf72"
      },
      "source": [
        "#classification repoort\r\n",
        "from sklearn.metrics import classification_report\r\n",
        "\r\n",
        "print(classification_report(y_true,y_pred, target_names=['claas0','class1']))"
      ],
      "execution_count": 15,
      "outputs": [
        {
          "output_type": "stream",
          "text": [
            "              precision    recall  f1-score   support\n",
            "\n",
            "      claas0       0.36      0.36      0.36        11\n",
            "      class1       0.22      0.22      0.22         9\n",
            "\n",
            "    accuracy                           0.30        20\n",
            "   macro avg       0.29      0.29      0.29        20\n",
            "weighted avg       0.30      0.30      0.30        20\n",
            "\n"
          ],
          "name": "stdout"
        }
      ]
    },
    {
      "cell_type": "markdown",
      "metadata": {
        "id": "Y3c8TdQJ0TbM"
      },
      "source": [
        "### ROC 곡선과 AUC\r\n",
        "\r\n",
        "* True Positive Rate (TPR) == Recall   \r\n",
        "* True Negative Rate (TNR) == specificity   \r\n",
        "* False Positive Rate (FPR) == 1 - TNR \r\n",
        "TPR 과 TNR 반비례   \r\n",
        "TPR FPR 은 비레\r\n",
        "\r\n",
        "\r\n",
        "* ROC 곡선: FPR이 변할떄 TPR이 어떻게 변하는지를 나타내는 곡선. ROC 곡선 아래의 면적인 AUC 가 1에 가까울수록 좋은 수치\r\n",
        "\r\n"
      ]
    },
    {
      "cell_type": "code",
      "metadata": {
        "id": "YJcqk3E2wMgo"
      },
      "source": [
        "from sklearn.metrics import roc_auc_score"
      ],
      "execution_count": 16,
      "outputs": []
    },
    {
      "cell_type": "code",
      "metadata": {
        "colab": {
          "base_uri": "https://localhost:8080/"
        },
        "id": "KnKTeEJswfWw",
        "outputId": "859d1a22-74c4-49c8-eaf5-cb9bac1932ce"
      },
      "source": [
        "roc_score = roc_auc_score(y_true,y_pred)\r\n",
        "\r\n",
        "roc_score"
      ],
      "execution_count": 17,
      "outputs": [
        {
          "output_type": "execute_result",
          "data": {
            "text/plain": [
              "0.29292929292929293"
            ]
          },
          "metadata": {
            "tags": []
          },
          "execution_count": 17
        }
      ]
    },
    {
      "cell_type": "code",
      "metadata": {
        "id": "zHIgktDA35gz"
      },
      "source": [
        "import matplotlib.pyplot as plt\r\n",
        "\r\n",
        "from sklearn.metrics import roc_curve\r\n",
        "\r\n",
        "%matplotlib inline"
      ],
      "execution_count": 18,
      "outputs": []
    },
    {
      "cell_type": "code",
      "metadata": {
        "colab": {
          "base_uri": "https://localhost:8080/"
        },
        "id": "_lVt9GVk4XbW",
        "outputId": "f320301b-6c31-43eb-fe83-b7dfd63566e2"
      },
      "source": [
        "fpr,tpr,threshholds = roc_curve(y_true,y_pred)\r\n",
        "print(fpr,tpr,threshholds )"
      ],
      "execution_count": 19,
      "outputs": [
        {
          "output_type": "stream",
          "text": [
            "[0.         0.63636364 1.        ] [0.         0.22222222 1.        ] [2 1 0]\n"
          ],
          "name": "stdout"
        }
      ]
    },
    {
      "cell_type": "code",
      "metadata": {
        "colab": {
          "base_uri": "https://localhost:8080/",
          "height": 301
        },
        "id": "w6mwGLhU4kiL",
        "outputId": "cc7d4233-6ca4-4992-8c59-c9080d734ac8"
      },
      "source": [
        "plt.plot(fpr,tpr, label=\"ROC\")\r\n",
        "plt.plot([0,1],[0,1], 'k--', label=\"Random\")\r\n",
        "plt.legend()\r\n",
        "\r\n",
        "start,end = plt.xlim()\r\n",
        "plt.xticks(np.round(np.arange(start, end, 0.1),2))\r\n",
        "plt.xlim(0,1); plt.ylim(0,1)\r\n",
        "\r\n",
        "plt.xlabel('FPR(1-Specifity)')\r\n",
        "plt.ylabel('TPR(Recall)')"
      ],
      "execution_count": 20,
      "outputs": [
        {
          "output_type": "execute_result",
          "data": {
            "text/plain": [
              "Text(0, 0.5, 'TPR(Recall)')"
            ]
          },
          "metadata": {
            "tags": []
          },
          "execution_count": 20
        },
        {
          "output_type": "display_data",
          "data": {
            "image/png": "[encoded data removed]",
            "text/plain": [
              "<Figure size 432x288 with 1 Axes>"
            ]
          },
          "metadata": {
            "tags": [],
            "needs_background": "light"
          }
        }
      ]
    },
    {
      "cell_type": "markdown",
      "metadata": {
        "id": "h1Jv2pPi8aNG"
      },
      "source": [
        "### Log Loss\r\n",
        "Log Loss를 최소화하면 분류 모델의 accuracy가 높아짐."
      ]
    },
    {
      "cell_type": "code",
      "metadata": {
        "colab": {
          "base_uri": "https://localhost:8080/"
        },
        "id": "zbNHf7O943JK",
        "outputId": "885352a6-775f-4e02-b938-7da2218a7663"
      },
      "source": [
        "from sklearn.metrics import log_loss\r\n",
        "\r\n",
        "log_loss = log_loss(y_true,y_pred)\r\n",
        "log_loss"
      ],
      "execution_count": 21,
      "outputs": [
        {
          "output_type": "execute_result",
          "data": {
            "text/plain": [
              "24.177423335538045"
            ]
          },
          "metadata": {
            "tags": []
          },
          "execution_count": 21
        }
      ]
    },
    {
      "cell_type": "markdown",
      "metadata": {
        "id": "Asyoi3es9cBL"
      },
      "source": [
        "## Regression Evaluation\r\n",
        "MAE, MSE, RMSE, R^2, MSLE, RMSLE"
      ]
    },
    {
      "cell_type": "code",
      "metadata": {
        "colab": {
          "base_uri": "https://localhost:8080/",
          "height": 385
        },
        "id": "uotesA2-8wVy",
        "outputId": "0bb6cf7a-b858-4b20-b441-e19d23c38cb8"
      },
      "source": [
        "import numpy as np\r\n",
        "import pandas as pd\r\n",
        "\r\n",
        "np.random.seed = 123\r\n",
        "\r\n",
        "y_true = np.random.randint(low=10, high=900, size=500)\r\n",
        "y_pred = y_true + np.round(np.random.random(500), decimals=1) * np.random.randint(low=-10, high=10, size=500)\r\n",
        "\r\n",
        "print(y_true.shape)\r\n",
        "print(y_pred.shape)\r\n",
        "\r\n",
        "y_df = pd.DataFrame(y_true, columns=['y_true'])\r\n",
        "y_df['y_pred'] = y_pred\r\n",
        "y_df[y_df['y_true'] > y_df['y_pred']].head(10)"
      ],
      "execution_count": 22,
      "outputs": [
        {
          "output_type": "stream",
          "text": [
            "(500,)\n",
            "(500,)\n"
          ],
          "name": "stdout"
        },
        {
          "output_type": "execute_result",
          "data": {
            "text/html": [
              "<div>\n",
              "<style scoped>\n",
              "    .dataframe tbody tr th:only-of-type {\n",
              "        vertical-align: middle;\n",
              "    }\n",
              "\n",
              "    .dataframe tbody tr th {\n",
              "        vertical-align: top;\n",
              "    }\n",
              "\n",
              "    .dataframe thead th {\n",
              "        text-align: right;\n",
              "    }\n",
              "</style>\n",
              "<table border=\"1\" class=\"dataframe\">\n",
              "  <thead>\n",
              "    <tr style=\"text-align: right;\">\n",
              "      <th></th>\n",
              "      <th>y_true</th>\n",
              "      <th>y_pred</th>\n",
              "    </tr>\n",
              "  </thead>\n",
              "  <tbody>\n",
              "    <tr>\n",
              "      <th>6</th>\n",
              "      <td>870</td>\n",
              "      <td>868.4</td>\n",
              "    </tr>\n",
              "    <tr>\n",
              "      <th>7</th>\n",
              "      <td>190</td>\n",
              "      <td>189.4</td>\n",
              "    </tr>\n",
              "    <tr>\n",
              "      <th>8</th>\n",
              "      <td>368</td>\n",
              "      <td>366.2</td>\n",
              "    </tr>\n",
              "    <tr>\n",
              "      <th>12</th>\n",
              "      <td>872</td>\n",
              "      <td>864.8</td>\n",
              "    </tr>\n",
              "    <tr>\n",
              "      <th>13</th>\n",
              "      <td>421</td>\n",
              "      <td>419.5</td>\n",
              "    </tr>\n",
              "    <tr>\n",
              "      <th>14</th>\n",
              "      <td>300</td>\n",
              "      <td>294.0</td>\n",
              "    </tr>\n",
              "    <tr>\n",
              "      <th>16</th>\n",
              "      <td>690</td>\n",
              "      <td>682.8</td>\n",
              "    </tr>\n",
              "    <tr>\n",
              "      <th>18</th>\n",
              "      <td>847</td>\n",
              "      <td>846.2</td>\n",
              "    </tr>\n",
              "    <tr>\n",
              "      <th>19</th>\n",
              "      <td>586</td>\n",
              "      <td>584.6</td>\n",
              "    </tr>\n",
              "    <tr>\n",
              "      <th>21</th>\n",
              "      <td>428</td>\n",
              "      <td>423.0</td>\n",
              "    </tr>\n",
              "  </tbody>\n",
              "</table>\n",
              "</div>"
            ],
            "text/plain": [
              "    y_true  y_pred\n",
              "6      870   868.4\n",
              "7      190   189.4\n",
              "8      368   366.2\n",
              "12     872   864.8\n",
              "13     421   419.5\n",
              "14     300   294.0\n",
              "16     690   682.8\n",
              "18     847   846.2\n",
              "19     586   584.6\n",
              "21     428   423.0"
            ]
          },
          "metadata": {
            "tags": []
          },
          "execution_count": 22
        }
      ]
    },
    {
      "cell_type": "markdown",
      "metadata": {
        "id": "7SrTsCeY_oqu"
      },
      "source": [
        "### MAE(Mean Absolute Error)\r\n",
        "(실제값 - 측정값) 절댓값의 평균"
      ]
    },
    {
      "cell_type": "code",
      "metadata": {
        "colab": {
          "base_uri": "https://localhost:8080/"
        },
        "id": "cpdZj5Cr-uN7",
        "outputId": "86fc8dd7-b23a-4cfc-f48d-8b448817056d"
      },
      "source": [
        "mae_1 = abs(y_pred - y_true).mean()\r\n",
        "mae_1"
      ],
      "execution_count": 25,
      "outputs": [
        {
          "output_type": "execute_result",
          "data": {
            "text/plain": [
              "2.7018"
            ]
          },
          "metadata": {
            "tags": []
          },
          "execution_count": 25
        }
      ]
    },
    {
      "cell_type": "code",
      "metadata": {
        "colab": {
          "base_uri": "https://localhost:8080/"
        },
        "id": "LjorOq0oAOi8",
        "outputId": "ce55047a-2053-42ed-ef8d-1a4994f8b76a"
      },
      "source": [
        "from sklearn.metrics import mean_absolute_error\r\n",
        "mae_2 = mean_absolute_error(y_true,y_pred)\r\n",
        "\r\n",
        "mae_2"
      ],
      "execution_count": 28,
      "outputs": [
        {
          "output_type": "execute_result",
          "data": {
            "text/plain": [
              "2.7018"
            ]
          },
          "metadata": {
            "tags": []
          },
          "execution_count": 28
        }
      ]
    },
    {
      "cell_type": "markdown",
      "metadata": {
        "id": "lGLyJpWYWLri"
      },
      "source": [
        "### MSE (Mean Squared Error)"
      ]
    },
    {
      "cell_type": "code",
      "metadata": {
        "colab": {
          "base_uri": "https://localhost:8080/"
        },
        "id": "GvI3gJYMVeIx",
        "outputId": "ac01e1fa-5fce-4a64-d9bb-7e01721e8711"
      },
      "source": [
        "mse_1 = ((y_pred - y_true)**2).mean()\r\n",
        "mse_1"
      ],
      "execution_count": 29,
      "outputs": [
        {
          "output_type": "execute_result",
          "data": {
            "text/plain": [
              "12.55222"
            ]
          },
          "metadata": {
            "tags": []
          },
          "execution_count": 29
        }
      ]
    },
    {
      "cell_type": "code",
      "metadata": {
        "colab": {
          "base_uri": "https://localhost:8080/"
        },
        "id": "gYpiz-GhXNHt",
        "outputId": "b94850fb-9400-4f01-c333-3850922bc517"
      },
      "source": [
        "from sklearn.metrics import mean_squared_error\r\n",
        "mse_2 = mean_squared_error(y_true,y_pred)\r\n",
        "mse_2"
      ],
      "execution_count": 31,
      "outputs": [
        {
          "output_type": "execute_result",
          "data": {
            "text/plain": [
              "12.55222"
            ]
          },
          "metadata": {
            "tags": []
          },
          "execution_count": 31
        }
      ]
    },
    {
      "cell_type": "markdown",
      "metadata": {
        "id": "rDN9dKg6b1cs"
      },
      "source": [
        "### RMSE (Root Mean Squared Error)\r\n",
        "MSE가 제곱을 하여 실제 오류 평균보다 커지는 특성이 있어 루트 씌운것"
      ]
    },
    {
      "cell_type": "code",
      "metadata": {
        "colab": {
          "base_uri": "https://localhost:8080/"
        },
        "id": "YQEHw7-dcBVa",
        "outputId": "2a3503b5-341c-4a5d-957d-321bb172a456"
      },
      "source": [
        "mse = ((y_pred - y_true)**2).mean()\r\n",
        "rmse = np.sqrt(mse)\r\n",
        "rmse"
      ],
      "execution_count": 32,
      "outputs": [
        {
          "output_type": "execute_result",
          "data": {
            "text/plain": [
              "3.5429112323059972"
            ]
          },
          "metadata": {
            "tags": []
          },
          "execution_count": 32
        }
      ]
    },
    {
      "cell_type": "markdown",
      "metadata": {
        "id": "q4O8b20oeznq"
      },
      "source": [
        "### MSLE (Mean Squared Logarithmic Error)\r\n",
        "각 예측과 실제값에 로그 취한 값의 차이 제곱의 평균"
      ]
    },
    {
      "cell_type": "code",
      "metadata": {
        "colab": {
          "base_uri": "https://localhost:8080/"
        },
        "id": "JTDjX4XXevLD",
        "outputId": "2cd360df-6765-4a39-aaee-62d505303517"
      },
      "source": [
        "msle_1 = ((np.log1p(y_true) - np.log1p(y_pred))**2).mean()\r\n",
        "msle_1"
      ],
      "execution_count": 40,
      "outputs": [
        {
          "output_type": "execute_result",
          "data": {
            "text/plain": [
              "0.0019157307448924286"
            ]
          },
          "metadata": {
            "tags": []
          },
          "execution_count": 40
        }
      ]
    },
    {
      "cell_type": "code",
      "metadata": {
        "colab": {
          "base_uri": "https://localhost:8080/"
        },
        "id": "Wlwt3ci0hm8M",
        "outputId": "16b1e99b-31c3-46a5-870b-3028a7f168b9"
      },
      "source": [
        "from sklearn.metrics import mean_squared_log_error\r\n",
        "msle_2 = mean_squared_log_error(y_true,y_pred)\r\n",
        "msle_2"
      ],
      "execution_count": 41,
      "outputs": [
        {
          "output_type": "execute_result",
          "data": {
            "text/plain": [
              "0.0019157307448924286"
            ]
          },
          "metadata": {
            "tags": []
          },
          "execution_count": 41
        }
      ]
    },
    {
      "cell_type": "markdown",
      "metadata": {
        "id": "CwcNVLxqiizP"
      },
      "source": [
        "RMSLE (Root Mean Squared Logarithm Error)"
      ]
    },
    {
      "cell_type": "code",
      "metadata": {
        "colab": {
          "base_uri": "https://localhost:8080/"
        },
        "id": "1rFRVQW0hyfI",
        "outputId": "1de1fdf4-cf89-4d95-b35d-436aa2745504"
      },
      "source": [
        "msle = ((np.log1p(y_true) - np.log1p(y_pred))**2).mean()\r\n",
        "rmsle = np.sqrt(msle)\r\n",
        "rmsle"
      ],
      "execution_count": 42,
      "outputs": [
        {
          "output_type": "execute_result",
          "data": {
            "text/plain": [
              "0.04376906150344589"
            ]
          },
          "metadata": {
            "tags": []
          },
          "execution_count": 42
        }
      ]
    },
    {
      "cell_type": "markdown",
      "metadata": {
        "id": "cmaTRDjJjTpc"
      },
      "source": [
        "### $R^2$\r\n",
        "실제 값의 분산 대비 예측 값의 분산 비율. 1에 가까울 수록 예측 정확도가 높다. "
      ]
    },
    {
      "cell_type": "code",
      "metadata": {
        "colab": {
          "base_uri": "https://localhost:8080/"
        },
        "id": "yKf-Oiu4i6ys",
        "outputId": "9ab1a476-42c4-4c78-9464-6bcc262953dd"
      },
      "source": [
        "ssres = sum((y_true - y_pred)**2)\r\n",
        "sstot = sum((y_true - y_true.mean())**2)\r\n",
        "\r\n",
        "r2_1 = 1 - (ssres/sstot)\r\n",
        "r2_1"
      ],
      "execution_count": 45,
      "outputs": [
        {
          "output_type": "execute_result",
          "data": {
            "text/plain": [
              "0.9998043528829114"
            ]
          },
          "metadata": {
            "tags": []
          },
          "execution_count": 45
        }
      ]
    },
    {
      "cell_type": "code",
      "metadata": {
        "colab": {
          "base_uri": "https://localhost:8080/"
        },
        "id": "Op2zeXQBkcr3",
        "outputId": "391e7b10-139c-4ca4-f555-5240a14ad323"
      },
      "source": [
        "from sklearn.metrics import r2_score\r\n",
        "r2_2 = r2_score(y_true, y_pred)\r\n",
        "r2_2"
      ],
      "execution_count": 46,
      "outputs": [
        {
          "output_type": "execute_result",
          "data": {
            "text/plain": [
              "0.9998043528829114"
            ]
          },
          "metadata": {
            "tags": []
          },
          "execution_count": 46
        }
      ]
    },
    {
      "cell_type": "markdown",
      "metadata": {
        "id": "4c3NDkAelXcp"
      },
      "source": [
        "### MAPE (Mean Absolute Pecentage Error)\r\n"
      ]
    },
    {
      "cell_type": "code",
      "metadata": {
        "colab": {
          "base_uri": "https://localhost:8080/"
        },
        "id": "BBlD7vRJlVkU",
        "outputId": "315e3ab1-ec48-4d4f-88fa-86fd9efc0193"
      },
      "source": [
        "mape = (abs((y_pred - y_true) / y_true)).mean() * 100\r\n",
        "mape"
      ],
      "execution_count": 51,
      "outputs": [
        {
          "output_type": "execute_result",
          "data": {
            "text/plain": [
              "1.5250170960110454"
            ]
          },
          "metadata": {
            "tags": []
          },
          "execution_count": 51
        }
      ]
    },
    {
      "cell_type": "code",
      "metadata": {
        "id": "tJSLUAJpmWlj"
      },
      "source": [
        ""
      ],
      "execution_count": null,
      "outputs": []
    }
  ]
}