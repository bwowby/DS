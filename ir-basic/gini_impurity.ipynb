{
  "nbformat": 4,
  "nbformat_minor": 0,
  "metadata": {
    "kernelspec": {
      "display_name": "Python 3",
      "language": "python",
      "name": "python3"
    },
    "language_info": {
      "codemirror_mode": {
        "name": "ipython",
        "version": 3
      },
      "file_extension": ".py",
      "mimetype": "text/x-python",
      "name": "python",
      "nbconvert_exporter": "python",
      "pygments_lexer": "ipython3",
      "version": "3.7.3"
    },
    "colab": {
      "name": "gini_impurity.ipynb",
      "provenance": [],
      "collapsed_sections": [],
      "include_colab_link": true
    }
  },
  "cells": [
    {
      "cell_type": "markdown",
      "metadata": {
        "id": "view-in-github",
        "colab_type": "text"
      },
      "source": [
        "<a href=\"https://colab.research.google.com/github/bwowby/DS/blob/master/ir-basic/gini_impurity.ipynb\" target=\"_parent\"><img src=\"https://colab.research.google.com/assets/colab-badge.svg\" alt=\"Open In Colab\"/></a>"
      ]
    },
    {
      "cell_type": "code",
      "metadata": {
        "id": "6aoRu3wr4yUj"
      },
      "source": [
        "import pandas as pd"
      ],
      "execution_count": 1,
      "outputs": []
    },
    {
      "cell_type": "markdown",
      "metadata": {
        "id": "Jkt5g_mQ4yUp"
      },
      "source": [
        "### Evaluate Gini impurity"
      ]
    },
    {
      "cell_type": "code",
      "metadata": {
        "colab": {
          "base_uri": "https://localhost:8080/",
          "height": 266
        },
        "id": "Zl0g4DJ14yUp",
        "outputId": "78d50f51-e16a-4724-828f-742a8b546841"
      },
      "source": [
        "data = {\n",
        "    '이름': [\"Kang\", \"Kim\", \"Choi\", \"Park\", \"Yoon\", \"Lee\"],\n",
        "    '데일리룩': [True, False, False, False, False, False],\n",
        "    '패션스타그램': [False, False, True, False, False, True],\n",
        "    '우산': [False, False, False, False, False, False],\n",
        "    'like': [True, False, True, True, False, True]\n",
        "}\n",
        "\n",
        "data = pd.DataFrame(data)\n",
        "data = data.set_index(\"이름\")\n",
        "data = data[[\"패션스타그램\", \"데일리룩\", \"우산\", \"like\"]]\n",
        "data"
      ],
      "execution_count": 2,
      "outputs": [
        {
          "output_type": "execute_result",
          "data": {
            "text/html": [
              "<div>\n",
              "<style scoped>\n",
              "    .dataframe tbody tr th:only-of-type {\n",
              "        vertical-align: middle;\n",
              "    }\n",
              "\n",
              "    .dataframe tbody tr th {\n",
              "        vertical-align: top;\n",
              "    }\n",
              "\n",
              "    .dataframe thead th {\n",
              "        text-align: right;\n",
              "    }\n",
              "</style>\n",
              "<table border=\"1\" class=\"dataframe\">\n",
              "  <thead>\n",
              "    <tr style=\"text-align: right;\">\n",
              "      <th></th>\n",
              "      <th>패션스타그램</th>\n",
              "      <th>데일리룩</th>\n",
              "      <th>우산</th>\n",
              "      <th>like</th>\n",
              "    </tr>\n",
              "    <tr>\n",
              "      <th>이름</th>\n",
              "      <th></th>\n",
              "      <th></th>\n",
              "      <th></th>\n",
              "      <th></th>\n",
              "    </tr>\n",
              "  </thead>\n",
              "  <tbody>\n",
              "    <tr>\n",
              "      <th>Kang</th>\n",
              "      <td>False</td>\n",
              "      <td>True</td>\n",
              "      <td>False</td>\n",
              "      <td>True</td>\n",
              "    </tr>\n",
              "    <tr>\n",
              "      <th>Kim</th>\n",
              "      <td>False</td>\n",
              "      <td>False</td>\n",
              "      <td>False</td>\n",
              "      <td>False</td>\n",
              "    </tr>\n",
              "    <tr>\n",
              "      <th>Choi</th>\n",
              "      <td>True</td>\n",
              "      <td>False</td>\n",
              "      <td>False</td>\n",
              "      <td>True</td>\n",
              "    </tr>\n",
              "    <tr>\n",
              "      <th>Park</th>\n",
              "      <td>False</td>\n",
              "      <td>False</td>\n",
              "      <td>False</td>\n",
              "      <td>True</td>\n",
              "    </tr>\n",
              "    <tr>\n",
              "      <th>Yoon</th>\n",
              "      <td>False</td>\n",
              "      <td>False</td>\n",
              "      <td>False</td>\n",
              "      <td>False</td>\n",
              "    </tr>\n",
              "    <tr>\n",
              "      <th>Lee</th>\n",
              "      <td>True</td>\n",
              "      <td>False</td>\n",
              "      <td>False</td>\n",
              "      <td>True</td>\n",
              "    </tr>\n",
              "  </tbody>\n",
              "</table>\n",
              "</div>"
            ],
            "text/plain": [
              "      패션스타그램   데일리룩     우산   like\n",
              "이름                               \n",
              "Kang   False   True  False   True\n",
              "Kim    False  False  False  False\n",
              "Choi    True  False  False   True\n",
              "Park   False  False  False   True\n",
              "Yoon   False  False  False  False\n",
              "Lee     True  False  False   True"
            ]
          },
          "metadata": {
            "tags": []
          },
          "execution_count": 2
        }
      ]
    },
    {
      "cell_type": "code",
      "metadata": {
        "colab": {
          "base_uri": "https://localhost:8080/"
        },
        "id": "el7pVgB_4yUr",
        "outputId": "63ac1755-cf5b-4be7-ad42-aa1cd3aab22a"
      },
      "source": [
        "def evaluate_gini_impurity(data) : \n",
        "    \n",
        "    if len(data) == 0:\n",
        "        return 0\n",
        "    \n",
        "    true_probability = data[\"like\"].mean()\n",
        "    print(true_probability)\n",
        "    false_probability = 1 - true_probability\n",
        "\n",
        "    gini_impurity = 1 - true_probability ** 2 - false_probability ** 2\n",
        "    \n",
        "    return gini_impurity\n",
        "\n",
        "evaluate_gini_impurity(data)"
      ],
      "execution_count": 3,
      "outputs": [
        {
          "output_type": "stream",
          "text": [
            "0.6666666666666666\n"
          ],
          "name": "stdout"
        },
        {
          "output_type": "execute_result",
          "data": {
            "text/plain": [
              "0.4444444444444444"
            ]
          },
          "metadata": {
            "tags": []
          },
          "execution_count": 3
        }
      ]
    },
    {
      "cell_type": "markdown",
      "metadata": {
        "id": "A9jtZ1a44yUr"
      },
      "source": [
        "### Evaluate Average Gini impurity\n",
        "data 갯수에 맞게 비중을 반영하여 평균 구하기"
      ]
    },
    {
      "cell_type": "code",
      "metadata": {
        "id": "3J0DBflr4yUr"
      },
      "source": [
        "def evaluate_average_gini_impurity(data, condition) : \n",
        "    true_data = data[condition(data)]\n",
        "    false_data = data[~condition(data)]\n",
        "    \n",
        "    true_impurity = evaluate_gini_impurity(true_data)\n",
        "    false_impurity = evaluate_gini_impurity(false_data)\n",
        "    \n",
        "    # 각 데이터 갯수 비중을 반영하기 위해 곱하기\n",
        "    gini_impurity = true_impurity * len(true_data) + false_impurity * len(false_data)\n",
        "    gini_impurity = gini_impurity / len(data)\n",
        "    \n",
        "    return gini_impurity"
      ],
      "execution_count": 4,
      "outputs": []
    },
    {
      "cell_type": "code",
      "metadata": {
        "colab": {
          "base_uri": "https://localhost:8080/"
        },
        "id": "g6ixTHfi4yUs",
        "outputId": "595148f1-a4d2-444a-cb6a-f03119077552"
      },
      "source": [
        "condition = lambda data : data[\"패션스타그램\"] == True\n",
        "evaluate_average_gini_impurity(data,condition)"
      ],
      "execution_count": 5,
      "outputs": [
        {
          "output_type": "stream",
          "text": [
            "1.0\n",
            "0.5\n"
          ],
          "name": "stdout"
        },
        {
          "output_type": "execute_result",
          "data": {
            "text/plain": [
              "0.3333333333333333"
            ]
          },
          "metadata": {
            "tags": []
          },
          "execution_count": 5
        }
      ]
    },
    {
      "cell_type": "code",
      "metadata": {
        "colab": {
          "base_uri": "https://localhost:8080/"
        },
        "id": "yWPXwYXk4yUs",
        "outputId": "7786a070-f58d-4195-ee11-c3af66106364"
      },
      "source": [
        "condition = lambda data : data[\"데일리룩\"] == True\n",
        "evaluate_average_gini_impurity(data,condition)"
      ],
      "execution_count": 6,
      "outputs": [
        {
          "output_type": "stream",
          "text": [
            "1.0\n",
            "0.6\n"
          ],
          "name": "stdout"
        },
        {
          "output_type": "execute_result",
          "data": {
            "text/plain": [
              "0.39999999999999997"
            ]
          },
          "metadata": {
            "tags": []
          },
          "execution_count": 6
        }
      ]
    },
    {
      "cell_type": "code",
      "metadata": {
        "colab": {
          "base_uri": "https://localhost:8080/"
        },
        "id": "gc1NJskK4yUs",
        "outputId": "94b270de-d0d2-472b-ee8c-5671cadcb981"
      },
      "source": [
        "condition = lambda data : data[\"우산\"] == True\n",
        "evaluate_average_gini_impurity(data,condition)"
      ],
      "execution_count": 7,
      "outputs": [
        {
          "output_type": "stream",
          "text": [
            "0.6666666666666666\n"
          ],
          "name": "stdout"
        },
        {
          "output_type": "execute_result",
          "data": {
            "text/plain": [
              "0.4444444444444444"
            ]
          },
          "metadata": {
            "tags": []
          },
          "execution_count": 7
        }
      ]
    },
    {
      "cell_type": "markdown",
      "metadata": {
        "id": "fmPYbxmC4yUt"
      },
      "source": [
        "### Find Best Condition"
      ]
    },
    {
      "cell_type": "code",
      "metadata": {
        "id": "Uib8wTNq4yUt"
      },
      "source": [
        "def find_best_condition(data,condition_list) :\n",
        "    best_gini_impurity = 0.51\n",
        "    for description,condition in  condition_list.items() :\n",
        "        gini_impurity = evaluate_average_gini_impurity(data,condition)\n",
        "        \n",
        "        if gini_impurity < best_gini_impurity : \n",
        "            best_gini_impurity = gini_impurity\n",
        "            best_description = description\n",
        "            best_condition = condition\n",
        "    \n",
        "    return best_gini_impurity, best_description, best_condition"
      ],
      "execution_count": 11,
      "outputs": []
    },
    {
      "cell_type": "code",
      "metadata": {
        "colab": {
          "base_uri": "https://localhost:8080/"
        },
        "id": "OnG3FcnT4yUt",
        "outputId": "11d7ba5f-5e39-4edc-ecb9-eebb77de2a2d"
      },
      "source": [
        "\n",
        "condition1 = lambda data : data[\"패션스타그램\"] == True\n",
        "condition2 = lambda data : data[\"데일리룩\"] == True\n",
        "condition3 = lambda data : data[\"우산\"] == True\n",
        "\n",
        "condition_list = {\n",
        "    \"패션스타그램\" : condition1,\n",
        "     \"데일리룩\" : condition2,\n",
        "     \"우산\" : condition3,\n",
        "}\n",
        "\n",
        "find_best_condition(data,condition_list)"
      ],
      "execution_count": 12,
      "outputs": [
        {
          "output_type": "stream",
          "text": [
            "1.0\n",
            "0.5\n",
            "1.0\n",
            "0.6\n",
            "0.6666666666666666\n"
          ],
          "name": "stdout"
        },
        {
          "output_type": "execute_result",
          "data": {
            "text/plain": [
              "(0.3333333333333333, '패션스타그램', <function __main__.<lambda>>)"
            ]
          },
          "metadata": {
            "tags": []
          },
          "execution_count": 12
        }
      ]
    },
    {
      "cell_type": "code",
      "metadata": {
        "colab": {
          "base_uri": "https://localhost:8080/"
        },
        "id": "GcCP9z5q4yUu",
        "outputId": "05b719a2-a56f-4151-8dd0-5de9fb800863"
      },
      "source": [
        "# classification : gini impurity | entropy \n",
        "# regression : mean squared error\n",
        "\n",
        "!pip install graphviz\n",
        "# graphviz 패키지를 읽어옵니다.\n",
        "import graphviz\n",
        "# graphviz 패키지에서, 트리 시각화의 가장 기본이 되는 Digraph를 가져옵니다.\n",
        "from graphviz import Digraph"
      ],
      "execution_count": 14,
      "outputs": [
        {
          "output_type": "stream",
          "text": [
            "Requirement already satisfied: graphviz in /usr/local/lib/python3.6/dist-packages (0.10.1)\n"
          ],
          "name": "stdout"
        }
      ]
    },
    {
      "cell_type": "code",
      "metadata": {
        "id": "_7mTSeIR4yUu"
      },
      "source": [
        "# 트리의 각 노드 하나를 시각화하는 함수를 정의합니다.\n",
        "def display_node(dot, key, node):\n",
        "    # node가 잎(leaf)인지 아닌지에 따라 다른 방식으로 시각화해야 합니다.\n",
        "    if node[\"leaf\"] == True:\n",
        "        # node에서 확률(probability)값을 가져옵니다.\n",
        "        probability = node['probability']\n",
        "        \n",
        "        # 확률값을 예쁘게 출력하기 위해, 소숫점을 4자리까지 자릅니다.\n",
        "        probability = round(probability, 4)\n",
        "        \n",
        "        # 소숫점을 자른 뒤, 시각화를 위해 실수형(float)에서 문자열(string)으로 변환합니다.\n",
        "        probability = str(probability)\n",
        "        \n",
        "        # 이를 Digraph 안에 삽입합니다.\n",
        "        dot.node(key, probability)\n",
        "    # 잎(leaf)이 아닐 경우는 다른 방식으로 시각화해야 합니다.\n",
        "    else:\n",
        "        # 구체적으로 어떤 조건으로 가르게 되었는지 설명(description)을 가져옵니다.\n",
        "        description = node['description']\n",
        "        \n",
        "        # 이 설명을 시각화에 집어넣습니다.\n",
        "        dot.node(key, description)\n",
        "        \n",
        "        # 트리의 노드에 좌측 노드가 있으면 이를 시각화합니다.\n",
        "        if \"left\" in node:\n",
        "            # 현재 키에 'L'마크를 뒤에 추가합니다. 이를 좌측 노드라고 가정합니다.\n",
        "            left_key = key + \"L\"\n",
        "            \n",
        "            # 이 좌측 노드를 시각화합니다.\n",
        "            display_node(dot, left_key, node['left'])\n",
        "            \n",
        "            # 좌측 노드를 시각화한 결과를 현재 노드와 연결합니다.\n",
        "            dot.edge(key, left_key)\n",
        "\n",
        "        # 비슷하게 트리의 노드에 우측 노드가 있으면 이를 시각화합니다.\n",
        "        if \"right\" in node:\n",
        "            # 현재 키에 'R'마크를 뒤에 추가합니다. 이를 우측 노드라고 가정합니다.\n",
        "            right_key = key + \"R\"\n",
        "            \n",
        "            # 이 우측 노드를 시각화합니다.\n",
        "            display_node(dot, right_key, node['right'])\n",
        "            \n",
        "            # 우측 노드를 시각화한 결과를 현재 노드와 연결합니다.\n",
        "            dot.edge(key, right_key)\n",
        "\n",
        "# 트리 전체를 시각화하는 함수를 정의합니다.\n",
        "def display_tree(tree):\n",
        "    # 시각화의 기본이 되는 Digraph를 정의합니다.\n",
        "    dot = Digraph(comment='Decision Tree')\n",
        "\n",
        "    # 트리의 맨 위를 노드(node)라고 가정하고 시각화합니다.\n",
        "    display_node(dot, \"Root\", tree)\n",
        "\n",
        "    # 이 결과를 graphviz로 출력합니다.\n",
        "    return graphviz.Source(dot.source)"
      ],
      "execution_count": 15,
      "outputs": []
    },
    {
      "cell_type": "markdown",
      "metadata": {
        "id": "UEYN98tw4yUu"
      },
      "source": [
        "## Make a Tree"
      ]
    },
    {
      "cell_type": "code",
      "metadata": {
        "colab": {
          "base_uri": "https://localhost:8080/"
        },
        "id": "RfYc8mjK4yUv",
        "outputId": "c56bfe84-326a-4a56-a3f4-2ee58ef57ee0"
      },
      "source": [
        "condition = lambda data : data[\"패션스타그램\"] == True\n",
        "\n",
        "left_data = data[condition(data)]\n",
        "#왼쪽에서 like 됐을 확률\n",
        "left_probability = left_data[\"like\"].mean()\n",
        "\n",
        "right_data = data[~condition(data)]\n",
        "#오른쪽에서 like 됐을 확률\n",
        "right_probability = right_data[\"like\"].mean()\n",
        "\n",
        "left_probability, right_probability"
      ],
      "execution_count": 16,
      "outputs": [
        {
          "output_type": "execute_result",
          "data": {
            "text/plain": [
              "(1.0, 0.5)"
            ]
          },
          "metadata": {
            "tags": []
          },
          "execution_count": 16
        }
      ]
    },
    {
      "cell_type": "code",
      "metadata": {
        "colab": {
          "base_uri": "https://localhost:8080/",
          "height": 79
        },
        "id": "hKVhxKUl4yUv",
        "outputId": "f447494e-27d9-4a3f-ede3-d94e3c5f2a72"
      },
      "source": [
        "tree = {\n",
        "    \"leaf\" : True,\n",
        "    \"probability\" : 0.6\n",
        "}\n",
        "display_tree(tree)"
      ],
      "execution_count": 17,
      "outputs": [
        {
          "output_type": "execute_result",
          "data": {
            "text/plain": [
              "<graphviz.files.Source at 0x7ff550039e48>"
            ],
            "image/svg+xml": "<?xml version=\"1.0\" encoding=\"UTF-8\" standalone=\"no\"?>\n<!DOCTYPE svg PUBLIC \"-//W3C//DTD SVG 1.1//EN\"\n \"http://www.w3.org/Graphics/SVG/1.1/DTD/svg11.dtd\">\n<!-- Generated by graphviz version 2.40.1 (20161225.0304)\n -->\n<!-- Title: %3 Pages: 1 -->\n<svg width=\"62pt\" height=\"44pt\"\n viewBox=\"0.00 0.00 62.00 44.00\" xmlns=\"http://www.w3.org/2000/svg\" xmlns:xlink=\"http://www.w3.org/1999/xlink\">\n<g id=\"graph0\" class=\"graph\" transform=\"scale(1 1) rotate(0) translate(4 40)\">\n<title>%3</title>\n<polygon fill=\"#ffffff\" stroke=\"transparent\" points=\"-4,4 -4,-40 58,-40 58,4 -4,4\"/>\n<!-- Root -->\n<g id=\"node1\" class=\"node\">\n<title>Root</title>\n<ellipse fill=\"none\" stroke=\"#000000\" cx=\"27\" cy=\"-18\" rx=\"27\" ry=\"18\"/>\n<text text-anchor=\"middle\" x=\"27\" y=\"-14.3\" font-family=\"Times,serif\" font-size=\"14.00\" fill=\"#000000\">0.6</text>\n</g>\n</g>\n</svg>\n"
          },
          "metadata": {
            "tags": []
          },
          "execution_count": 17
        }
      ]
    },
    {
      "cell_type": "code",
      "metadata": {
        "colab": {
          "base_uri": "https://localhost:8080/",
          "height": 175
        },
        "id": "FeuH4qz24yUw",
        "outputId": "06353376-770d-4a22-df48-492e194852b3"
      },
      "source": [
        "tree = {\r\n",
        "    \"leaf\" : False,\r\n",
        "    \"condition\" : condition,\r\n",
        "    \"description\" : \"패션스타그램\",\r\n",
        "    \"left\" : {\r\n",
        "        \"leaf\" : True,\r\n",
        "        \"probability\" : 1.0\r\n",
        "    },\r\n",
        "    \"right\" : {\r\n",
        "        \"leaf\" : True,\r\n",
        "        \"probability\" : 0.5\r\n",
        "    }, \r\n",
        "}\r\n",
        "display_tree(tree)"
      ],
      "execution_count": 20,
      "outputs": [
        {
          "output_type": "execute_result",
          "data": {
            "text/plain": [
              "<graphviz.files.Source at 0x7ff54f90e748>"
            ],
            "image/svg+xml": "<?xml version=\"1.0\" encoding=\"UTF-8\" standalone=\"no\"?>\n<!DOCTYPE svg PUBLIC \"-//W3C//DTD SVG 1.1//EN\"\n \"http://www.w3.org/Graphics/SVG/1.1/DTD/svg11.dtd\">\n<!-- Generated by graphviz version 2.40.1 (20161225.0304)\n -->\n<!-- Title: %3 Pages: 1 -->\n<svg width=\"141pt\" height=\"116pt\"\n viewBox=\"0.00 0.00 140.59 116.00\" xmlns=\"http://www.w3.org/2000/svg\" xmlns:xlink=\"http://www.w3.org/1999/xlink\">\n<g id=\"graph0\" class=\"graph\" transform=\"scale(1 1) rotate(0) translate(4 112)\">\n<title>%3</title>\n<polygon fill=\"#ffffff\" stroke=\"transparent\" points=\"-4,4 -4,-112 136.5882,-112 136.5882,4 -4,4\"/>\n<!-- Root -->\n<g id=\"node1\" class=\"node\">\n<title>Root</title>\n<ellipse fill=\"none\" stroke=\"#000000\" cx=\"66.2941\" cy=\"-90\" rx=\"66.0889\" ry=\"18\"/>\n<text text-anchor=\"middle\" x=\"66.2941\" y=\"-86.3\" font-family=\"Times,serif\" font-size=\"14.00\" fill=\"#000000\">패션스타그램</text>\n</g>\n<!-- RootL -->\n<g id=\"node2\" class=\"node\">\n<title>RootL</title>\n<ellipse fill=\"none\" stroke=\"#000000\" cx=\"30.2941\" cy=\"-18\" rx=\"27\" ry=\"18\"/>\n<text text-anchor=\"middle\" x=\"30.2941\" y=\"-14.3\" font-family=\"Times,serif\" font-size=\"14.00\" fill=\"#000000\">1.0</text>\n</g>\n<!-- Root&#45;&gt;RootL -->\n<g id=\"edge1\" class=\"edge\">\n<title>Root&#45;&gt;RootL</title>\n<path fill=\"none\" stroke=\"#000000\" d=\"M57.2098,-71.8314C53.0667,-63.5451 48.0805,-53.5727 43.5315,-44.4748\"/>\n<polygon fill=\"#000000\" stroke=\"#000000\" points=\"46.6057,-42.7967 39.003,-35.4177 40.3447,-45.9273 46.6057,-42.7967\"/>\n</g>\n<!-- RootR -->\n<g id=\"node3\" class=\"node\">\n<title>RootR</title>\n<ellipse fill=\"none\" stroke=\"#000000\" cx=\"102.2941\" cy=\"-18\" rx=\"27\" ry=\"18\"/>\n<text text-anchor=\"middle\" x=\"102.2941\" y=\"-14.3\" font-family=\"Times,serif\" font-size=\"14.00\" fill=\"#000000\">0.5</text>\n</g>\n<!-- Root&#45;&gt;RootR -->\n<g id=\"edge2\" class=\"edge\">\n<title>Root&#45;&gt;RootR</title>\n<path fill=\"none\" stroke=\"#000000\" d=\"M75.3784,-71.8314C79.5216,-63.5451 84.5078,-53.5727 89.0567,-44.4748\"/>\n<polygon fill=\"#000000\" stroke=\"#000000\" points=\"92.2436,-45.9273 93.5853,-35.4177 85.9826,-42.7967 92.2436,-45.9273\"/>\n</g>\n</g>\n</svg>\n"
          },
          "metadata": {
            "tags": []
          },
          "execution_count": 20
        }
      ]
    },
    {
      "cell_type": "code",
      "metadata": {
        "colab": {
          "base_uri": "https://localhost:8080/",
          "height": 175
        },
        "id": "V31kQCvo5jmk",
        "outputId": "d8c16397-b506-4250-9150-c23acc00f8cb"
      },
      "source": [
        "node = {\r\n",
        "    \"leaf\" : False,\r\n",
        "    \"condition\" : condition,\r\n",
        "    \"description\" : \"패션스타그램\",\r\n",
        "}\r\n",
        "tree = node\r\n",
        "\r\n",
        "node =  {\r\n",
        "        \"leaf\" : True,\r\n",
        "        \"probability\" : 1.0\r\n",
        "}\r\n",
        "tree[\"left\"] = node  \r\n",
        "\r\n",
        "node = {\r\n",
        "        \"leaf\" : True,\r\n",
        "        \"probability\" : 0.5\r\n",
        "}\r\n",
        "tree[\"right\"] = node  \r\n",
        "display_tree(tree)"
      ],
      "execution_count": 24,
      "outputs": [
        {
          "output_type": "execute_result",
          "data": {
            "text/plain": [
              "<graphviz.files.Source at 0x7ff547e55b38>"
            ],
            "image/svg+xml": "<?xml version=\"1.0\" encoding=\"UTF-8\" standalone=\"no\"?>\n<!DOCTYPE svg PUBLIC \"-//W3C//DTD SVG 1.1//EN\"\n \"http://www.w3.org/Graphics/SVG/1.1/DTD/svg11.dtd\">\n<!-- Generated by graphviz version 2.40.1 (20161225.0304)\n -->\n<!-- Title: %3 Pages: 1 -->\n<svg width=\"141pt\" height=\"116pt\"\n viewBox=\"0.00 0.00 140.59 116.00\" xmlns=\"http://www.w3.org/2000/svg\" xmlns:xlink=\"http://www.w3.org/1999/xlink\">\n<g id=\"graph0\" class=\"graph\" transform=\"scale(1 1) rotate(0) translate(4 112)\">\n<title>%3</title>\n<polygon fill=\"#ffffff\" stroke=\"transparent\" points=\"-4,4 -4,-112 136.5882,-112 136.5882,4 -4,4\"/>\n<!-- Root -->\n<g id=\"node1\" class=\"node\">\n<title>Root</title>\n<ellipse fill=\"none\" stroke=\"#000000\" cx=\"66.2941\" cy=\"-90\" rx=\"66.0889\" ry=\"18\"/>\n<text text-anchor=\"middle\" x=\"66.2941\" y=\"-86.3\" font-family=\"Times,serif\" font-size=\"14.00\" fill=\"#000000\">패션스타그램</text>\n</g>\n<!-- RootL -->\n<g id=\"node2\" class=\"node\">\n<title>RootL</title>\n<ellipse fill=\"none\" stroke=\"#000000\" cx=\"30.2941\" cy=\"-18\" rx=\"27\" ry=\"18\"/>\n<text text-anchor=\"middle\" x=\"30.2941\" y=\"-14.3\" font-family=\"Times,serif\" font-size=\"14.00\" fill=\"#000000\">1.0</text>\n</g>\n<!-- Root&#45;&gt;RootL -->\n<g id=\"edge1\" class=\"edge\">\n<title>Root&#45;&gt;RootL</title>\n<path fill=\"none\" stroke=\"#000000\" d=\"M57.2098,-71.8314C53.0667,-63.5451 48.0805,-53.5727 43.5315,-44.4748\"/>\n<polygon fill=\"#000000\" stroke=\"#000000\" points=\"46.6057,-42.7967 39.003,-35.4177 40.3447,-45.9273 46.6057,-42.7967\"/>\n</g>\n<!-- RootR -->\n<g id=\"node3\" class=\"node\">\n<title>RootR</title>\n<ellipse fill=\"none\" stroke=\"#000000\" cx=\"102.2941\" cy=\"-18\" rx=\"27\" ry=\"18\"/>\n<text text-anchor=\"middle\" x=\"102.2941\" y=\"-14.3\" font-family=\"Times,serif\" font-size=\"14.00\" fill=\"#000000\">0.5</text>\n</g>\n<!-- Root&#45;&gt;RootR -->\n<g id=\"edge2\" class=\"edge\">\n<title>Root&#45;&gt;RootR</title>\n<path fill=\"none\" stroke=\"#000000\" d=\"M75.3784,-71.8314C79.5216,-63.5451 84.5078,-53.5727 89.0567,-44.4748\"/>\n<polygon fill=\"#000000\" stroke=\"#000000\" points=\"92.2436,-45.9273 93.5853,-35.4177 85.9826,-42.7967 92.2436,-45.9273\"/>\n</g>\n</g>\n</svg>\n"
          },
          "metadata": {
            "tags": []
          },
          "execution_count": 24
        }
      ]
    },
    {
      "cell_type": "code",
      "metadata": {
        "colab": {
          "base_uri": "https://localhost:8080/",
          "height": 175
        },
        "id": "DY217qH251Ya",
        "outputId": "862b96ab-a7cd-42a1-dc6c-762bf72d7b21"
      },
      "source": [
        "\r\n",
        "# 트리 함수 모듈화 3-11\r\n",
        "def make_node(data,condition) :\r\n",
        "  # leaf 아님\r\n",
        "  if condition != None : \r\n",
        "    node = {'leaf' : False, 'conditon' : condition, 'description':'패션스타그램'}\r\n",
        "    \r\n",
        "    left_data = data[condition(data)]\r\n",
        "    right_data = data[~condition(data)]\r\n",
        "\r\n",
        "    # 재귀 호출\r\n",
        "    node[\"left\"] = make_node(left_data,None)\r\n",
        "    node[\"right\"] = make_node(right_data,None)  \r\n",
        "    \r\n",
        "    return node\r\n",
        "  \r\n",
        "  probability = data[\"like\"].mean()\r\n",
        "  node = {'leaf' : True, 'probability': probability}\r\n",
        "\r\n",
        "  return node\r\n",
        "\r\n",
        "\r\n",
        "def make_tree(data) : \r\n",
        "  condition = lambda data : data[\"패션스타그램\"] == True\r\n",
        "  tree = make_node(data,condition)\r\n",
        "  return tree\r\n",
        "\r\n",
        "tree = make_tree(data)\r\n",
        "display_tree(tree)"
      ],
      "execution_count": 40,
      "outputs": [
        {
          "output_type": "execute_result",
          "data": {
            "text/plain": [
              "<graphviz.files.Source at 0x7ff547d79fd0>"
            ],
            "image/svg+xml": "<?xml version=\"1.0\" encoding=\"UTF-8\" standalone=\"no\"?>\n<!DOCTYPE svg PUBLIC \"-//W3C//DTD SVG 1.1//EN\"\n \"http://www.w3.org/Graphics/SVG/1.1/DTD/svg11.dtd\">\n<!-- Generated by graphviz version 2.40.1 (20161225.0304)\n -->\n<!-- Title: %3 Pages: 1 -->\n<svg width=\"141pt\" height=\"116pt\"\n viewBox=\"0.00 0.00 140.59 116.00\" xmlns=\"http://www.w3.org/2000/svg\" xmlns:xlink=\"http://www.w3.org/1999/xlink\">\n<g id=\"graph0\" class=\"graph\" transform=\"scale(1 1) rotate(0) translate(4 112)\">\n<title>%3</title>\n<polygon fill=\"#ffffff\" stroke=\"transparent\" points=\"-4,4 -4,-112 136.5882,-112 136.5882,4 -4,4\"/>\n<!-- Root -->\n<g id=\"node1\" class=\"node\">\n<title>Root</title>\n<ellipse fill=\"none\" stroke=\"#000000\" cx=\"66.2941\" cy=\"-90\" rx=\"66.0889\" ry=\"18\"/>\n<text text-anchor=\"middle\" x=\"66.2941\" y=\"-86.3\" font-family=\"Times,serif\" font-size=\"14.00\" fill=\"#000000\">패션스타그램</text>\n</g>\n<!-- RootL -->\n<g id=\"node2\" class=\"node\">\n<title>RootL</title>\n<ellipse fill=\"none\" stroke=\"#000000\" cx=\"30.2941\" cy=\"-18\" rx=\"27\" ry=\"18\"/>\n<text text-anchor=\"middle\" x=\"30.2941\" y=\"-14.3\" font-family=\"Times,serif\" font-size=\"14.00\" fill=\"#000000\">1.0</text>\n</g>\n<!-- Root&#45;&gt;RootL -->\n<g id=\"edge1\" class=\"edge\">\n<title>Root&#45;&gt;RootL</title>\n<path fill=\"none\" stroke=\"#000000\" d=\"M57.2098,-71.8314C53.0667,-63.5451 48.0805,-53.5727 43.5315,-44.4748\"/>\n<polygon fill=\"#000000\" stroke=\"#000000\" points=\"46.6057,-42.7967 39.003,-35.4177 40.3447,-45.9273 46.6057,-42.7967\"/>\n</g>\n<!-- RootR -->\n<g id=\"node3\" class=\"node\">\n<title>RootR</title>\n<ellipse fill=\"none\" stroke=\"#000000\" cx=\"102.2941\" cy=\"-18\" rx=\"27\" ry=\"18\"/>\n<text text-anchor=\"middle\" x=\"102.2941\" y=\"-14.3\" font-family=\"Times,serif\" font-size=\"14.00\" fill=\"#000000\">0.5</text>\n</g>\n<!-- Root&#45;&gt;RootR -->\n<g id=\"edge2\" class=\"edge\">\n<title>Root&#45;&gt;RootR</title>\n<path fill=\"none\" stroke=\"#000000\" d=\"M75.3784,-71.8314C79.5216,-63.5451 84.5078,-53.5727 89.0567,-44.4748\"/>\n<polygon fill=\"#000000\" stroke=\"#000000\" points=\"92.2436,-45.9273 93.5853,-35.4177 85.9826,-42.7967 92.2436,-45.9273\"/>\n</g>\n</g>\n</svg>\n"
          },
          "metadata": {
            "tags": []
          },
          "execution_count": 40
        }
      ]
    },
    {
      "cell_type": "code",
      "metadata": {
        "id": "RF9p75yB6d9q"
      },
      "source": [
        ""
      ],
      "execution_count": null,
      "outputs": []
    }
  ]
}