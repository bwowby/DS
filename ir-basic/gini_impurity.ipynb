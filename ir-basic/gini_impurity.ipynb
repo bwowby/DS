{
 "cells": [
  {
   "cell_type": "code",
   "execution_count": 14,
   "metadata": {},
   "outputs": [],
   "source": [
    "import pandas as pd"
   ]
  },
  {
   "cell_type": "markdown",
   "metadata": {},
   "source": [
    "### Evaluate Gini impurity"
   ]
  },
  {
   "cell_type": "code",
   "execution_count": 53,
   "metadata": {},
   "outputs": [
    {
     "data": {
      "text/html": [
       "<div>\n",
       "<style scoped>\n",
       "    .dataframe tbody tr th:only-of-type {\n",
       "        vertical-align: middle;\n",
       "    }\n",
       "\n",
       "    .dataframe tbody tr th {\n",
       "        vertical-align: top;\n",
       "    }\n",
       "\n",
       "    .dataframe thead th {\n",
       "        text-align: right;\n",
       "    }\n",
       "</style>\n",
       "<table border=\"1\" class=\"dataframe\">\n",
       "  <thead>\n",
       "    <tr style=\"text-align: right;\">\n",
       "      <th></th>\n",
       "      <th>패션스타그램</th>\n",
       "      <th>데일리룩</th>\n",
       "      <th>우산</th>\n",
       "      <th>like</th>\n",
       "    </tr>\n",
       "    <tr>\n",
       "      <th>이름</th>\n",
       "      <th></th>\n",
       "      <th></th>\n",
       "      <th></th>\n",
       "      <th></th>\n",
       "    </tr>\n",
       "  </thead>\n",
       "  <tbody>\n",
       "    <tr>\n",
       "      <th>Kang</th>\n",
       "      <td>False</td>\n",
       "      <td>True</td>\n",
       "      <td>False</td>\n",
       "      <td>True</td>\n",
       "    </tr>\n",
       "    <tr>\n",
       "      <th>Kim</th>\n",
       "      <td>False</td>\n",
       "      <td>False</td>\n",
       "      <td>False</td>\n",
       "      <td>False</td>\n",
       "    </tr>\n",
       "    <tr>\n",
       "      <th>Choi</th>\n",
       "      <td>True</td>\n",
       "      <td>False</td>\n",
       "      <td>False</td>\n",
       "      <td>True</td>\n",
       "    </tr>\n",
       "    <tr>\n",
       "      <th>Park</th>\n",
       "      <td>False</td>\n",
       "      <td>False</td>\n",
       "      <td>False</td>\n",
       "      <td>True</td>\n",
       "    </tr>\n",
       "    <tr>\n",
       "      <th>Yoon</th>\n",
       "      <td>False</td>\n",
       "      <td>False</td>\n",
       "      <td>False</td>\n",
       "      <td>False</td>\n",
       "    </tr>\n",
       "    <tr>\n",
       "      <th>Lee</th>\n",
       "      <td>True</td>\n",
       "      <td>False</td>\n",
       "      <td>False</td>\n",
       "      <td>True</td>\n",
       "    </tr>\n",
       "  </tbody>\n",
       "</table>\n",
       "</div>"
      ],
      "text/plain": [
       "      패션스타그램   데일리룩     우산   like\n",
       "이름                               \n",
       "Kang   False   True  False   True\n",
       "Kim    False  False  False  False\n",
       "Choi    True  False  False   True\n",
       "Park   False  False  False   True\n",
       "Yoon   False  False  False  False\n",
       "Lee     True  False  False   True"
      ]
     },
     "execution_count": 53,
     "metadata": {},
     "output_type": "execute_result"
    }
   ],
   "source": [
    "data = {\n",
    "    '이름': [\"Kang\", \"Kim\", \"Choi\", \"Park\", \"Yoon\", \"Lee\"],\n",
    "    '데일리룩': [True, False, False, False, False, False],\n",
    "    '패션스타그램': [False, False, True, False, False, True],\n",
    "    '우산': [False, False, False, False, False, False],\n",
    "    'like': [True, False, True, True, False, True]\n",
    "}\n",
    "\n",
    "data = pd.DataFrame(data)\n",
    "data = data.set_index(\"이름\")\n",
    "data = data[[\"패션스타그램\", \"데일리룩\", \"우산\", \"like\"]]\n",
    "data"
   ]
  },
  {
   "cell_type": "code",
   "execution_count": 54,
   "metadata": {},
   "outputs": [
    {
     "name": "stdout",
     "output_type": "stream",
     "text": [
      "0.6666666666666666\n"
     ]
    },
    {
     "data": {
      "text/plain": [
       "0.4444444444444444"
      ]
     },
     "execution_count": 54,
     "metadata": {},
     "output_type": "execute_result"
    }
   ],
   "source": [
    "def evaluate_gini_impurity(data) : \n",
    "    \n",
    "    if len(data) == 0:\n",
    "        return 0\n",
    "    \n",
    "    true_probability = data[\"like\"].mean()\n",
    "    print(true_probability)\n",
    "    false_probability = 1 - true_probability\n",
    "\n",
    "    gini_impurity = 1 - true_probability ** 2 - false_probability ** 2\n",
    "    \n",
    "    return gini_impurity\n",
    "\n",
    "evaluate_gini_impurity(data)"
   ]
  },
  {
   "cell_type": "markdown",
   "metadata": {},
   "source": [
    "### Evaluate Average Gini impurity\n",
    "data 갯수에 맞게 비중을 반영하여 평균 구하기"
   ]
  },
  {
   "cell_type": "code",
   "execution_count": 45,
   "metadata": {},
   "outputs": [],
   "source": [
    "def evaluate_average_gini_impurity(data, condition) : \n",
    "    true_data = data[condition(data)]\n",
    "    false_data = data[~condition(data)]\n",
    "    \n",
    "    true_impurity = evaluate_gini_impurity(true_data)\n",
    "    false_impurity = evaluate_gini_impurity(false_data)\n",
    "    \n",
    "    # 각 데이터 갯수 비중을 반영하기 위해 곱하기\n",
    "    gini_impurity = true_impurity * len(true_data) + false_impurity * len(false_data)\n",
    "    gini_impurity = gini_impurity / len(data)\n",
    "    \n",
    "    return gini_impurity"
   ]
  },
  {
   "cell_type": "code",
   "execution_count": 46,
   "metadata": {},
   "outputs": [
    {
     "data": {
      "text/plain": [
       "0.3333333333333333"
      ]
     },
     "execution_count": 46,
     "metadata": {},
     "output_type": "execute_result"
    }
   ],
   "source": [
    "condition = lambda data : data[\"패션스타그램\"] == True\n",
    "evaluate_average_gini_impurity(data,condition)"
   ]
  },
  {
   "cell_type": "code",
   "execution_count": 47,
   "metadata": {},
   "outputs": [
    {
     "data": {
      "text/plain": [
       "0.39999999999999997"
      ]
     },
     "execution_count": 47,
     "metadata": {},
     "output_type": "execute_result"
    }
   ],
   "source": [
    "condition = lambda data : data[\"데일리룩\"] == True\n",
    "evaluate_average_gini_impurity(data,condition)"
   ]
  },
  {
   "cell_type": "code",
   "execution_count": 48,
   "metadata": {},
   "outputs": [
    {
     "data": {
      "text/plain": [
       "0.4444444444444444"
      ]
     },
     "execution_count": 48,
     "metadata": {},
     "output_type": "execute_result"
    }
   ],
   "source": [
    "condition = lambda data : data[\"우산\"] == True\n",
    "evaluate_average_gini_impurity(data,condition)"
   ]
  },
  {
   "cell_type": "markdown",
   "metadata": {},
   "source": [
    "### Find Best Condition"
   ]
  },
  {
   "cell_type": "code",
   "execution_count": 49,
   "metadata": {},
   "outputs": [],
   "source": [
    "def find_best_condition(data,condition_list) :\n",
    "    best_gini_impurity = 0.51\n",
    "    for description,condition in  condition_list.items() :\n",
    "        gini_impurition = evaluate_average_gini_impurity(data,condition)\n",
    "        \n",
    "        if gini_impurity < best_gini_impurity : \n",
    "            best_gini_impurity = gini_impurity\n",
    "            best_description = description\n",
    "            best_condition = condition\n",
    "    \n",
    "    return best_gini_impurity, best_description, best_condition"
   ]
  },
  {
   "cell_type": "code",
   "execution_count": 50,
   "metadata": {},
   "outputs": [
    {
     "data": {
      "text/plain": [
       "(0.3333333333333333, '패션스타그램', <function __main__.<lambda>(data)>)"
      ]
     },
     "execution_count": 50,
     "metadata": {},
     "output_type": "execute_result"
    }
   ],
   "source": [
    "condition1 = lambda data : data[\"패션스타그램\"] == True\n",
    "condition2 = lambda data : data[\"데일리룩\"] == True\n",
    "condition3 = lambda data : data[\"우산\"] == True\n",
    "\n",
    "condition_list = {\n",
    "    \"패션스타그램\" : condition1,\n",
    "     \"데일리룩\" : condition2,\n",
    "     \"우산\" : condition3,\n",
    "}\n",
    "\n",
    "find_best_condition(data,condition_list)"
   ]
  },
  {
   "cell_type": "code",
   "execution_count": 52,
   "metadata": {},
   "outputs": [],
   "source": [
    "# classification : gini impurity | entropy \n",
    "# regression : mean squared error"
   ]
  },
  {
   "cell_type": "code",
   "execution_count": null,
   "metadata": {},
   "outputs": [],
   "source": []
  }
 ],
 "metadata": {
  "kernelspec": {
   "display_name": "Python 3",
   "language": "python",
   "name": "python3"
  },
  "language_info": {
   "codemirror_mode": {
    "name": "ipython",
    "version": 3
   },
   "file_extension": ".py",
   "mimetype": "text/x-python",
   "name": "python",
   "nbconvert_exporter": "python",
   "pygments_lexer": "ipython3",
   "version": "3.7.3"
  }
 },
 "nbformat": 4,
 "nbformat_minor": 2
}
