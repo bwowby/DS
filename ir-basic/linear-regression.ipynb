{
 "cells": [
  {
   "cell_type": "code",
   "execution_count": 2,
   "metadata": {},
   "outputs": [],
   "source": [
    "# 주피터 노트북에서 그림을 바로 띄워주도록 합니다. \n",
    "%matplotlib inline\n",
    "# 실습을 위해 필요한 패키지를 불러옵니다. \n",
    "# 수학연산에 필요한 numpy, 데이터를 분석하는데 도움을 주는 패키지 pandas, \n",
    "# 학습결과를 그래프로 그려주는 matplotlib의 pyplot \n",
    "import numpy as np\n",
    "import pandas as pd\n",
    "import matplotlib.pyplot as plt"
   ]
  },
  {
   "cell_type": "markdown",
   "metadata": {},
   "source": [
    "## Generate Dataset\n",
    "선형 회귀에 사용할 데이터셋 만들기   \n",
    "0도에서 100도 사이의 값을 갖는 섭씨온도 데이터를 100개 만든다 -> feature가 됨"
   ]
  },
  {
   "cell_type": "code",
   "execution_count": 4,
   "metadata": {},
   "outputs": [
    {
     "data": {
      "text/plain": [
       "array([ 8, 69, 24, 47, 60, 56, 12, 37, 38, 78, 58, 77, 92, 97, 16, 74, 53,\n",
       "       72, 94, 71, 62, 89, 86, 20, 48, 46, 73, 25, 92,  7, 22, 15, 38, 46,\n",
       "       20, 75, 93, 26, 60, 70, 83, 16, 20,  6, 86,  0, 28, 30, 88, 71, 52,\n",
       "       31, 77, 83, 80, 12, 44, 35, 57,  0, 91, 59, 82, 56, 63, 97, 13, 12,\n",
       "       82, 73, 28, 93, 91, 68, 96, 68, 98, 49, 17, 76, 37, 38, 45, 89, 40,\n",
       "       67, 83,  4, 55, 94, 97, 54,  6, 58,  4, 60, 87, 29, 92, 24])"
      ]
     },
     "execution_count": 4,
     "metadata": {},
     "output_type": "execute_result"
    }
   ],
   "source": [
    "C = np.random.randint(low = 0, high = 100, size = 100)\n",
    "C"
   ]
  },
  {
   "cell_type": "code",
   "execution_count": 5,
   "metadata": {},
   "outputs": [
    {
     "data": {
      "text/plain": [
       "array([ 46.4, 156.2,  75.2, 116.6, 140. , 132.8,  53.6,  98.6, 100.4,\n",
       "       172.4, 136.4, 170.6, 197.6, 206.6,  60.8, 165.2, 127.4, 161.6,\n",
       "       201.2, 159.8, 143.6, 192.2, 186.8,  68. , 118.4, 114.8, 163.4,\n",
       "        77. , 197.6,  44.6,  71.6,  59. , 100.4, 114.8,  68. , 167. ,\n",
       "       199.4,  78.8, 140. , 158. , 181.4,  60.8,  68. ,  42.8, 186.8,\n",
       "        32. ,  82.4,  86. , 190.4, 159.8, 125.6,  87.8, 170.6, 181.4,\n",
       "       176. ,  53.6, 111.2,  95. , 134.6,  32. , 195.8, 138.2, 179.6,\n",
       "       132.8, 145.4, 206.6,  55.4,  53.6, 179.6, 163.4,  82.4, 199.4,\n",
       "       195.8, 154.4, 204.8, 154.4, 208.4, 120.2,  62.6, 168.8,  98.6,\n",
       "       100.4, 113. , 192.2, 104. , 152.6, 181.4,  39.2, 131. , 201.2,\n",
       "       206.6, 129.2,  42.8, 136.4,  39.2, 140. , 188.6,  84.2, 197.6,\n",
       "        75.2])"
      ]
     },
     "execution_count": 5,
     "metadata": {},
     "output_type": "execute_result"
    }
   ],
   "source": [
    "F = C * 1.8 + 32\n",
    "F"
   ]
  },
  {
   "cell_type": "code",
   "execution_count": 6,
   "metadata": {},
   "outputs": [
    {
     "data": {
      "text/plain": [
       "<matplotlib.collections.PathCollection at 0x26f2c8c8ef0>"
      ]
     },
     "execution_count": 6,
     "metadata": {},
     "output_type": "execute_result"
    },
    {
     "data": {
      "image/png": "[encoded data removed]",
      "text/plain": [
       "<Figure size 432x288 with 1 Axes>"
      ]
     },
     "metadata": {
      "needs_background": "light"
     },
     "output_type": "display_data"
    }
   ],
   "source": [
    "plt.scatter(C,F)"
   ]
  },
  {
   "cell_type": "code",
   "execution_count": 42,
   "metadata": {},
   "outputs": [
    {
     "data": {
      "text/plain": [
       "(1.8, -0.1538738282585166)"
      ]
     },
     "execution_count": 42,
     "metadata": {},
     "output_type": "execute_result"
    }
   ],
   "source": [
    "'''\n",
    "18과 32를 모르는 상태에서 이 곱해지고 더해지는 값을 찾고싶다\n",
    "w == weight (가중치)\n",
    "b == bias (편향)\n",
    "\n",
    "y = wx + b\n",
    "'''\n",
    "#랜덤한 값 중에 예측해보자!\n",
    "\n",
    "X = C\n",
    "y = F\n",
    "\n",
    "#w = np.random.uniform(low = -1.0, high = +1.0)\n",
    "w = 1.8\n",
    "b = np.random.uniform(low = -1.0, high = +1.0)\n",
    "\n",
    "w,b"
   ]
  },
  {
   "cell_type": "code",
   "execution_count": null,
   "metadata": {},
   "outputs": [],
   "source": []
  },
  {
   "cell_type": "code",
   "execution_count": 43,
   "metadata": {},
   "outputs": [
    {
     "data": {
      "text/plain": [
       "array([ 14.24612617, 124.04612617,  43.04612617,  84.44612617,\n",
       "       107.84612617, 100.64612617,  21.44612617,  66.44612617,\n",
       "        68.24612617, 140.24612617])"
      ]
     },
     "execution_count": 43,
     "metadata": {},
     "output_type": "execute_result"
    }
   ],
   "source": [
    "#F = 1.8* C + 32\n",
    "\n",
    "y_predict = w * X + b\n",
    "y_predict[0:10]"
   ]
  },
  {
   "cell_type": "code",
   "execution_count": 44,
   "metadata": {},
   "outputs": [
    {
     "data": {
      "text/plain": [
       "[<matplotlib.lines.Line2D at 0x26f2ddf57b8>]"
      ]
     },
     "execution_count": 44,
     "metadata": {},
     "output_type": "execute_result"
    },
    {
     "data": {
      "image/png": "[encoded data removed]",
      "text/plain": [
       "<Figure size 432x288 with 1 Axes>"
      ]
     },
     "metadata": {
      "needs_background": "light"
     },
     "output_type": "display_data"
    }
   ],
   "source": [
    "# 이 둘의 차이를 보정해 나가면서 없애서 값을 찾고싶다!\n",
    "plt.scatter(C,F)\n",
    "plt.plot(C,y_predict, c='r')"
   ]
  },
  {
   "cell_type": "code",
   "execution_count": 45,
   "metadata": {},
   "outputs": [
    {
     "data": {
      "text/plain": [
       "(1.8, 31.99999999999999)"
      ]
     },
     "execution_count": 45,
     "metadata": {},
     "output_type": "execute_result"
    }
   ],
   "source": [
    "# 정답과 예측값의 차이를 보정해주면 32에 도달할 것이다\n",
    "b = b - (y_predict - y).mean()\n",
    "\n",
    "w,b"
   ]
  },
  {
   "cell_type": "code",
   "execution_count": 46,
   "metadata": {},
   "outputs": [
    {
     "data": {
      "text/plain": [
       "array([ 46.4, 156.2,  75.2, 116.6, 140. , 132.8,  53.6,  98.6, 100.4,\n",
       "       172.4])"
      ]
     },
     "execution_count": 46,
     "metadata": {},
     "output_type": "execute_result"
    }
   ],
   "source": [
    "y_predict = w * X + b\n",
    "y_predict[0:10]"
   ]
  },
  {
   "cell_type": "code",
   "execution_count": 47,
   "metadata": {},
   "outputs": [
    {
     "data": {
      "text/plain": [
       "[<matplotlib.lines.Line2D at 0x26f2de5c9e8>]"
      ]
     },
     "execution_count": 47,
     "metadata": {},
     "output_type": "execute_result"
    },
    {
     "data": {
      "image/png": "[encoded data removed]",
      "text/plain": [
       "<Figure size 432x288 with 1 Axes>"
      ]
     },
     "metadata": {
      "needs_background": "light"
     },
     "output_type": "display_data"
    }
   ],
   "source": [
    "# 이 둘의 차이를 보정해 나가면서 없애서 값을 찾고싶다!\n",
    "plt.scatter(C,F)\n",
    "plt.plot(C,y_predict, c='r')"
   ]
  },
  {
   "cell_type": "markdown",
   "metadata": {},
   "source": [
    "### weight,bias 값 찾기\n",
    "w는 여러개일 수 있고 b는 한개 "
   ]
  },
  {
   "cell_type": "code",
   "execution_count": 81,
   "metadata": {},
   "outputs": [
    {
     "data": {
      "text/plain": [
       "(0.3445854548703091, -0.8070754776831315)"
      ]
     },
     "execution_count": 81,
     "metadata": {},
     "output_type": "execute_result"
    }
   ],
   "source": [
    "w = np.random.uniform(low = -1.0, high = +1.0)\n",
    "b = np.random.uniform(low = -1.0, high = +1.0)\n",
    "\n",
    "w,b"
   ]
  },
  {
   "cell_type": "code",
   "execution_count": 82,
   "metadata": {},
   "outputs": [
    {
     "data": {
      "text/plain": [
       "array([ 1.94960816, 22.96932091,  7.46297544, 15.3884409 , 19.86805181,\n",
       "       18.48971   ,  3.32794998, 11.94258635, 12.28717181, 26.07059   ])"
      ]
     },
     "execution_count": 82,
     "metadata": {},
     "output_type": "execute_result"
    }
   ],
   "source": [
    "y_predict = w * X + b\n",
    "y_predict[0:10]"
   ]
  },
  {
   "cell_type": "code",
   "execution_count": 83,
   "metadata": {},
   "outputs": [
    {
     "data": {
      "text/plain": [
       "[<matplotlib.lines.Line2D at 0x26f2f17bf60>]"
      ]
     },
     "execution_count": 83,
     "metadata": {},
     "output_type": "execute_result"
    },
    {
     "data": {
      "image/png": "[encoded data removed]",
      "text/plain": [
       "<Figure size 432x288 with 1 Axes>"
      ]
     },
     "metadata": {
      "needs_background": "light"
     },
     "output_type": "display_data"
    }
   ],
   "source": [
    "plt.scatter(C,F)\n",
    "plt.plot(C,y_predict, c='r')"
   ]
  },
  {
   "cell_type": "code",
   "execution_count": 84,
   "metadata": {},
   "outputs": [
    {
     "data": {
      "text/plain": [
       "(2.5355593759783783, -0.7735683145360177)"
      ]
     },
     "execution_count": 84,
     "metadata": {},
     "output_type": "execute_result"
    }
   ],
   "source": [
    "# 기울기가 생기는 순간 너무 많이 변하면 안되니까 좀 줄여주는 하이퍼 파라미터\n",
    "learning_rate = 0.0003\n",
    "\n",
    "#이걸 여러번 반복문으로 업데이트 시켜줘야함\n",
    "w = w - learning_rate * ((y_predict-y)*X).mean()\n",
    "b = b - learning_rate * (y_predict-y).mean()\n",
    "\n",
    "w,b"
   ]
  },
  {
   "cell_type": "code",
   "execution_count": 85,
   "metadata": {},
   "outputs": [
    {
     "data": {
      "text/plain": [
       "array([ 19.51090669, 174.18002863,  60.07985671, 118.39772236,\n",
       "       151.35999424, 141.21775674,  29.6531442 ,  93.0421286 ,\n",
       "        95.57768797, 197.00006301])"
      ]
     },
     "execution_count": 85,
     "metadata": {},
     "output_type": "execute_result"
    }
   ],
   "source": [
    "y_predict = w * X + b\n",
    "y_predict[0:10]"
   ]
  },
  {
   "cell_type": "code",
   "execution_count": 86,
   "metadata": {},
   "outputs": [
    {
     "data": {
      "text/plain": [
       "[<matplotlib.lines.Line2D at 0x26f2f1ad9e8>]"
      ]
     },
     "execution_count": 86,
     "metadata": {},
     "output_type": "execute_result"
    },
    {
     "data": {
      "image/png": "[encoded data removed]",
      "text/plain": [
       "<Figure size 432x288 with 1 Axes>"
      ]
     },
     "metadata": {
      "needs_background": "light"
     },
     "output_type": "display_data"
    }
   ],
   "source": [
    "plt.scatter(C,F)\n",
    "plt.plot(C,y_predict, c='r')"
   ]
  },
  {
   "cell_type": "code",
   "execution_count": 99,
   "metadata": {},
   "outputs": [
    {
     "name": "stdout",
     "output_type": "stream",
     "text": [
      "w = 2.642087, b = -0.488187\n",
      "w = 2.035421, b = 15.511808\n",
      "w = 1.919459, b = 23.633411\n",
      "w = 1.860617, b = 27.754549\n",
      "w = 1.830759, b = 29.845734\n",
      "w = 1.815608, b = 30.906863\n",
      "w = 1.807920, b = 31.445310\n",
      "w = 1.804019, b = 31.718534\n",
      "w = 1.802039, b = 31.857176\n",
      "w = 1.801035, b = 31.927527\n"
     ]
    }
   ],
   "source": [
    "num_epoch = 100000\n",
    "# 기울기가 생기는 순간 너무 많이 변하면 안되니까 좀 줄여주는 하이퍼 파라미터\n",
    "learning_rate = 0.0003\n",
    "\n",
    "w = np.random.uniform(low = -1.0, high = +1.0)\n",
    "b = np.random.uniform(low = -1.0, high = +1.0)\n",
    "\n",
    "#이걸 여러번 반복문으로 업데이트 시켜줘야함\n",
    "for epoch in range(num_epoch):\n",
    "    y_predict = w * X + b\n",
    "    w = w - learning_rate * ((y_predict-y)*X).mean()\n",
    "    b = b - learning_rate * (y_predict-y).mean()\n",
    "    \n",
    "    if(epoch % 10000 == 0) :\n",
    "        print(f\"w = {w:.6f}, b = {b:.6f}\")"
   ]
  },
  {
   "cell_type": "code",
   "execution_count": 100,
   "metadata": {},
   "outputs": [
    {
     "data": {
      "text/plain": [
       "[<matplotlib.lines.Line2D at 0x26f2f070b38>]"
      ]
     },
     "execution_count": 100,
     "metadata": {},
     "output_type": "execute_result"
    },
    {
     "data": {
      "image/png": "[encoded data removed]",
      "text/plain": [
       "<Figure size 432x288 with 1 Axes>"
      ]
     },
     "metadata": {
      "needs_background": "light"
     },
     "output_type": "display_data"
    }
   ],
   "source": [
    "plt.scatter(C,F)\n",
    "plt.plot(C,y_predict, c='r')"
   ]
  },
  {
   "cell_type": "markdown",
   "metadata": {},
   "source": [
    "--2-3"
   ]
  },
  {
   "cell_type": "code",
   "execution_count": null,
   "metadata": {},
   "outputs": [],
   "source": []
  }
 ],
 "metadata": {
  "kernelspec": {
   "display_name": "Python 3",
   "language": "python",
   "name": "python3"
  },
  "language_info": {
   "codemirror_mode": {
    "name": "ipython",
    "version": 3
   },
   "file_extension": ".py",
   "mimetype": "text/x-python",
   "name": "python",
   "nbconvert_exporter": "python",
   "pygments_lexer": "ipython3",
   "version": "3.7.3"
  }
 },
 "nbformat": 4,
 "nbformat_minor": 2
}
