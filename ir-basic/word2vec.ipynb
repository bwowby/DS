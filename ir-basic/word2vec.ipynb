{
  "nbformat": 4,
  "nbformat_minor": 0,
  "metadata": {
    "colab": {
      "name": "word2vec.ipynb",
      "provenance": [],
      "collapsed_sections": [],
      "authorship_tag": "ABX9TyMxSuO0DnVMDBpHqKF7uOck",
      "include_colab_link": true
    },
    "kernelspec": {
      "name": "python3",
      "display_name": "Python 3"
    }
  },
  "cells": [
    {
      "cell_type": "markdown",
      "metadata": {
        "id": "view-in-github",
        "colab_type": "text"
      },
      "source": [
        "<a href=\"https://colab.research.google.com/github/bwowby/DS/blob/master/ir-basic/word2vec.ipynb\" target=\"_parent\"><img src=\"https://colab.research.google.com/assets/colab-badge.svg\" alt=\"Open In Colab\"/></a>"
      ]
    },
    {
      "cell_type": "markdown",
      "metadata": {
        "id": "fLeRBdCOU_AH"
      },
      "source": [
        "## Word Embedding\r\n",
        "희소(sparse) 벡터인 원핫벡터와는 달리 단어를 밀집(dense) 벡터로 표현하는 방법.   \r\n",
        "LSA,Word2Vec,FastText,Glove 등의 방법론이 있다.\r\n"
      ]
    },
    {
      "cell_type": "markdown",
      "metadata": {
        "id": "pjxY0AxFWQCn"
      },
      "source": [
        "### Word2Vec\r\n",
        "\r\n",
        "영어/한국어 Word2Vec 실습   \r\n",
        "https://wikidocs.net/50739"
      ]
    },
    {
      "cell_type": "markdown",
      "metadata": {
        "id": "S7_euyCEbb2N"
      },
      "source": [
        "#### 필요한 모듈 import"
      ]
    },
    {
      "cell_type": "code",
      "metadata": {
        "colab": {
          "base_uri": "https://localhost:8080/"
        },
        "id": "c7oOfqjVU8OW",
        "outputId": "112ba272-e926-4fb2-c594-52f9103f14d5"
      },
      "source": [
        "import nltk\r\n",
        "nltk.download('punkt')"
      ],
      "execution_count": 2,
      "outputs": [
        {
          "output_type": "stream",
          "text": [
            "[nltk_data] Downloading package punkt to /root/nltk_data...\n",
            "[nltk_data]   Package punkt is already up-to-date!\n"
          ],
          "name": "stdout"
        },
        {
          "output_type": "execute_result",
          "data": {
            "text/plain": [
              "True"
            ]
          },
          "metadata": {
            "tags": []
          },
          "execution_count": 2
        }
      ]
    },
    {
      "cell_type": "code",
      "metadata": {
        "id": "SVaHocSUUoMp"
      },
      "source": [
        "import urllib.request\r\n",
        "import zipfile\r\n",
        "from lxml import etree\r\n",
        "import re\r\n",
        "from nltk.tokenize import word_tokenize, sent_tokenize"
      ],
      "execution_count": 3,
      "outputs": []
    },
    {
      "cell_type": "markdown",
      "metadata": {
        "id": "VHXy8sXfbfqv"
      },
      "source": [
        "#### 데이터 불러오기 및 전처리"
      ]
    },
    {
      "cell_type": "code",
      "metadata": {
        "colab": {
          "base_uri": "https://localhost:8080/"
        },
        "id": "xgf3OqqbZAE4",
        "outputId": "f08e89e4-3526-4fea-b2f8-4d06a72ab782"
      },
      "source": [
        "# xml로 되어있는 데이터 다운로드 (아마 테드 강연 대본인듯)\r\n",
        "urllib.request.urlretrieve(\"https://raw.githubusercontent.com/GaoleMeng/RNN-and-FFNN-textClassification/master/ted_en-20160408.xml\", filename=\"ted_en-20160408.xml\")"
      ],
      "execution_count": 6,
      "outputs": [
        {
          "output_type": "execute_result",
          "data": {
            "text/plain": [
              "('ted_en-20160408.xml', <http.client.HTTPMessage at 0x7efec02eae10>)"
            ]
          },
          "metadata": {
            "tags": []
          },
          "execution_count": 6
        }
      ]
    },
    {
      "cell_type": "code",
      "metadata": {
        "id": "v0odUsOcZID6"
      },
      "source": [
        "# xml 데이터 파일은 자연어를 얻기 위해 전처리가 필요함 -> 태그들 제거하고 데이터만 가져와야한다\r\n",
        "# 내용 중에는 (Laughter)나 (Applause)와 같은 배경음을 나타내는 단어도 제거\r\n",
        "targetXML = open('ted_en-20160408.xml', 'r', encoding='UTF8')\r\n",
        "target_text = etree.parse(targetXML)\r\n",
        "\r\n",
        "# xml 파일로 부터 <content> 태그 사이의 내용만 가져옴\r\n",
        "parse_text = '\\n'.join(target_text.xpath('//content/text()'))\r\n",
        "\r\n",
        "# 정규 표현식의 sub 모듈을 통해 content 중간에 등장하는 괄호가 붙은 Audio, Laughter 등의 배경음 제거\r\n",
        "content_text = re.sub(r'\\([^)]*\\)','',parse_text)\r\n",
        "\r\n",
        "# 입력 corpus에 대해 nltk를 이용해 문장 토큰화 수행\r\n",
        "sent_text = sent_tokenize(content_text)\r\n",
        "\r\n",
        "# 각 문장에서 구두점 제거 및 대문자->소문자 변환\r\n",
        "normalized_text=[]\r\n",
        "for string in sent_text:\r\n",
        "  tokens = re.sub(r\"[^a-z0-9]+\",\" \",string.lower())\r\n",
        "  normalized_text.append(tokens)\r\n",
        "\r\n",
        "# 각 문장에 대해 nltk를 이용해 단어 토큰화 수행\r\n",
        "result = [word_tokenize(sentence) for sentence in normalized_text]"
      ],
      "execution_count": 13,
      "outputs": []
    },
    {
      "cell_type": "code",
      "metadata": {
        "colab": {
          "base_uri": "https://localhost:8080/"
        },
        "id": "pcollLHYcn5X",
        "outputId": "182caf05-1176-4545-f88e-6a991fae5a37"
      },
      "source": [
        "print('총 샘플의 개수 : {}'.format(len(result)))"
      ],
      "execution_count": 14,
      "outputs": [
        {
          "output_type": "stream",
          "text": [
            "총 샘플의 개수 : 273424\n"
          ],
          "name": "stdout"
        }
      ]
    },
    {
      "cell_type": "code",
      "metadata": {
        "colab": {
          "base_uri": "https://localhost:8080/"
        },
        "id": "aHMpcQEteJ5N",
        "outputId": "a6f2cef3-cb0b-4d94-f37a-4fea9e78ab3c"
      },
      "source": [
        "# 샘플 2개만 출력\r\n",
        "for line in result[:2] :\r\n",
        "  print(line)"
      ],
      "execution_count": 20,
      "outputs": [
        {
          "output_type": "stream",
          "text": [
            "['here', 'are', 'two', 'reasons', 'companies', 'fail', 'they', 'only', 'do', 'more', 'of', 'the', 'same', 'or', 'they', 'only', 'do', 'what', 's', 'new']\n",
            "['to', 'me', 'the', 'real', 'real', 'solution', 'to', 'quality', 'growth', 'is', 'figuring', 'out', 'the', 'balance', 'between', 'two', 'activities', 'exploration', 'and', 'exploitation']\n"
          ],
          "name": "stdout"
        }
      ]
    },
    {
      "cell_type": "markdown",
      "metadata": {
        "id": "we1XvKpeegm_"
      },
      "source": [
        "#### Word2Vec 훈련시키기"
      ]
    },
    {
      "cell_type": "code",
      "metadata": {
        "id": "EW_PXxd7eL7_"
      },
      "source": [
        "from gensim.models import Word2Vec\r\n",
        "\r\n",
        "'''\r\n",
        "하이퍼 파라미터 값\r\n",
        "size = 워드벡터의 특징 값, 차원\r\n",
        "window = 컨텍스트 윈도우 크기\r\n",
        "min_count = 단어 최소 빈도수 제한(빈도가 적은 단어는 학습 ㄴㄴ)\r\n",
        "workers = 학습위한 프로세스 수 \r\n",
        "sg = 0 :CBOW, 1은 Skip-gram ???? \r\n",
        "'''\r\n",
        "model = Word2Vec(sentences=result, size=100, window=5, min_count=5, workers=4, sg=0)"
      ],
      "execution_count": 21,
      "outputs": []
    },
    {
      "cell_type": "code",
      "metadata": {
        "colab": {
          "base_uri": "https://localhost:8080/"
        },
        "id": "MK_KZ07IetvR",
        "outputId": "43c97cc8-9896-4707-f53a-ddecbc88c084"
      },
      "source": [
        "# man 과 가장 유사한 단어 출력해보기 -> man,guy,boy,lady,girl.. 0o0\r\n",
        "model_result = model.wv.most_similar(\"man\")\r\n",
        "print(model_result)"
      ],
      "execution_count": 22,
      "outputs": [
        {
          "output_type": "stream",
          "text": [
            "[('woman', 0.8388179540634155), ('guy', 0.8041568398475647), ('lady', 0.7654938697814941), ('boy', 0.7507497072219849), ('girl', 0.7469621896743774), ('soldier', 0.7337659597396851), ('gentleman', 0.7119193077087402), ('kid', 0.682303786277771), ('surgeon', 0.6811317205429077), ('friend', 0.6660101413726807)]\n"
          ],
          "name": "stdout"
        }
      ]
    },
    {
      "cell_type": "markdown",
      "metadata": {
        "id": "e10qXqBifrPh"
      },
      "source": [
        "#### 공들여 만든 모델 저장 및 로드하기"
      ]
    },
    {
      "cell_type": "code",
      "metadata": {
        "id": "Gl5Op-9GferW"
      },
      "source": [
        "from gensim.models import KeyedVectors\r\n",
        "model.wv.save_word2vec_format('eng_w2v') # 저장\r\n",
        "loaded_model = KeyedVectors.load_word2vec_format(\"eng_w2v\") #모델 로드"
      ],
      "execution_count": 27,
      "outputs": []
    },
    {
      "cell_type": "code",
      "metadata": {
        "colab": {
          "base_uri": "https://localhost:8080/"
        },
        "id": "iK9rasf9f_JK",
        "outputId": "47ee472e-4ac7-4251-bd46-ff5356787aea"
      },
      "source": [
        "model_result = loaded_model.most_similar(\"man\")\r\n",
        "print(model_result) #똑같!!!"
      ],
      "execution_count": 28,
      "outputs": [
        {
          "output_type": "stream",
          "text": [
            "[('woman', 0.8388179540634155), ('guy', 0.8041568398475647), ('lady', 0.7654938697814941), ('boy', 0.7507497072219849), ('girl', 0.7469621896743774), ('soldier', 0.7337659597396851), ('gentleman', 0.7119193077087402), ('kid', 0.682303786277771), ('surgeon', 0.6811317205429077), ('friend', 0.6660101413726807)]\n"
          ],
          "name": "stdout"
        }
      ]
    },
    {
      "cell_type": "code",
      "metadata": {
        "id": "NbpzU7Z0gOme"
      },
      "source": [
        ""
      ],
      "execution_count": null,
      "outputs": []
    }
  ]
}