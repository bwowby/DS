{
  "nbformat": 4,
  "nbformat_minor": 0,
  "metadata": {
    "colab": {
      "name": "voting.ipynb",
      "provenance": [],
      "collapsed_sections": [],
      "authorship_tag": "ABX9TyMhZ6R7AK1hkcyM1S8c8YWa",
      "include_colab_link": true
    },
    "kernelspec": {
      "name": "python3",
      "display_name": "Python 3"
    }
  },
  "cells": [
    {
      "cell_type": "markdown",
      "metadata": {
        "id": "view-in-github",
        "colab_type": "text"
      },
      "source": [
        "<a href=\"https://colab.research.google.com/github/bwowby/DS/blob/master/ir-basic/voting.ipynb\" target=\"_parent\"><img src=\"https://colab.research.google.com/assets/colab-badge.svg\" alt=\"Open In Colab\"/></a>"
      ]
    },
    {
      "cell_type": "markdown",
      "metadata": {
        "id": "dijyfK5pSDrC"
      },
      "source": [
        "# Voting\r\n",
        "앙상블 기법 중 하나.\r\n",
        "bagging과 유사하다 voting은 다른 알고리즘을 조합하여 사용한다.   \r\n",
        "hard/soft vote로 나뉘며    \r\n",
        "hard vote : 결과물에 대한 최종값을 투표하여 가장 많이 나온 값으로 범주로 분류   \r\n",
        "soft vote : 각 분류기의 예측 값의 각 확률을 평균을 내 이 평균이 가장 높은 것으로 범주를 분류"
      ]
    },
    {
      "cell_type": "code",
      "metadata": {
        "id": "n4wLunSPPmTo"
      },
      "source": [
        "from sklearn.tree import DecisionTreeClassifier\r\n",
        "from sklearn.ensemble import RandomForestClassifier, AdaBoostClassifier, ExtraTreesClassifier,BaggingClassifier, GradientBoostingClassifier\r\n",
        "from sklearn.svm import SVC\r\n",
        "from xgboost import XGBClassifier\r\n",
        "from lightgbm import LGBMClassifier\r\n",
        "from sklearn.neighbors import KNeighborsClassifier\r\n",
        "from sklearn.linear_model import LogisticRegressionCV, RidgeClassifier\r\n",
        "\r\n",
        "#VotingClassifier\r\n",
        "from sklearn.ensemble import VotingClassifier"
      ],
      "execution_count": null,
      "outputs": []
    },
    {
      "cell_type": "code",
      "metadata": {
        "id": "Ue-dwX0cQcmE"
      },
      "source": [
        "# 앙상블할 model 정의\r\n",
        "\r\n",
        "models = [\r\n",
        "          ('ada', AdaBoostClassifier()),\r\n",
        "          ('bc', BaggingClassifier()),\r\n",
        "          ('etc',ExtraTreesClassifier()),\r\n",
        "          ('gbc',GradientBoostingClassifier()),\r\n",
        "          ('rfc',RandomForestClassifier()),\r\n",
        "          ('knn',KNeighborsClassifier()),\r\n",
        "          ('svc',SVC(probability=True)),\r\n",
        "          ('xgb',XGBClassifier()),\r\n",
        "          ('lgbm', LGBMClassifier()),\r\n",
        "          ('dtc',DecisionTreeClassifier()),\r\n",
        "          ('lr',LogisticRegressionCV()),\r\n",
        "          ('ridge',RidgeClassifier()),\r\n",
        "]\r\n"
      ],
      "execution_count": null,
      "outputs": []
    },
    {
      "cell_type": "code",
      "metadata": {
        "id": "KSiVPfqVRi7B"
      },
      "source": [
        "#hard vote\r\n",
        "hard_vote = VotingClassifier(models, voting='hard')\r\n",
        "hard_vote_cv = cross_validate(hard_vote,x_train,y_train,cv=k_fold)\r\n",
        "hard_vote.fit(x_train,y_train)"
      ],
      "execution_count": null,
      "outputs": []
    },
    {
      "cell_type": "code",
      "metadata": {
        "id": "-tQ4E2i0W8j1"
      },
      "source": [
        "# soft vote\r\n",
        "soft_vote = VotingClassifier(models, voting='soft')\r\n",
        "soft_vote_cv = cross_validate(soft_vote, x_train, x_train, cv=k_fold)\r\n",
        "soft_vote.fit(x_tring,y_train)"
      ],
      "execution_count": null,
      "outputs": []
    }
  ]
}