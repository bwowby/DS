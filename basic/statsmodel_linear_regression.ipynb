{
  "nbformat": 4,
  "nbformat_minor": 0,
  "metadata": {
    "colab": {
      "name": "statsmodel_linear_regression.ipynb의 사본",
      "provenance": [],
      "toc_visible": true,
      "include_colab_link": true
    },
    "kernelspec": {
      "name": "python3",
      "display_name": "Python 3"
    }
  },
  "cells": [
    {
      "cell_type": "markdown",
      "metadata": {
        "id": "view-in-github",
        "colab_type": "text"
      },
      "source": [
        "<a href=\"https://colab.research.google.com/github/bwowby/DS/blob/master/statsmodel_linear_regression.ipynb\" target=\"_parent\"><img src=\"https://colab.research.google.com/assets/colab-badge.svg\" alt=\"Open In Colab\"/></a>"
      ]
    },
    {
      "cell_type": "code",
      "metadata": {
        "id": "pVbqWTe_mu9U",
        "outputId": "cdcdc5ec-5bea-4663-81b2-4eb76955ac59",
        "colab": {
          "base_uri": "https://localhost:8080/",
          "height": 53
        }
      },
      "source": [
        "import numpy as np\n",
        "import io\n",
        "import statsmodels.api"
      ],
      "execution_count": null,
      "outputs": [
        {
          "output_type": "stream",
          "text": [
            "/usr/local/lib/python3.6/dist-packages/statsmodels/tools/_testing.py:19: FutureWarning: pandas.util.testing is deprecated. Use the functions in the public API at pandas.testing instead.\n",
            "  import pandas.util.testing as tm\n"
          ],
          "name": "stderr"
        }
      ]
    },
    {
      "cell_type": "code",
      "metadata": {
        "id": "qUPc-I4iOIQ5"
      },
      "source": [
        "def main():\n",
        "    (N, X, Y) = read_data()\n",
        "    results = do_simple_regression(N, X, Y)\n",
        "    print(results.summary())\n",
        "    print(\"pvalues\", results.pvalues)\n",
        "    print(results.params)\n",
        "def read_data():\n",
        "    # 1\n",
        "    N = int(input().strip())\n",
        "    X = np.array([])\n",
        "    Y = np.array([])\n",
        "    for i in range(N):\n",
        "        tmp = input()\n",
        "        X = np.append(X,int(tmp.split(\" \")[0]))\n",
        "        Y = np.append(Y,int(tmp.split(\" \")[1]))\n",
        "        print(X,Y)\n",
        "    return (N, X, Y)\n",
        "\n",
        "def do_simple_regression(N, X, Y):\n",
        "    # 2\n",
        "    X = X.T\n",
        "    X = statsmodels.api.add_constant(X)\n",
        "    results = statsmodels.api.OLS(Y,X).fit()\n",
        "    return results\n",
        "\n",
        "if __name__ == \"__main__\":\n",
        "    main()\n"
      ],
      "execution_count": null,
      "outputs": []
    },
    {
      "cell_type": "code",
      "metadata": {
        "id": "dqZLcc9l5hGz"
      },
      "source": [
        "## pvalues: 0.05 미만의 값일 때 독립변수와 종속변수가 유의미한 상관관계를 가지고 있다고 할수 있음"
      ],
      "execution_count": null,
      "outputs": []
    },
    {
      "cell_type": "markdown",
      "metadata": {
        "id": "OW1qua9P6N5d"
      },
      "source": [
        "## statemodels.api.OLS (Ordinary Least Square)\n",
        "*  각 지점 들에서 가장 가까운 선을 일차함수 그래프의 식으로 나타내는 것이 최소 제곱법의 목적\n",
        "*   **pvalues**: 검정 통계량 보다 크거나 같은 값을 얻을 수 있는 확률. 0.05 미만의 값일 때 독립변수와 종속변수가 유의미한 상관관계를 가지고 있다고 할수 있음.\n",
        "\n",
        "*   **계수(coefficient,coef)**: 계수가 양이라면 해당 변수가 종속변수에 양으로 연관, 음이라면 음으로 연관되어 있음을 의미.  \n"
      ]
    },
    {
      "cell_type": "code",
      "metadata": {
        "id": "cFe3Ivo96TDN"
      },
      "source": [
        ""
      ],
      "execution_count": null,
      "outputs": []
    }
  ]
}