{
 "cells": [
  {
   "cell_type": "code",
   "execution_count": 14,
   "metadata": {},
   "outputs": [],
   "source": [
    "import pandas as pd"
   ]
  },
  {
   "cell_type": "markdown",
   "metadata": {},
   "source": [
    "### Evaluate Gini impurity"
   ]
  },
  {
   "cell_type": "code",
   "execution_count": 15,
   "metadata": {},
   "outputs": [],
   "source": [
    "data = {\n",
    "    '이름': [\"Kang\", \"Kim\", \"Choi\", \"Park\", \"Yoon\", \"Lee\"],\n",
    "    '데일리룩': [True, False, False, False, False, False],\n",
    "    '패션스타그램': [False, False, True, False, False, True],\n",
    "    '우산': [False, False, False, False, False, False],\n",
    "    'like': [True, False, True, True, False, True]\n",
    "}\n",
    "\n",
    "data = pd.DataFrame(data)\n",
    "data = data.set_index(\"이름\")\n",
    "data = data[[\"패션스타그램\", \"데일리룩\", \"우산\", \"like\"]]"
   ]
  },
  {
   "cell_type": "code",
   "execution_count": 20,
   "metadata": {},
   "outputs": [
    {
     "data": {
      "text/plain": [
       "0.4444444444444444"
      ]
     },
     "execution_count": 20,
     "metadata": {},
     "output_type": "execute_result"
    }
   ],
   "source": [
    "def evaluate_gini_impurity(data) : \n",
    "    \n",
    "    if len(data) == 0:\n",
    "        return 0\n",
    "    \n",
    "    true_probability = data[\"like\"].mean()\n",
    "    false_probability = 1 - true_probability\n",
    "\n",
    "    gini_impurity = 1 - true_probability ** 2 - false_probability ** 2\n",
    "    \n",
    "    return gini_impurity\n",
    "\n",
    "evaluate_gini_impurity(data)"
   ]
  },
  {
   "cell_type": "markdown",
   "metadata": {},
   "source": [
    "### Evaluate Average Gini impurity\n",
    "data 갯수에 맞게 비중을 반영하여 평균 구하기"
   ]
  },
  {
   "cell_type": "code",
   "execution_count": 31,
   "metadata": {},
   "outputs": [],
   "source": [
    "def evaluate_average_impurity(data, condition) : \n",
    "    true_data = data[condition(data)]\n",
    "    false_data = data[~condition(data)]\n",
    "    \n",
    "    true_impurity = evaluate_gini_impurity(true_data)\n",
    "    false_impurity = evaluate_gini_impurity(false_data)\n",
    "    \n",
    "    # 각 데이터 갯수 비중을 반영하기 위해 곱하기\n",
    "    gini_impurity = true_impurity * len(true_data) + false_impurity * len(false_data)\n",
    "    gini_impurity = gini_impurity / len(data)\n",
    "    \n",
    "    return gini_impurity"
   ]
  },
  {
   "cell_type": "code",
   "execution_count": 32,
   "metadata": {},
   "outputs": [
    {
     "data": {
      "text/plain": [
       "0.3333333333333333"
      ]
     },
     "execution_count": 32,
     "metadata": {},
     "output_type": "execute_result"
    }
   ],
   "source": [
    "condition = lambda data : data[\"패션스타그램\"] == True\n",
    "evaluate_average_impurity(data,condition)"
   ]
  },
  {
   "cell_type": "code",
   "execution_count": 33,
   "metadata": {},
   "outputs": [
    {
     "data": {
      "text/plain": [
       "0.39999999999999997"
      ]
     },
     "execution_count": 33,
     "metadata": {},
     "output_type": "execute_result"
    }
   ],
   "source": [
    "condition = lambda data : data[\"데일리룩\"] == True\n",
    "evaluate_average_impurity(data,condition)"
   ]
  },
  {
   "cell_type": "code",
   "execution_count": 34,
   "metadata": {},
   "outputs": [
    {
     "data": {
      "text/plain": [
       "0.4444444444444444"
      ]
     },
     "execution_count": 34,
     "metadata": {},
     "output_type": "execute_result"
    }
   ],
   "source": [
    "condition = lambda data : data[\"우산\"] == True\n",
    "evaluate_average_impurity(data,condition)"
   ]
  },
  {
   "cell_type": "code",
   "execution_count": null,
   "metadata": {},
   "outputs": [],
   "source": []
  }
 ],
 "metadata": {
  "kernelspec": {
   "display_name": "Python 3",
   "language": "python",
   "name": "python3"
  },
  "language_info": {
   "codemirror_mode": {
    "name": "ipython",
    "version": 3
   },
   "file_extension": ".py",
   "mimetype": "text/x-python",
   "name": "python",
   "nbconvert_exporter": "python",
   "pygments_lexer": "ipython3",
   "version": "3.7.3"
  }
 },
 "nbformat": 4,
 "nbformat_minor": 2
}
