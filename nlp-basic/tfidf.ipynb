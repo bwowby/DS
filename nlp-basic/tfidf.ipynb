{
  "nbformat": 4,
  "nbformat_minor": 0,
  "metadata": {
    "colab": {
      "name": "Untitled0.ipynb",
      "provenance": [],
      "authorship_tag": "ABX9TyNriIYxJ8IseoLeHFFPMJvx",
      "include_colab_link": true
    },
    "kernelspec": {
      "name": "python3",
      "display_name": "Python 3"
    }
  },
  "cells": [
    {
      "cell_type": "markdown",
      "metadata": {
        "id": "view-in-github",
        "colab_type": "text"
      },
      "source": [
        "<a href=\"https://colab.research.google.com/github/bwowby/DS/blob/master/nlp-basic/tfidf.ipynb\" target=\"_parent\"><img src=\"https://colab.research.google.com/assets/colab-badge.svg\" alt=\"Open In Colab\"/></a>"
      ]
    },
    {
      "cell_type": "markdown",
      "metadata": {
        "id": "8_YnPF_wbj6o"
      },
      "source": [
        "## BOW : Bag of Words\r\n",
        "\r\n",
        "*  가장 간단하지만, 자연어 처리에서 널리 쓰이는 개념적 방법.\r\n",
        "*  각 단어가 말뭉치(corpus)에 얼마나 많이 나타나는지만 헤아림.\r\n",
        "*  구조와 상관없이 단어의 출현 횟수만 카운팅.   \r\n",
        "*  횟수가 중요하기 때문에 단어의 순서가 달라도 같은 반환값을 가짐.\r\n",
        "*  이를 보완하기 위해 n-gram (n개의 토큰) 사용\r\n",
        "\r\n",
        "\r\n",
        "\r\n",
        "\r\n",
        "\r\n",
        "\r\n",
        "\r\n",
        "\r\n",
        "   \r\n",
        "\r\n",
        "\r\n"
      ]
    },
    {
      "cell_type": "markdown",
      "metadata": {
        "id": "WkTRPOr3cZot"
      },
      "source": [
        "### 예제"
      ]
    },
    {
      "cell_type": "code",
      "metadata": {
        "id": "HXlUH4XAZ48G"
      },
      "source": [
        "#사이킷런의 CountVectorizer를 통해 벡터화\r\n",
        "from sklearn.feature_extraction.text import CountVectorizer"
      ],
      "execution_count": 33,
      "outputs": []
    },
    {
      "cell_type": "markdown",
      "metadata": {
        "id": "C4cHiQYodsH6"
      },
      "source": [
        ""
      ]
    },
    {
      "cell_type": "code",
      "metadata": {
        "colab": {
          "base_uri": "https://localhost:8080/"
        },
        "id": "CXww5CQYbcdo",
        "outputId": "25fb2cf1-18de-47a7-8085-f0096a45051d"
      },
      "source": [
        "vectorizer = CountVectorizer(analyzer = 'word', #캐릭터 단위로도 벡터화 가능\r\n",
        "                             tokenizer = None,\r\n",
        "                             preprocessor = None, #전처리 도구\r\n",
        "                             stop_words = None, #불용어 명시 가능\r\n",
        "                             min_df = 1, #토큰이 나타날 최소 문서 갯수\r\n",
        "                             ngram_range = (1,1))\r\n",
        "vectorizer"
      ],
      "execution_count": 34,
      "outputs": [
        {
          "output_type": "execute_result",
          "data": {
            "text/plain": [
              "CountVectorizer(analyzer='word', binary=False, decode_error='strict',\n",
              "                dtype=<class 'numpy.int64'>, encoding='utf-8', input='content',\n",
              "                lowercase=True, max_df=1.0, max_features=None, min_df=1,\n",
              "                ngram_range=(1, 1), preprocessor=None, stop_words=None,\n",
              "                strip_accents=None, token_pattern='(?u)\\\\b\\\\w\\\\w+\\\\b',\n",
              "                tokenizer=None, vocabulary=None)"
            ]
          },
          "metadata": {
            "tags": []
          },
          "execution_count": 34
        }
      ]
    },
    {
      "cell_type": "code",
      "metadata": {
        "id": "yBLHmoIfd5w6"
      },
      "source": [
        "\r\n",
        "corpus = ['The proposed rising was a dismal failure, but the Habeas Corpus Act was suspended and Thistlewood and Watson were seized, although upon being tried they were acquitted.', \r\n",
        "         'Before the prorogation, however, he saw the invaluable Act of Habeas Corpus, which he had carried through parliament, receive the royal assent.', \r\n",
        "         'These Personal Liberty Laws forbade justices and judges to take cognizance of claims, extended the habeas corpus act and the privilege of jury trial to fugitives, and punished false testimony severely.', \r\n",
        "         'The procession of the Host on Corpus Christi day became, as it were, a public demonstration of Catholic orthodoxy against Protestantism and later against religious Liberalism.']\r\n",
        "#출처: https://hong-yp-ml-records.tistory.com/34 [HONG YP's Data Science BLOG]\r\n",
        "#https://sentence.yourdictionary.com/corpus"
      ],
      "execution_count": 35,
      "outputs": []
    },
    {
      "cell_type": "code",
      "metadata": {
        "colab": {
          "base_uri": "https://localhost:8080/"
        },
        "id": "L7hUU41ZecJs",
        "outputId": "75c75f30-1115-41a6-e09c-2b584ef3e323"
      },
      "source": [
        "#단어를 기준으로 한 featrue 만들기 -> sparse한 array 형태로 만들어짐\r\n",
        "features = vectorizer.fit_transform(corpus)\r\n",
        "print(features)"
      ],
      "execution_count": 36,
      "outputs": [
        {
          "output_type": "stream",
          "text": [
            "  (0, 61)\t2\n",
            "  (0, 46)\t1\n",
            "  (0, 53)\t1\n",
            "  (0, 70)\t2\n",
            "  (0, 19)\t1\n",
            "  (0, 21)\t1\n",
            "  (0, 10)\t1\n",
            "  (0, 25)\t1\n",
            "  (0, 16)\t1\n",
            "  (0, 1)\t1\n",
            "  (0, 58)\t1\n",
            "  (0, 4)\t2\n",
            "  (0, 64)\t1\n",
            "  (0, 71)\t1\n",
            "  (0, 72)\t2\n",
            "  (0, 56)\t1\n",
            "  (0, 3)\t1\n",
            "  (0, 69)\t1\n",
            "  (0, 9)\t1\n",
            "  (0, 68)\t1\n",
            "  (0, 63)\t1\n",
            "  (0, 0)\t1\n",
            "  (1, 61)\t3\n",
            "  (1, 25)\t1\n",
            "  (1, 16)\t1\n",
            "  :\t:\n",
            "  (2, 22)\t1\n",
            "  (2, 60)\t1\n",
            "  (2, 57)\t1\n",
            "  (3, 61)\t2\n",
            "  (3, 16)\t1\n",
            "  (3, 4)\t1\n",
            "  (3, 72)\t1\n",
            "  (3, 39)\t2\n",
            "  (3, 45)\t1\n",
            "  (3, 28)\t1\n",
            "  (3, 40)\t1\n",
            "  (3, 13)\t1\n",
            "  (3, 17)\t1\n",
            "  (3, 7)\t1\n",
            "  (3, 5)\t1\n",
            "  (3, 31)\t1\n",
            "  (3, 49)\t1\n",
            "  (3, 18)\t1\n",
            "  (3, 12)\t1\n",
            "  (3, 41)\t1\n",
            "  (3, 2)\t2\n",
            "  (3, 48)\t1\n",
            "  (3, 35)\t1\n",
            "  (3, 52)\t1\n",
            "  (3, 37)\t1\n"
          ],
          "name": "stdout"
        }
      ]
    },
    {
      "cell_type": "code",
      "metadata": {
        "colab": {
          "base_uri": "https://localhost:8080/"
        },
        "id": "E5v_EdUee1Co",
        "outputId": "477d29ce-9973-4dd9-c95b-8f5f759cb104"
      },
      "source": [
        "#4개의 관측치, 74개의 단어로 이루어짐\r\n",
        "features.shape"
      ],
      "execution_count": 37,
      "outputs": [
        {
          "output_type": "execute_result",
          "data": {
            "text/plain": [
              "(4, 74)"
            ]
          },
          "metadata": {
            "tags": []
          },
          "execution_count": 37
        }
      ]
    },
    {
      "cell_type": "code",
      "metadata": {
        "colab": {
          "base_uri": "https://localhost:8080/"
        },
        "id": "5EgSd45nfNv7",
        "outputId": "55c8fb92-6fcb-44e2-e416-89c5bfcfcb1a"
      },
      "source": [
        "vocab = vectorizer.get_feature_names()\r\n",
        "print(len(vocab))\r\n",
        "vocab[:10]"
      ],
      "execution_count": 38,
      "outputs": [
        {
          "output_type": "stream",
          "text": [
            "74\n"
          ],
          "name": "stdout"
        },
        {
          "output_type": "execute_result",
          "data": {
            "text/plain": [
              "['acquitted',\n",
              " 'act',\n",
              " 'against',\n",
              " 'although',\n",
              " 'and',\n",
              " 'as',\n",
              " 'assent',\n",
              " 'became',\n",
              " 'before',\n",
              " 'being']"
            ]
          },
          "metadata": {
            "tags": []
          },
          "execution_count": 38
        }
      ]
    },
    {
      "cell_type": "code",
      "metadata": {
        "id": "j_8D3UJtfqO4"
      },
      "source": [
        "import pandas as pd"
      ],
      "execution_count": 39,
      "outputs": []
    },
    {
      "cell_type": "code",
      "metadata": {
        "colab": {
          "base_uri": "https://localhost:8080/",
          "height": 193
        },
        "id": "Be9kaL81f2ov",
        "outputId": "2a84954f-c189-4ea6-a813-7f51d8e1e1b0"
      },
      "source": [
        "pd.DataFrame(features.toarray(), columns = vocab).head()"
      ],
      "execution_count": 40,
      "outputs": [
        {
          "output_type": "execute_result",
          "data": {
            "text/html": [
              "<div>\n",
              "<style scoped>\n",
              "    .dataframe tbody tr th:only-of-type {\n",
              "        vertical-align: middle;\n",
              "    }\n",
              "\n",
              "    .dataframe tbody tr th {\n",
              "        vertical-align: top;\n",
              "    }\n",
              "\n",
              "    .dataframe thead th {\n",
              "        text-align: right;\n",
              "    }\n",
              "</style>\n",
              "<table border=\"1\" class=\"dataframe\">\n",
              "  <thead>\n",
              "    <tr style=\"text-align: right;\">\n",
              "      <th></th>\n",
              "      <th>acquitted</th>\n",
              "      <th>act</th>\n",
              "      <th>against</th>\n",
              "      <th>although</th>\n",
              "      <th>and</th>\n",
              "      <th>as</th>\n",
              "      <th>assent</th>\n",
              "      <th>became</th>\n",
              "      <th>before</th>\n",
              "      <th>being</th>\n",
              "      <th>but</th>\n",
              "      <th>carried</th>\n",
              "      <th>catholic</th>\n",
              "      <th>christi</th>\n",
              "      <th>claims</th>\n",
              "      <th>cognizance</th>\n",
              "      <th>corpus</th>\n",
              "      <th>day</th>\n",
              "      <th>demonstration</th>\n",
              "      <th>dismal</th>\n",
              "      <th>extended</th>\n",
              "      <th>failure</th>\n",
              "      <th>false</th>\n",
              "      <th>forbade</th>\n",
              "      <th>fugitives</th>\n",
              "      <th>habeas</th>\n",
              "      <th>had</th>\n",
              "      <th>he</th>\n",
              "      <th>host</th>\n",
              "      <th>however</th>\n",
              "      <th>invaluable</th>\n",
              "      <th>it</th>\n",
              "      <th>judges</th>\n",
              "      <th>jury</th>\n",
              "      <th>justices</th>\n",
              "      <th>later</th>\n",
              "      <th>laws</th>\n",
              "      <th>liberalism</th>\n",
              "      <th>liberty</th>\n",
              "      <th>of</th>\n",
              "      <th>on</th>\n",
              "      <th>orthodoxy</th>\n",
              "      <th>parliament</th>\n",
              "      <th>personal</th>\n",
              "      <th>privilege</th>\n",
              "      <th>procession</th>\n",
              "      <th>proposed</th>\n",
              "      <th>prorogation</th>\n",
              "      <th>protestantism</th>\n",
              "      <th>public</th>\n",
              "      <th>punished</th>\n",
              "      <th>receive</th>\n",
              "      <th>religious</th>\n",
              "      <th>rising</th>\n",
              "      <th>royal</th>\n",
              "      <th>saw</th>\n",
              "      <th>seized</th>\n",
              "      <th>severely</th>\n",
              "      <th>suspended</th>\n",
              "      <th>take</th>\n",
              "      <th>testimony</th>\n",
              "      <th>the</th>\n",
              "      <th>these</th>\n",
              "      <th>they</th>\n",
              "      <th>thistlewood</th>\n",
              "      <th>through</th>\n",
              "      <th>to</th>\n",
              "      <th>trial</th>\n",
              "      <th>tried</th>\n",
              "      <th>upon</th>\n",
              "      <th>was</th>\n",
              "      <th>watson</th>\n",
              "      <th>were</th>\n",
              "      <th>which</th>\n",
              "    </tr>\n",
              "  </thead>\n",
              "  <tbody>\n",
              "    <tr>\n",
              "      <th>0</th>\n",
              "      <td>1</td>\n",
              "      <td>1</td>\n",
              "      <td>0</td>\n",
              "      <td>1</td>\n",
              "      <td>2</td>\n",
              "      <td>0</td>\n",
              "      <td>0</td>\n",
              "      <td>0</td>\n",
              "      <td>0</td>\n",
              "      <td>1</td>\n",
              "      <td>1</td>\n",
              "      <td>0</td>\n",
              "      <td>0</td>\n",
              "      <td>0</td>\n",
              "      <td>0</td>\n",
              "      <td>0</td>\n",
              "      <td>1</td>\n",
              "      <td>0</td>\n",
              "      <td>0</td>\n",
              "      <td>1</td>\n",
              "      <td>0</td>\n",
              "      <td>1</td>\n",
              "      <td>0</td>\n",
              "      <td>0</td>\n",
              "      <td>0</td>\n",
              "      <td>1</td>\n",
              "      <td>0</td>\n",
              "      <td>0</td>\n",
              "      <td>0</td>\n",
              "      <td>0</td>\n",
              "      <td>0</td>\n",
              "      <td>0</td>\n",
              "      <td>0</td>\n",
              "      <td>0</td>\n",
              "      <td>0</td>\n",
              "      <td>0</td>\n",
              "      <td>0</td>\n",
              "      <td>0</td>\n",
              "      <td>0</td>\n",
              "      <td>0</td>\n",
              "      <td>0</td>\n",
              "      <td>0</td>\n",
              "      <td>0</td>\n",
              "      <td>0</td>\n",
              "      <td>0</td>\n",
              "      <td>0</td>\n",
              "      <td>1</td>\n",
              "      <td>0</td>\n",
              "      <td>0</td>\n",
              "      <td>0</td>\n",
              "      <td>0</td>\n",
              "      <td>0</td>\n",
              "      <td>0</td>\n",
              "      <td>1</td>\n",
              "      <td>0</td>\n",
              "      <td>0</td>\n",
              "      <td>1</td>\n",
              "      <td>0</td>\n",
              "      <td>1</td>\n",
              "      <td>0</td>\n",
              "      <td>0</td>\n",
              "      <td>2</td>\n",
              "      <td>0</td>\n",
              "      <td>1</td>\n",
              "      <td>1</td>\n",
              "      <td>0</td>\n",
              "      <td>0</td>\n",
              "      <td>0</td>\n",
              "      <td>1</td>\n",
              "      <td>1</td>\n",
              "      <td>2</td>\n",
              "      <td>1</td>\n",
              "      <td>2</td>\n",
              "      <td>0</td>\n",
              "    </tr>\n",
              "    <tr>\n",
              "      <th>1</th>\n",
              "      <td>0</td>\n",
              "      <td>1</td>\n",
              "      <td>0</td>\n",
              "      <td>0</td>\n",
              "      <td>0</td>\n",
              "      <td>0</td>\n",
              "      <td>1</td>\n",
              "      <td>0</td>\n",
              "      <td>1</td>\n",
              "      <td>0</td>\n",
              "      <td>0</td>\n",
              "      <td>1</td>\n",
              "      <td>0</td>\n",
              "      <td>0</td>\n",
              "      <td>0</td>\n",
              "      <td>0</td>\n",
              "      <td>1</td>\n",
              "      <td>0</td>\n",
              "      <td>0</td>\n",
              "      <td>0</td>\n",
              "      <td>0</td>\n",
              "      <td>0</td>\n",
              "      <td>0</td>\n",
              "      <td>0</td>\n",
              "      <td>0</td>\n",
              "      <td>1</td>\n",
              "      <td>1</td>\n",
              "      <td>2</td>\n",
              "      <td>0</td>\n",
              "      <td>1</td>\n",
              "      <td>1</td>\n",
              "      <td>0</td>\n",
              "      <td>0</td>\n",
              "      <td>0</td>\n",
              "      <td>0</td>\n",
              "      <td>0</td>\n",
              "      <td>0</td>\n",
              "      <td>0</td>\n",
              "      <td>0</td>\n",
              "      <td>1</td>\n",
              "      <td>0</td>\n",
              "      <td>0</td>\n",
              "      <td>1</td>\n",
              "      <td>0</td>\n",
              "      <td>0</td>\n",
              "      <td>0</td>\n",
              "      <td>0</td>\n",
              "      <td>1</td>\n",
              "      <td>0</td>\n",
              "      <td>0</td>\n",
              "      <td>0</td>\n",
              "      <td>1</td>\n",
              "      <td>0</td>\n",
              "      <td>0</td>\n",
              "      <td>1</td>\n",
              "      <td>1</td>\n",
              "      <td>0</td>\n",
              "      <td>0</td>\n",
              "      <td>0</td>\n",
              "      <td>0</td>\n",
              "      <td>0</td>\n",
              "      <td>3</td>\n",
              "      <td>0</td>\n",
              "      <td>0</td>\n",
              "      <td>0</td>\n",
              "      <td>1</td>\n",
              "      <td>0</td>\n",
              "      <td>0</td>\n",
              "      <td>0</td>\n",
              "      <td>0</td>\n",
              "      <td>0</td>\n",
              "      <td>0</td>\n",
              "      <td>0</td>\n",
              "      <td>1</td>\n",
              "    </tr>\n",
              "    <tr>\n",
              "      <th>2</th>\n",
              "      <td>0</td>\n",
              "      <td>1</td>\n",
              "      <td>0</td>\n",
              "      <td>0</td>\n",
              "      <td>3</td>\n",
              "      <td>0</td>\n",
              "      <td>0</td>\n",
              "      <td>0</td>\n",
              "      <td>0</td>\n",
              "      <td>0</td>\n",
              "      <td>0</td>\n",
              "      <td>0</td>\n",
              "      <td>0</td>\n",
              "      <td>0</td>\n",
              "      <td>1</td>\n",
              "      <td>1</td>\n",
              "      <td>1</td>\n",
              "      <td>0</td>\n",
              "      <td>0</td>\n",
              "      <td>0</td>\n",
              "      <td>1</td>\n",
              "      <td>0</td>\n",
              "      <td>1</td>\n",
              "      <td>1</td>\n",
              "      <td>1</td>\n",
              "      <td>1</td>\n",
              "      <td>0</td>\n",
              "      <td>0</td>\n",
              "      <td>0</td>\n",
              "      <td>0</td>\n",
              "      <td>0</td>\n",
              "      <td>0</td>\n",
              "      <td>1</td>\n",
              "      <td>1</td>\n",
              "      <td>1</td>\n",
              "      <td>0</td>\n",
              "      <td>1</td>\n",
              "      <td>0</td>\n",
              "      <td>1</td>\n",
              "      <td>2</td>\n",
              "      <td>0</td>\n",
              "      <td>0</td>\n",
              "      <td>0</td>\n",
              "      <td>1</td>\n",
              "      <td>1</td>\n",
              "      <td>0</td>\n",
              "      <td>0</td>\n",
              "      <td>0</td>\n",
              "      <td>0</td>\n",
              "      <td>0</td>\n",
              "      <td>1</td>\n",
              "      <td>0</td>\n",
              "      <td>0</td>\n",
              "      <td>0</td>\n",
              "      <td>0</td>\n",
              "      <td>0</td>\n",
              "      <td>0</td>\n",
              "      <td>1</td>\n",
              "      <td>0</td>\n",
              "      <td>1</td>\n",
              "      <td>1</td>\n",
              "      <td>2</td>\n",
              "      <td>1</td>\n",
              "      <td>0</td>\n",
              "      <td>0</td>\n",
              "      <td>0</td>\n",
              "      <td>2</td>\n",
              "      <td>1</td>\n",
              "      <td>0</td>\n",
              "      <td>0</td>\n",
              "      <td>0</td>\n",
              "      <td>0</td>\n",
              "      <td>0</td>\n",
              "      <td>0</td>\n",
              "    </tr>\n",
              "    <tr>\n",
              "      <th>3</th>\n",
              "      <td>0</td>\n",
              "      <td>0</td>\n",
              "      <td>2</td>\n",
              "      <td>0</td>\n",
              "      <td>1</td>\n",
              "      <td>1</td>\n",
              "      <td>0</td>\n",
              "      <td>1</td>\n",
              "      <td>0</td>\n",
              "      <td>0</td>\n",
              "      <td>0</td>\n",
              "      <td>0</td>\n",
              "      <td>1</td>\n",
              "      <td>1</td>\n",
              "      <td>0</td>\n",
              "      <td>0</td>\n",
              "      <td>1</td>\n",
              "      <td>1</td>\n",
              "      <td>1</td>\n",
              "      <td>0</td>\n",
              "      <td>0</td>\n",
              "      <td>0</td>\n",
              "      <td>0</td>\n",
              "      <td>0</td>\n",
              "      <td>0</td>\n",
              "      <td>0</td>\n",
              "      <td>0</td>\n",
              "      <td>0</td>\n",
              "      <td>1</td>\n",
              "      <td>0</td>\n",
              "      <td>0</td>\n",
              "      <td>1</td>\n",
              "      <td>0</td>\n",
              "      <td>0</td>\n",
              "      <td>0</td>\n",
              "      <td>1</td>\n",
              "      <td>0</td>\n",
              "      <td>1</td>\n",
              "      <td>0</td>\n",
              "      <td>2</td>\n",
              "      <td>1</td>\n",
              "      <td>1</td>\n",
              "      <td>0</td>\n",
              "      <td>0</td>\n",
              "      <td>0</td>\n",
              "      <td>1</td>\n",
              "      <td>0</td>\n",
              "      <td>0</td>\n",
              "      <td>1</td>\n",
              "      <td>1</td>\n",
              "      <td>0</td>\n",
              "      <td>0</td>\n",
              "      <td>1</td>\n",
              "      <td>0</td>\n",
              "      <td>0</td>\n",
              "      <td>0</td>\n",
              "      <td>0</td>\n",
              "      <td>0</td>\n",
              "      <td>0</td>\n",
              "      <td>0</td>\n",
              "      <td>0</td>\n",
              "      <td>2</td>\n",
              "      <td>0</td>\n",
              "      <td>0</td>\n",
              "      <td>0</td>\n",
              "      <td>0</td>\n",
              "      <td>0</td>\n",
              "      <td>0</td>\n",
              "      <td>0</td>\n",
              "      <td>0</td>\n",
              "      <td>0</td>\n",
              "      <td>0</td>\n",
              "      <td>1</td>\n",
              "      <td>0</td>\n",
              "    </tr>\n",
              "  </tbody>\n",
              "</table>\n",
              "</div>"
            ],
            "text/plain": [
              "   acquitted  act  against  although  and  ...  upon  was  watson  were  which\n",
              "0          1    1        0         1    2  ...     1    2       1     2      0\n",
              "1          0    1        0         0    0  ...     0    0       0     0      1\n",
              "2          0    1        0         0    3  ...     0    0       0     0      0\n",
              "3          0    0        2         0    1  ...     0    0       0     1      0\n",
              "\n",
              "[4 rows x 74 columns]"
            ]
          },
          "metadata": {
            "tags": []
          },
          "execution_count": 40
        }
      ]
    },
    {
      "cell_type": "markdown",
      "metadata": {
        "id": "3-FquxcsiILM"
      },
      "source": [
        "## TF-IDF : Term Frequency - Inverse Documnet Frequency\r\n",
        "* 카운트 기반 벡터화는 카운트 값이 높을 수록 중요 단어로 인식 -> 모든 문서에서 자주 쓰일 수 밖에 없는 불용어(the,a..) 들이 중요하다 인식 될 수 있음\r\n",
        "* 어떤 단어가 개별 문서 내에서 얼마나 중요한 것인지를 나타내 주는 통계적 수치로 '특정 단어가 해당 문서에는 많이 출현하지만. 다른 문서에서는 나오지 않는다면 중요한 단어일 것이다'라는 가정.\r\n",
        "* 이 값이 크면 중요한 단어이므로 모든 문서에서 흔하게 나타나는 불용어들을 걸러낼 수 있음\r\n"
      ]
    },
    {
      "cell_type": "markdown",
      "metadata": {
        "id": "2H8lrd_flDAK"
      },
      "source": [
        "\r\n",
        "### 직접 구현해보기\r\n",
        "https://wikidocs.net/31698"
      ]
    },
    {
      "cell_type": "code",
      "metadata": {
        "id": "uXIeYBEdlHkM"
      },
      "source": [
        "# idf 계산을 위한 log\r\n",
        "from math import log"
      ],
      "execution_count": 44,
      "outputs": []
    },
    {
      "cell_type": "code",
      "metadata": {
        "colab": {
          "base_uri": "https://localhost:8080/"
        },
        "id": "WxKUCFPqlHet",
        "outputId": "10230919-0fa0-44fa-e3b4-aa19ca7496a5"
      },
      "source": [
        "docs = [\r\n",
        "  '먹고 싶은 사과',\r\n",
        "  '먹고 싶은 딸기',\r\n",
        "  '빨갛고 맛있는 과일 사과 사과',\r\n",
        "  '저는 과일이 좋아요'\r\n",
        "] \r\n",
        "\r\n",
        "vocab = list(set(w for doc in docs for w in doc.split()))\r\n",
        "vocab.sort()\r\n",
        "vocab"
      ],
      "execution_count": 49,
      "outputs": [
        {
          "output_type": "execute_result",
          "data": {
            "text/plain": [
              "['과일', '과일이', '딸기', '맛있는', '먹고', '빨갛고', '사과', '싶은', '저는', '좋아요']"
            ]
          },
          "metadata": {
            "tags": []
          },
          "execution_count": 49
        }
      ]
    },
    {
      "cell_type": "code",
      "metadata": {
        "id": "3BjLr0Ixk-jM"
      },
      "source": [
        "# 총 문서의 수\r\n",
        "N = len(docs)\r\n",
        "\r\n",
        "# 한 문서 내에서 단어의 갯수 세기\r\n",
        "def tf(t,d) : \r\n",
        "  return d.count(t)\r\n",
        "\r\n",
        "def idf(t):\r\n",
        "  df = 0\r\n",
        "  #t가 나타난 문서수\r\n",
        "  for doc in docs:\r\n",
        "    df += t in doc\r\n",
        "  #t가 나타난 문서수/전체 문서수 의 역수의 로그\r\n",
        "  return log(N/(df+1))\r\n",
        "\r\n",
        "def tfidf(t,d) : \r\n",
        "  return tf(t,d) * idf(t)\r\n"
      ],
      "execution_count": 50,
      "outputs": []
    },
    {
      "cell_type": "code",
      "metadata": {
        "colab": {
          "base_uri": "https://localhost:8080/",
          "height": 173
        },
        "id": "mNHWhJPZk_XA",
        "outputId": "432cb126-173a-45fd-98fd-7d6cca0867be"
      },
      "source": [
        "result = []\r\n",
        "\r\n",
        "for i in range(N) : \r\n",
        "    result.append([])\r\n",
        "    d = docs[i]\r\n",
        "    for j in range(len(vocab)) : \r\n",
        "      t = vocab[j]\r\n",
        "      result[-1].append(tf(t,d))\r\n",
        "\r\n",
        "tf_ = pd.DataFrame(result, columns = vocab)\r\n",
        "tf_\r\n"
      ],
      "execution_count": 51,
      "outputs": [
        {
          "output_type": "execute_result",
          "data": {
            "text/html": [
              "<div>\n",
              "<style scoped>\n",
              "    .dataframe tbody tr th:only-of-type {\n",
              "        vertical-align: middle;\n",
              "    }\n",
              "\n",
              "    .dataframe tbody tr th {\n",
              "        vertical-align: top;\n",
              "    }\n",
              "\n",
              "    .dataframe thead th {\n",
              "        text-align: right;\n",
              "    }\n",
              "</style>\n",
              "<table border=\"1\" class=\"dataframe\">\n",
              "  <thead>\n",
              "    <tr style=\"text-align: right;\">\n",
              "      <th></th>\n",
              "      <th>과일</th>\n",
              "      <th>과일이</th>\n",
              "      <th>딸기</th>\n",
              "      <th>맛있는</th>\n",
              "      <th>먹고</th>\n",
              "      <th>빨갛고</th>\n",
              "      <th>사과</th>\n",
              "      <th>싶은</th>\n",
              "      <th>저는</th>\n",
              "      <th>좋아요</th>\n",
              "    </tr>\n",
              "  </thead>\n",
              "  <tbody>\n",
              "    <tr>\n",
              "      <th>0</th>\n",
              "      <td>0</td>\n",
              "      <td>0</td>\n",
              "      <td>0</td>\n",
              "      <td>0</td>\n",
              "      <td>1</td>\n",
              "      <td>0</td>\n",
              "      <td>1</td>\n",
              "      <td>1</td>\n",
              "      <td>0</td>\n",
              "      <td>0</td>\n",
              "    </tr>\n",
              "    <tr>\n",
              "      <th>1</th>\n",
              "      <td>0</td>\n",
              "      <td>0</td>\n",
              "      <td>1</td>\n",
              "      <td>0</td>\n",
              "      <td>1</td>\n",
              "      <td>0</td>\n",
              "      <td>0</td>\n",
              "      <td>1</td>\n",
              "      <td>0</td>\n",
              "      <td>0</td>\n",
              "    </tr>\n",
              "    <tr>\n",
              "      <th>2</th>\n",
              "      <td>1</td>\n",
              "      <td>0</td>\n",
              "      <td>0</td>\n",
              "      <td>1</td>\n",
              "      <td>0</td>\n",
              "      <td>1</td>\n",
              "      <td>2</td>\n",
              "      <td>0</td>\n",
              "      <td>0</td>\n",
              "      <td>0</td>\n",
              "    </tr>\n",
              "    <tr>\n",
              "      <th>3</th>\n",
              "      <td>1</td>\n",
              "      <td>1</td>\n",
              "      <td>0</td>\n",
              "      <td>0</td>\n",
              "      <td>0</td>\n",
              "      <td>0</td>\n",
              "      <td>0</td>\n",
              "      <td>0</td>\n",
              "      <td>1</td>\n",
              "      <td>1</td>\n",
              "    </tr>\n",
              "  </tbody>\n",
              "</table>\n",
              "</div>"
            ],
            "text/plain": [
              "   과일  과일이  딸기  맛있는  먹고  빨갛고  사과  싶은  저는  좋아요\n",
              "0   0    0   0    0   1    0   1   1   0    0\n",
              "1   0    0   1    0   1    0   0   1   0    0\n",
              "2   1    0   0    1   0    1   2   0   0    0\n",
              "3   1    1   0    0   0    0   0   0   1    1"
            ]
          },
          "metadata": {
            "tags": []
          },
          "execution_count": 51
        }
      ]
    },
    {
      "cell_type": "code",
      "metadata": {
        "colab": {
          "base_uri": "https://localhost:8080/",
          "height": 359
        },
        "id": "oPRB9QY-k_tD",
        "outputId": "f43bf979-6aca-4af0-fbf1-a46c8d3b6d55"
      },
      "source": [
        "result = []\r\n",
        "\r\n",
        "for j in range(len(vocab)) : \r\n",
        "  t = vocab[j]\r\n",
        "  result.append(idf(t))\r\n",
        "\r\n",
        "idf_ = pd.DataFrame(result, index = vocab, columns = [\"IDF\"])\r\n",
        "idf_"
      ],
      "execution_count": 52,
      "outputs": [
        {
          "output_type": "execute_result",
          "data": {
            "text/html": [
              "<div>\n",
              "<style scoped>\n",
              "    .dataframe tbody tr th:only-of-type {\n",
              "        vertical-align: middle;\n",
              "    }\n",
              "\n",
              "    .dataframe tbody tr th {\n",
              "        vertical-align: top;\n",
              "    }\n",
              "\n",
              "    .dataframe thead th {\n",
              "        text-align: right;\n",
              "    }\n",
              "</style>\n",
              "<table border=\"1\" class=\"dataframe\">\n",
              "  <thead>\n",
              "    <tr style=\"text-align: right;\">\n",
              "      <th></th>\n",
              "      <th>IDF</th>\n",
              "    </tr>\n",
              "  </thead>\n",
              "  <tbody>\n",
              "    <tr>\n",
              "      <th>과일</th>\n",
              "      <td>0.287682</td>\n",
              "    </tr>\n",
              "    <tr>\n",
              "      <th>과일이</th>\n",
              "      <td>0.693147</td>\n",
              "    </tr>\n",
              "    <tr>\n",
              "      <th>딸기</th>\n",
              "      <td>0.693147</td>\n",
              "    </tr>\n",
              "    <tr>\n",
              "      <th>맛있는</th>\n",
              "      <td>0.693147</td>\n",
              "    </tr>\n",
              "    <tr>\n",
              "      <th>먹고</th>\n",
              "      <td>0.287682</td>\n",
              "    </tr>\n",
              "    <tr>\n",
              "      <th>빨갛고</th>\n",
              "      <td>0.693147</td>\n",
              "    </tr>\n",
              "    <tr>\n",
              "      <th>사과</th>\n",
              "      <td>0.287682</td>\n",
              "    </tr>\n",
              "    <tr>\n",
              "      <th>싶은</th>\n",
              "      <td>0.287682</td>\n",
              "    </tr>\n",
              "    <tr>\n",
              "      <th>저는</th>\n",
              "      <td>0.693147</td>\n",
              "    </tr>\n",
              "    <tr>\n",
              "      <th>좋아요</th>\n",
              "      <td>0.693147</td>\n",
              "    </tr>\n",
              "  </tbody>\n",
              "</table>\n",
              "</div>"
            ],
            "text/plain": [
              "          IDF\n",
              "과일   0.287682\n",
              "과일이  0.693147\n",
              "딸기   0.693147\n",
              "맛있는  0.693147\n",
              "먹고   0.287682\n",
              "빨갛고  0.693147\n",
              "사과   0.287682\n",
              "싶은   0.287682\n",
              "저는   0.693147\n",
              "좋아요  0.693147"
            ]
          },
          "metadata": {
            "tags": []
          },
          "execution_count": 52
        }
      ]
    },
    {
      "cell_type": "code",
      "metadata": {
        "colab": {
          "base_uri": "https://localhost:8080/",
          "height": 173
        },
        "id": "MIGKy7w0lA2L",
        "outputId": "18f39157-68dd-4bb4-8d4b-adf332b28b51"
      },
      "source": [
        "result = []\r\n",
        "\r\n",
        "for i in range(N):\r\n",
        "  result.append([])\r\n",
        "  d = docs[i]\r\n",
        "  for j in range(len(vocab)) : \r\n",
        "    t = vocab[j]\r\n",
        "    result[-1].append(tfidf(t,d))\r\n",
        "\r\n",
        "tfidf_ = pd.DataFrame(result, columns = vocab)\r\n",
        "tfidf_"
      ],
      "execution_count": 53,
      "outputs": [
        {
          "output_type": "execute_result",
          "data": {
            "text/html": [
              "<div>\n",
              "<style scoped>\n",
              "    .dataframe tbody tr th:only-of-type {\n",
              "        vertical-align: middle;\n",
              "    }\n",
              "\n",
              "    .dataframe tbody tr th {\n",
              "        vertical-align: top;\n",
              "    }\n",
              "\n",
              "    .dataframe thead th {\n",
              "        text-align: right;\n",
              "    }\n",
              "</style>\n",
              "<table border=\"1\" class=\"dataframe\">\n",
              "  <thead>\n",
              "    <tr style=\"text-align: right;\">\n",
              "      <th></th>\n",
              "      <th>과일</th>\n",
              "      <th>과일이</th>\n",
              "      <th>딸기</th>\n",
              "      <th>맛있는</th>\n",
              "      <th>먹고</th>\n",
              "      <th>빨갛고</th>\n",
              "      <th>사과</th>\n",
              "      <th>싶은</th>\n",
              "      <th>저는</th>\n",
              "      <th>좋아요</th>\n",
              "    </tr>\n",
              "  </thead>\n",
              "  <tbody>\n",
              "    <tr>\n",
              "      <th>0</th>\n",
              "      <td>0.000000</td>\n",
              "      <td>0.000000</td>\n",
              "      <td>0.000000</td>\n",
              "      <td>0.000000</td>\n",
              "      <td>0.287682</td>\n",
              "      <td>0.000000</td>\n",
              "      <td>0.287682</td>\n",
              "      <td>0.287682</td>\n",
              "      <td>0.000000</td>\n",
              "      <td>0.000000</td>\n",
              "    </tr>\n",
              "    <tr>\n",
              "      <th>1</th>\n",
              "      <td>0.000000</td>\n",
              "      <td>0.000000</td>\n",
              "      <td>0.693147</td>\n",
              "      <td>0.000000</td>\n",
              "      <td>0.287682</td>\n",
              "      <td>0.000000</td>\n",
              "      <td>0.000000</td>\n",
              "      <td>0.287682</td>\n",
              "      <td>0.000000</td>\n",
              "      <td>0.000000</td>\n",
              "    </tr>\n",
              "    <tr>\n",
              "      <th>2</th>\n",
              "      <td>0.287682</td>\n",
              "      <td>0.000000</td>\n",
              "      <td>0.000000</td>\n",
              "      <td>0.693147</td>\n",
              "      <td>0.000000</td>\n",
              "      <td>0.693147</td>\n",
              "      <td>0.575364</td>\n",
              "      <td>0.000000</td>\n",
              "      <td>0.000000</td>\n",
              "      <td>0.000000</td>\n",
              "    </tr>\n",
              "    <tr>\n",
              "      <th>3</th>\n",
              "      <td>0.287682</td>\n",
              "      <td>0.693147</td>\n",
              "      <td>0.000000</td>\n",
              "      <td>0.000000</td>\n",
              "      <td>0.000000</td>\n",
              "      <td>0.000000</td>\n",
              "      <td>0.000000</td>\n",
              "      <td>0.000000</td>\n",
              "      <td>0.693147</td>\n",
              "      <td>0.693147</td>\n",
              "    </tr>\n",
              "  </tbody>\n",
              "</table>\n",
              "</div>"
            ],
            "text/plain": [
              "         과일       과일이        딸기  ...        싶은        저는       좋아요\n",
              "0  0.000000  0.000000  0.000000  ...  0.287682  0.000000  0.000000\n",
              "1  0.000000  0.000000  0.693147  ...  0.287682  0.000000  0.000000\n",
              "2  0.287682  0.000000  0.000000  ...  0.000000  0.000000  0.000000\n",
              "3  0.287682  0.693147  0.000000  ...  0.000000  0.693147  0.693147\n",
              "\n",
              "[4 rows x 10 columns]"
            ]
          },
          "metadata": {
            "tags": []
          },
          "execution_count": 53
        }
      ]
    },
    {
      "cell_type": "code",
      "metadata": {
        "id": "5gLesRLnlAYA"
      },
      "source": [
        ""
      ],
      "execution_count": null,
      "outputs": []
    },
    {
      "cell_type": "code",
      "metadata": {
        "id": "C4DA-563f8eL"
      },
      "source": [
        "#단순히 빈도수만 표현해주는 CountVectorizer와 달리 다른 문장에서의 단어 빈도를 고려해 중요도 표현\r\n",
        "#Countvectorizer보다 많이 쓰임\r\n",
        "from sklearn.feature_extraction.text import TfidfVectorizer"
      ],
      "execution_count": 41,
      "outputs": []
    },
    {
      "cell_type": "code",
      "metadata": {
        "colab": {
          "base_uri": "https://localhost:8080/"
        },
        "id": "6o0VVOytotRo",
        "outputId": "b8d9fed9-ef18-4927-9f06-067c94fb925c"
      },
      "source": [
        "tfidfv_ = TfidfVectorizer().fit(docs)\r\n",
        "print(tfidfv_.transform(docs).toarray())\r\n",
        "print(tfidfv_.vocabulary_)"
      ],
      "execution_count": 55,
      "outputs": [
        {
          "output_type": "stream",
          "text": [
            "[[0.         0.         0.         0.         0.57735027 0.\n",
            "  0.57735027 0.57735027 0.         0.        ]\n",
            " [0.         0.         0.66767854 0.         0.52640543 0.\n",
            "  0.         0.52640543 0.         0.        ]\n",
            " [0.42693074 0.         0.         0.42693074 0.         0.42693074\n",
            "  0.6731942  0.         0.         0.        ]\n",
            " [0.         0.57735027 0.         0.         0.         0.\n",
            "  0.         0.         0.57735027 0.57735027]]\n",
            "{'먹고': 4, '싶은': 7, '사과': 6, '딸기': 2, '빨갛고': 5, '맛있는': 3, '과일': 0, '저는': 8, '과일이': 1, '좋아요': 9}\n"
          ],
          "name": "stdout"
        }
      ]
    },
    {
      "cell_type": "code",
      "metadata": {
        "colab": {
          "base_uri": "https://localhost:8080/"
        },
        "id": "A3HJXoCWiUxK",
        "outputId": "90c88e2a-6efc-4857-ef64-4c4c89af07c2"
      },
      "source": [
        "tfidfv = TfidfVectorizer().fit(corpus)\r\n",
        "print(tfidfv.transform(corpus).toarray())\r\n",
        "print(tfidfv.vocabulary_)"
      ],
      "execution_count": 42,
      "outputs": [
        {
          "output_type": "stream",
          "text": [
            "[[0.19884046 0.12691729 0.         0.19884046 0.25383458 0.\n",
            "  0.         0.         0.         0.19884046 0.19884046 0.\n",
            "  0.         0.         0.         0.         0.1037632  0.\n",
            "  0.         0.19884046 0.         0.19884046 0.         0.\n",
            "  0.         0.12691729 0.         0.         0.         0.\n",
            "  0.         0.         0.         0.         0.         0.\n",
            "  0.         0.         0.         0.         0.         0.\n",
            "  0.         0.         0.         0.         0.19884046 0.\n",
            "  0.         0.         0.         0.         0.         0.19884046\n",
            "  0.         0.         0.19884046 0.         0.19884046 0.\n",
            "  0.         0.2075264  0.         0.19884046 0.19884046 0.\n",
            "  0.         0.         0.19884046 0.19884046 0.39768092 0.19884046\n",
            "  0.31353621 0.        ]\n",
            " [0.         0.13946702 0.         0.         0.         0.\n",
            "  0.21850204 0.         0.21850204 0.         0.         0.21850204\n",
            "  0.         0.         0.         0.         0.11402343 0.\n",
            "  0.         0.         0.         0.         0.         0.\n",
            "  0.         0.13946702 0.21850204 0.43700408 0.         0.21850204\n",
            "  0.21850204 0.         0.         0.         0.         0.\n",
            "  0.         0.         0.         0.13946702 0.         0.\n",
            "  0.21850204 0.         0.         0.         0.         0.21850204\n",
            "  0.         0.         0.         0.21850204 0.         0.\n",
            "  0.21850204 0.21850204 0.         0.         0.         0.\n",
            "  0.         0.34207029 0.         0.         0.         0.21850204\n",
            "  0.         0.         0.         0.         0.         0.\n",
            "  0.         0.21850204]\n",
            " [0.         0.11562726 0.         0.         0.34688177 0.\n",
            "  0.         0.         0.         0.         0.         0.\n",
            "  0.         0.         0.18115244 0.18115244 0.09453286 0.\n",
            "  0.         0.         0.18115244 0.         0.18115244 0.18115244\n",
            "  0.18115244 0.11562726 0.         0.         0.         0.\n",
            "  0.         0.         0.18115244 0.18115244 0.18115244 0.\n",
            "  0.18115244 0.         0.18115244 0.23125451 0.         0.\n",
            "  0.         0.18115244 0.18115244 0.         0.         0.\n",
            "  0.         0.         0.18115244 0.         0.         0.\n",
            "  0.         0.         0.         0.18115244 0.         0.18115244\n",
            "  0.18115244 0.18906572 0.18115244 0.         0.         0.\n",
            "  0.36230488 0.18115244 0.         0.         0.         0.\n",
            "  0.         0.        ]\n",
            " [0.         0.         0.40807628 0.         0.1302349  0.20403814\n",
            "  0.         0.20403814 0.         0.         0.         0.\n",
            "  0.20403814 0.20403814 0.         0.         0.10647557 0.20403814\n",
            "  0.20403814 0.         0.         0.         0.         0.\n",
            "  0.         0.         0.         0.         0.20403814 0.\n",
            "  0.         0.20403814 0.         0.         0.         0.20403814\n",
            "  0.         0.20403814 0.         0.2604698  0.20403814 0.20403814\n",
            "  0.         0.         0.         0.20403814 0.         0.\n",
            "  0.20403814 0.20403814 0.         0.         0.20403814 0.\n",
            "  0.         0.         0.         0.         0.         0.\n",
            "  0.         0.21295113 0.         0.         0.         0.\n",
            "  0.         0.         0.         0.         0.         0.\n",
            "  0.16086601 0.        ]]\n",
            "{'the': 61, 'proposed': 46, 'rising': 53, 'was': 70, 'dismal': 19, 'failure': 21, 'but': 10, 'habeas': 25, 'corpus': 16, 'act': 1, 'suspended': 58, 'and': 4, 'thistlewood': 64, 'watson': 71, 'were': 72, 'seized': 56, 'although': 3, 'upon': 69, 'being': 9, 'tried': 68, 'they': 63, 'acquitted': 0, 'before': 8, 'prorogation': 47, 'however': 29, 'he': 27, 'saw': 55, 'invaluable': 30, 'of': 39, 'which': 73, 'had': 26, 'carried': 11, 'through': 65, 'parliament': 42, 'receive': 51, 'royal': 54, 'assent': 6, 'these': 62, 'personal': 43, 'liberty': 38, 'laws': 36, 'forbade': 23, 'justices': 34, 'judges': 32, 'to': 66, 'take': 59, 'cognizance': 15, 'claims': 14, 'extended': 20, 'privilege': 44, 'jury': 33, 'trial': 67, 'fugitives': 24, 'punished': 50, 'false': 22, 'testimony': 60, 'severely': 57, 'procession': 45, 'host': 28, 'on': 40, 'christi': 13, 'day': 17, 'became': 7, 'as': 5, 'it': 31, 'public': 49, 'demonstration': 18, 'catholic': 12, 'orthodoxy': 41, 'against': 2, 'protestantism': 48, 'later': 35, 'religious': 52, 'liberalism': 37}\n"
          ],
          "name": "stdout"
        }
      ]
    },
    {
      "cell_type": "markdown",
      "metadata": {
        "id": "1lQBfXvTiHiv"
      },
      "source": [
        ""
      ]
    }
  ]
}