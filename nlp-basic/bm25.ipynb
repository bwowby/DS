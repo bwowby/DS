{
  "nbformat": 4,
  "nbformat_minor": 0,
  "metadata": {
    "colab": {
      "name": "Untitled0.ipynb",
      "provenance": [],
      "authorship_tag": "ABX9TyP5TKBuGpmPOQIA3HuFgpmm",
      "include_colab_link": true
    },
    "kernelspec": {
      "name": "python3",
      "display_name": "Python 3"
    }
  },
  "cells": [
    {
      "cell_type": "markdown",
      "metadata": {
        "id": "view-in-github",
        "colab_type": "text"
      },
      "source": [
        "<a href=\"https://colab.research.google.com/github/bwowby/DS/blob/master/nlp-basic/bm25.ipynb\" target=\"_parent\"><img src=\"https://colab.research.google.com/assets/colab-badge.svg\" alt=\"Open In Colab\"/></a>"
      ]
    },
    {
      "cell_type": "code",
      "metadata": {
        "colab": {
          "base_uri": "https://localhost:8080/"
        },
        "id": "7SMlU5Q8qQW6",
        "outputId": "bb333c17-e15d-4154-d69e-87ab2030e1a0"
      },
      "source": [
        "pip install rank_bm25"
      ],
      "execution_count": 1,
      "outputs": [
        {
          "output_type": "stream",
          "text": [
            "Collecting rank_bm25\n",
            "  Downloading https://files.pythonhosted.org/packages/16/5a/23ed3132063a0684ea66fb410260c71c4ffda3b99f8f1c021d1e245401b5/rank_bm25-0.2.1-py3-none-any.whl\n",
            "Requirement already satisfied: numpy in /usr/local/lib/python3.6/dist-packages (from rank_bm25) (1.19.5)\n",
            "Installing collected packages: rank-bm25\n",
            "Successfully installed rank-bm25-0.2.1\n"
          ],
          "name": "stdout"
        }
      ]
    },
    {
      "cell_type": "markdown",
      "metadata": {
        "id": "ctvAbkmJqhc6"
      },
      "source": [
        "##BM25 (Okapi BM25)\r\n",
        "주어진 쿼리에 대해 문서와의 연관성을 평가하는 랭킹 함수로 사용되는 알고리즘.   \r\n",
        "TFIDF의 변형식.   \r\n",
        "다른 문서들과 비교해 무의미한 반복 등으로 긴 문서에 패널티(평균 문서 길이 반영)   \r\n",
        "키워드 출현 빈도가 계속 커지더라도 정해진 범위의 값에 들어가도록 함(키워드 출연 비율 반영)\r\n",
        "\r\n",
        "![image.png](data:image/png;base64,iVBORw0KGgoAAAANSUhEUgAAAX0AAAB4CAYAAAAewyJWAAAgAElEQVR4Ae2dibdVxfXn+SuSTncS07828edvdSeaoY3RmHZM1DijURQnRAFFQHEKoKKiOCEqs+KIRMUBQRBFUFQQ55CYaDRRcQInwAmRwer1qax92bde1Rnu8N599+271lnn3DpVu6p27frWrl276vRy9jMOGAeMA8aBHsOBXj2mplZR44BxwDhgHHAG+iYExgHjgHGgB3HAQL8HNbZV1ThgHDAOGOibDBgHjAPGgR7EAQP9HtTYVlXjgHHAOGCgbzJgHEhw4B9vbnAz5651Mx5Y4+6Yu9bNe/xT99Ir692WLYkEFmwc6AYcaDror9/wjXviuS/c0he/cEuei19/fuWrDqxa/fEmH//J5zumWfbSl+75l9e719/62q39bHOHtHkBWbRTZSQ8Vs68vOx99+PAJ+s2u5NHveP2P/mN6LXqo00uJkOvvbUht7LvrNpY6QdvvbsxN75FMA40mgNNB33AOdV5JLz36W+6TQF2T7zj49x0kv7gQW+6Syatdv94I7/TwcAytCUP7rFyNrpBjF7jOLDlG+euv/0jd+mUD9xFE1a7le/ng+y6z7Y45Em3u37+/SlvOEA/JkMHDXzDfb3xm8wK6HSjJ6zOjGsvjQPN4EDLgv70WZ8kO57uhOHzqaPfde9/uCmTV7XSPvrMlR0Gp8yM7GWXcgAAP3DgVm394Sc/yy3PpJnVysYxZ610d81f62Y/us5dNHG1O3r4Srf2081Oy9Chp20dJIib9dPpLpv6QVZUe2ccaAoHmg76mHceXfa5W/LsFy7sUDPmrPHvnvvr+g6V050DYEeTR2PjGjFulTvl/HccWlcI+vwn/OXXO5qMJJOQ9rBL33Nnjs2+TrvoXTdm8gdmzxUmdoP7F+urtfbFyz/PLDVaeu/BWwF81PhV7puE4i4yJDJ40KB/yyLa/lcbEomcqxosDPQzm8NeNokDTQd9Xe6//3NDBaQPGPCGW7MusOmoyNKpAPHjz12ZBFtspOFgQhrof/BxXOMvSlsVxx67IQfKgj4zAwFvwPzNd79O1lrLUKh4TL3z40LpDPSTbLIXTeRAp4I+ng/SQehUKVCmvrpTFTGrfPr5Fq/9C33u/Ue+4zZHxpWytJvIfyPdRA5oEEce8jR9BgkN+tjuUz8tQ9fd9pGffYrsYVJKKTQ6XRHQ37TJub++9pVbuPRzvwDMrJkF49QMJFXeesLJi/UyHDJwaFjx6ldJJezjtZvdMyu+9PEoMx5Q9mstDnQb0I+Bd8hKXOmwuUrn4x6z4+qOx4BShHaYl/1vXQ4AUude9X6VHIhMYH/X12GD33SrP9rkjjrjrdz4xMWez0/L0LibP3Rvv7+xKv3VN30YZZBOlwX61AHzp5iPpPxypw5Zg9iX67/xdZJFaRQufphSR1yzylEXaEB/2l3/npkwmPCf8D5nvuU+/3KLd1nV6yKSP/HueXhdpY4vv/aVO2nE21U8kLgoXx+tiWhfldT20JkcaCvQh3FMyXVHGTT6nQ5ake54RWYRndkgllf9HAAwB12YdrkUMOKOrLz25tcVDV+/C5+JK9q/liEB75HjV1VAT8fVNYql0+95BrCzXEZ1ucg7tm8gnOXc/sAaN3zse5XyhTTIV8/E9fusZxaur73toyhdnY6BQwbMsL72v3M50HagD/vOvXqrlhdbO9AdL2u9oHObwnJrFAcA/bOv2CoDGny0ls9zIzR9Af13V2+sUjjw9gl/WvYknY6Dm2moMTOAXD7tA3f3Q2udHlikXjE64XqGxI3dJX0W6MMrBiLKEqOhw447Z6Vfh9NhPOM+a7+u50Bbgv5DT3xWJZhPvfBFFad1x0MYtWeQeAjpOx3tnyvTi3pVxO1Py3Ag1HazzCEUulabvoAmNJAlATsAMlwM1rKn0wnTQtnFBRnNX/+gCQhLPtzDfELQF7Am3bS7PnHLXvzS2+h5Jk9+MdBnpqz3vzCgjp32QVXeUo5b71/jeShlfeOd6hmUzaqFM117b0vQD4U37Oy644nA5t1jawNd23SWex4HQuAL5SBMr+MDkkUdDTR4s5CpbeDMOPRPy55ORxy0/L5nbV2TAiQ3bqoGfKHFjmCdD5vP9E/XRWSbIyVipiBJF/ab+xdutdlLHO4MQrJWAG3cVFM2+wcWfVoZIOCpmMc0PXvuXA60JeijYYigc3/2L19WcVV3PB0v69lAv4qF3eJPCHydAfowZvyt1TZuvWdEy14I+uF61JzFn2by+ZLJW2cV7BbXA0RY9wcfy6ZFRhr0Y2ZRKQzaPjMQ6S+pRWvi/+XVryrx8gZSoW/35nKgLUFfCxqCyfk9+qc7HoI4a8E6by/FZhq7Zj641qHB2a97cSAEvs4C/dCspJ0JtOyFoK+PLCmiFWuQDuOXrTstG9JLzXRC0A/roaWkKE2dxp6by4G2BH0taIB+2Nl1x7OF3OYKWFdSLwt8On6eVqplKAZ62LdFE+Yus82sdFpu0bTzFA0dv1VBXw+AeTztSlnpSXm3JejfNntrh0PQwkUu3fHMT799xV2DeGzwD2uu4+cBlJahGOhv+PqbqsXW/iPf9vb0rHQaxFFG8vaPcNqsDCzY9/WGMF2XInWHFzr/rPqX0fR1ObJohm1h/5vHgbYD/dDlLbR1wkrd8Qz0mydcXU1ZA04R4NPx8wBKy1AM9Kk7m5cElLkvX/GlP5tfwsJ0GnSzbOrCVx2f8upFUl2XInWHZkivEeYdXY48nkq97N5cDrQd6GtvAYQ95husO6yBfnMFrCupa8ApAnw6fh5AaRkKwVvqjKfMEUO27vRF28dFMgX67WjTL8NT4Zvdm8uBtgJ92UYunQptKaat6A5roN9cAetK6tqejEyEC/ph2coAlJahFOhDP/S7F9nkHqYLvc5SLpNSbjZsCb1wRqvrQpxwXUto6Ltp+pob7fvcpaCvp6Mhi3WnYodfln0TGyMdBO1MOgH31NnmmraBfsj59vmPqY9zX0QmOIog66eBshGaPnlp33s5zE3KE4J+eHYUsqndMHXZQz99ztPRP10X8jPQ19zp2c+dCvr6aGU6VZZ3ggZmDn9iQwhn83PnRM1VH27yn0y8cdYn0XNTOHOfwSD207QN9GMcao8w2l+Dvj4wTWqoZVADZaNAn3z0gqve1BSCPnFD8+TQMe95uZfycn/vg41Vi8SA+qvBV+N0XQz0Nffsuemgz3n3J573tj/2GPAWLYc7J2LyMZTzr13VYaegBmadpsgzWk/WzEDTNtBv706AUhDKzDlXvu8PH2MQ0OCugVKHxzikZSgG3joN2n7sALhYulDbp+yUhc8sznv8s+gRCOFuXPLWdYGGafq6RXr2c9NBXy9OhZ1P/gO84TdydaeSeHn3I4e95T0k8ppU047lnZfe3ncfDoRHBoQyBKCKmRGgFBOMDo/VVstQDLzDNNpeLmVIpWMmGypIkia8pxSccD2jFtAXvoR1YQalB7FUPUhXhqdhPva/ORxoOuj/7fWtX8sKBVb+x3yS2QUr72N3psnY+jk3/aZ7Pin1sQZNG4+KrFlBc9huVDuTA5+s2+zOuCx+rLD2b9cDRN7mKC1DnKef9wMoOYdHy3LMs0zoMDuYcmf193p1WgalrGMaqIs+lE02hwn92F33VfiSOgqZuujvFWTVowxPY2WysMZzoOmg3/giG0XjQG0cwH7/wsvr/ZefXvnXhuQhYbVRb04q1rE4JZYPs2Pe4c6sIevgtOaUxKi2CwcM9NulJa0exgHjgHGgAAcM9AswyaIYB4wDxoF24YCBfru0pNXDOGAcMA4U4ICBfgEmWRTjgHHAONAuHDDQb5eWtHoYB4wDxoECHDDQL8Aki2IcMA4YB9qFAwb67dKSVg/jgHHAOFCAAwb6BZhkUYwDxgHjQLtwoAr0v3z2WWdX1/CgXQTK6mEcMA60NgcM9FtkoGttMbHSGQeMA+3CAQP9Fgd9zkyxy3hgMmAykJKBsoORgb6Bvg0qNrCaDHRjGTDQbxEQL7s2kmq41Ohu4ab5mQyYDCADZX+m6bfIIJFqOOvY1rFNBkwGsmQghR2pcAN9A32b2nfjqX0WGNi7njFYpMA9FW6gb6BvoG+gbzLQjWUgBe6pcAN9A33r8N24w5s23zO0+ax2ToF7KtxA30DfQN9A32SgG8tACtxT4Qb6Bvpt1+GX//nzlq3TMyu+aGrZnn7ps6bSz9I4G/mulduwkfVsBK0UuKfCGw76ny9fbkc51DCQpBqoEULRjjSefG6NiwEDoDrknGnusac/bEnwu3bqo276HcubUrZHn1rl6w5vwjaP8SqM0yr/KevIS/7kbv7Tsx3q0SplbKVypLAjFV436M8eM8aN69fPvffII27Sqae6q0880b16770G/CWBP9VArSRcrVAWQP2K6+a53x18pjvi2NFVwL/sxU/d73uf40Zffk+ngcXY8XPdCQOvcv1OHecvnk8cdLW/zj7/Vnff/H9UleWBh//pfrVHfzfttqVV4fXy9olnP3G//H/93NRbn6rQBTyHnXejL99xp1zhFi/7oPKu3vwamf6RJ97rUC74tvPuJzn41ci82pFWCjtS4XWB/lvz5rnLjz3WDdtnH9f/V79yr91/v7vv4ov9/0+XLTPgLwH8qQZqRyGtp0633vW8++H/OdgdeMR57lvf393xX+gB9nsfMNQB/hLWzDsD0OXXPuiOPflyX5af/qqvO37AlR78AX4GIMo4fOTNVeW5btoiR9xGgjD5MuDo+mLqOfXMSe4/dzjMbb9j74bmp/OpZRax8Mn33eSbn/D8YhCMzcwuu2aO59OSZz6uqpfO2547eXPW3+6+262YOdMdut12bvn06R7kpw0Z4sb06ePMzFPutE4D/XwvDEAMsAfYh557g9f0xYYNgG73k0PdjHte6nSAuGrCQx7cB50xsSpvwBDgAviZnQhAAWLU4axRt1TC5F0t99tnvejrPueRf3Wg9/jyjzxwHvSHPzZtMBxx8Ux31wMvd8g7VRcAfqffnOj2P+xsPxjtts/AKOjTprvudUoV71I0e3J4CjtS4XVp+hw18Nc773S/+9733MdLlrh1S5e6vj/9qXvg0kudafoG+o3uiIuWrnbf/9G+XjuEttYwMaXsuPMxDjNHo/PNo4eWDbCjuYZxAV207H0OHFZVtouuuNdr4DENN6SR9Z/Zxh+Ou8gB6pofkgYzCWVr1AAjdOVO/secdJkbN+nhDnWXOLE77cTgB6inQJ90lJsBsivaNVbuVgxLgXsqvG7Qx6aPeQeQ/9ecOX4AwKZ//YAB7otnnjETT0ETT6qBWlHIuqJMLFJiBwfALrnqfod5QEAOcw6gB/gBQrHyATAAoNjY73/oNU8jFrdMGIumANc22+3nGJTCtICVvNfmnFlz/+7rgpYepinzn0GFwY5BL5buwrGzqvJhkJk4/XG39IV10fgxGllhtYI+NJ96fm0u6LOYS5vH7P5Z5epJ71LYkQqvC/QB9fH9+7sZ553nwf3thx5yR++wg7viuOPcuw8/bIBfEPCZMaV+PUl4U3WdveB1bw7ANg0AYAPGPDDppiUeuAA+3qWAD7PHr/ce4A7tM8rtsd9gv8j63W1/WxkAUvkWCWcwokxo8jEgBejR9EObOiD2s12OrVsDhw75Xz1xQQcQZ1A88viLK3mzyAsP4MUBh5/bEHMPoN+3/9jSmj68LQL6Dz32tq/fldfP71C/Iu3TE+KksCMVXhfoA1Zo+Fqj/+SJJ8y0UwLs5TTOVAP1BKEtUkc0ZhZM0ajnLXrLabdEAV5s6yEt4mLrF3s7cRkgWEiVBULWBWRtIEyf91/s+SyYxuKyxgAoo+0DchKHwQDwxTQkYbG7nh3E3gP20I9pwtqej3YP4OMuSvy9fj+kiofCi1geWWEMLPWCPnxImbloL96zMJ5Vjp78LoUdqfC6QV9Ay+7lbPghv1IN1JOFWdddtELAUwM+cR5e8q4HshD0xeyjtWzRvDEFAVhcR51wiQcVnnWeRZ6z7PmkZ/YByMqgIzTFLITHTSrfmfet8IMTaVNmKxl0YqAv9nxcOcXmT16nDLnOYV7iecotT/rZADOVkK9SVrlTBmZX2O/lYtDBS4kySpjc/3T/XzL5KW2aBfoMXLR53uAoZeyJ9xR2pMIN9GvQykPAbsT/VAP1RCGO1VnAms4fAmDKxCHhePwIsN529wsehLF1Sz53z/lbTfZ9Ae6UPV/eM+iEnjWYgnbZ82QPuCkXU0waDBhZphgBfTRiqY/cxZ6PKewnO/XpMPDAExafGZhYTM0DfQCYRVs0e31hbsMTR4fxzB6GsK2kbNyLgL6siRjop73bUtiRCs8E/flXXuk3W7HhigtbPdeVxx/f4TkM4/9VJ5zQ4brpzDPdZ08/bfb+YLBJNZDuJD35WbRWDdbCj5R5RwBR2/rxBgFIZUEXTTflbpgCY8mXxWRooSUDYBIud9w0eR8rMwCKhpul6UOH8sXWCiSPlHkHQBd7PoMf+wkoC2Ye0mrXVnYJFwF90oUgTj4APNq9lKnovQjoszhO2cI9CEXz6AnxUtiRCs8E/XlXXOF2/9a3Khc++A9efnnVRRzCuN99wQV+cADsBfRP2XVXt+/3v1+hAb0XbrvNQN9AvxRIiNaLph52ZGYB2OlDcAUQ/9sP9nRi9sFuj5lD7PnXTH7Emzq2/d8Hddi4hPaPdsmaQJif/JcyhfZ8QHrUmDv9+oMecCQddwYqzBZhWh2nyPOCx9/xYM7goONjo6ee1JfBi/eAPmUG+I/ud2klPqDPAJSn6Wv68twI0GemlFq7wHSHm27YtpK/3Ru8OYsFWsBbgP/Yn/3M++MXNWewQWvtU0+51YsWuYeuusoxAEDroj/8wTZvGehXQKdIxwWA6fwxt0hADV/uUBtEmxazBtv5MUEAfGjApAGQ0XgZMLQfOEDGsQXExV4davxzF77hNwyRJ3EGDpvgBxYGF8qAuQPAFa06Vj/xSpEBKRanSBh1JC/8/nV8XFIpmww6uIbyH42fIyzwiJL4nQ36DL7X37DYl+VHPz7El4tBkrKFMyYGX8odDmpSdrs3GPQBdzZdseFKgJ9BoCjoh/EYADDvoPn/84EHaqYT0m3Wfwareml/sHhxIRqpqZgJ9ZfevAHApswo8AiNOfZ+/uKV7vC+F7r9Dj3LnTZ8sgcQ0RoxVfQfPN5fAL3mNRo0Zgvs4aEGLEcvAPAMRngVyUUYR0PkecOgcX/vh7/zGr/Ot+wzAMogFu5RACx33/c0Rz2EJvXGZTU0xQD6P9/1uKqBT9Lk3WvR9AF2DsWDv/APnsE/1gtCvlFmBuXUTCCvfD3hfQo7UuGZ5h0BvJdmzHD7bbNNBfjR2uVdLfeJgwZ58A/TrnnySYfLp74YKFgDYPBJXak1ghg9TZtn6Ifl4P/TN97oRh5yiN9lHHtfJAzAH77vvm7l/PnRPDSNVAP1BKFN1RFA++NFd7h7HnzFd/zwDBudDk2emYDWYOU9wCSaPVqj2PPR7gEUtH1oh8CPtsxgQTmEViPulAWPIb3AXA9dBhk0ZrR+TSccrHgXatKEAfrwRc92NJ2sZ3gGYOuD3rLil3lH+Q8+coR57uSc9Z/CjlR4IdAHnGZdeGEF9BkA6tHU8e2/cdiwKn9+AH3UoYe6k3be2ZuBBvz61/6ZMBaUOdAN89DA3XZzJ++yi/9PGNd5Bx7onpg8uQpYP3r8cXfiTjt5GtAircTnTj6Ejz7iiA7A/+Ltt/tNZm8++GAVTQ3SRZ8fmzDB583hdFlpUg1UppO0W1y0d8AIUwtacQzQpc5o7aJ5S5jcASYWXQFZTCFo/7zDNxx7/oCh13vgk/hyB8zQyOV/o+5o4ewdYFBpBE2AHJNS2bLCF8w/8AU+w7/xUxaWLlNo/mpEnaDBngIG8tDzqVH024VOCjtS4YVBH6D+40EHVYCfoxdSWnIWuGW9QzPmLB9MSawfALqAN2f6vL9woV8L4B1HP6x69FF/AdAsHBN+8/DhVcBKmrvOP9+/A/TZMcwR0FykY22BdNqMw+yAQYGBJqusRd9Bj6OnMYvpTWxh+lQDtYtg1lIPAOg//usAf2TwxVfelwtGaKqAX6h1Yo7BV53FShZP//t/7F0xFwDAd9z75w600Z5ZA2AwqaXsqTSYL1hcFVt7Kl7ZcICRo4jLACR1w3OJdRLMJ1zMqsrm3Yz4lIW2DNcqmpFXd6eZwo5UeGHQB6TemDvXgzFAyYWZJgSvev8D1NAGpAF8oceisIB7zLwE4JPulrPOqqQh7cPjxlXoMXAJPe6Yd4768Y/9ICDh0ObUUJ23vKv1/o/77vNnEr0+e3ZV/ppeqoG6u0DWW3409JgPeoou7om9j7mgaocn5hnAFs2eK7Qbp2iF5p5UvDLhLFhmmanK0Arjck4NdY+ZcMK4rf6fDWSNHhhbvc61li+FHanwUqAPSD05ZYoHUQH+0KyigayWZwF9TC8aePNAXxacMT1x8JvkLaAPPQF9TC3P33qr9yA6/7DDfJ2Iz4yC2QwzgCytnHdZ7yVvuVM2BjE+MiNh4T3VQLUKQk9OVxTUu4JHzTKFSF1aue5SxiL3ZvOpSBm6S5wUdqTCS4M+YAV4Cegf9/OfV4FsCGZl/9cK+gwKFx95pC8X6w+Sr4A+oCugz76CsX37+jg8s1BNfMxLaPn3jB5dSS905P74xInu0qOP9rMc6HHgHKAu72N34mHiwSTGwBKLk2qg7iJ4Vs70jknjjfGmmTKQwo5UeK/ly5dX3sXAKBYGcAFgAvxoxwKosfhlwrDVQ7espk8esqdAu5UK6ON2iumGiwEAU1FYLsww5M1sJnwn9FlEZnMZXww7+Ic/9O6seaBP2jtHjfIeUCkXzkojBA/NFBajbWBkMtD9ZSCAjNy/vWbMmFGJFAO6VBjeO9qNU2vXqTRFwusBfbH5x0C/9/bb+6Mjzt5/f29fj4E+AwKgHzsWmvUL9heIXf7Dxx7zcfVGs0evvTaalnozo4A29YvxgUZYsWKFW7BgQaU9eLBO2f07pbWhtWEzZaAKMAr8qcm8I6AlIAmY7f+DH3g7ubyr9V6reQcbu4C+HoBE00e7x9uIeNPPOMNr6mEZpT6UQb8D6Bng9IwGbZ96S17MdBgAAH6dVp6FNp5DEqbva9ascd/5zndcr1693LJlyypNFwoLuzw5i8Qu44HJQPvKQOo8qBAP+F/212vDhg2VNBqEij6LSQVfeezqRdOl4tUK+picAHaAGHdMoa9BX0xQT02d6vcJSBy5p4AZ900N8MTHS4gwTEL8Z4OY0Bd6+i7nGKVAf8uWLW7QoEFuzz33dF999VWlTcJGZvs+W9LtMh6YDLSvDJTZgVwBi4IPvS655BK3adMmH12DVJFnQB7tFrDFH71Imrw4AvrQ1LbyPO8dscdfePjhVYOPBn1ZREXbjw1Qor0LkEtZWbje49vfrhwUB7gzyLFOQBkpMzZ+DqSTNOF9zmWX+UEiy7yzefNmt379+qqmC0Hf/pupwGSg58kArsupneFVgFHgT6+NGzdWooVAlfcf33iArxE7V8kLMMWdEg0a0EcrJgyAZlDhWGfezR071ptqAHHcOrGXH/+LX/g0GlR5L7Z0Nlxhh8/SxknLR97R+HXd0dIBfbH1L5k0yZt7GPCgx2znuVtucb/97nerBiqhQfkZOGSQkHB9rzRC8GAdvOd1cGtza3MtA3yMhh3pnLEU2zsSQEbu35pt+tiyG3lwGqCOz3y/X/7SAzvgzlEJhKGt8yxHNB+z447+P0DON3lxs8Ser2cbaOAcw8B7aAHm0IA+m7I04Moz6YfuvXcHf3qAfchee7nBe+zhrj35ZL+hC5rwAEB/+a67vJbPWT2xGQR0WQ/IMoGlWko3vj0bGJgM9DwZwIzHEeEclRHbqJjCjlR4TaCPSyPeMCnXRgHRMndMLu8sWOC1aTRquTCdoM1zhEJ4EZ8LDZ70Oj/Al/jQYcYg9LiHcXU6NHK9YCvvAH40fPz0OTcI0BczEKCOFs8hbZRH0sid8uf5/6cayDp5z+vknIzJIXAxrc7kofHycOOMpzuYTjiiAv7LFTuOY9ptSwu3EekB71o3nT346JvuF78+vmtAn41MaNz1nk2TZWYRsOyKO7t5mRWIa2ZYBsrNoKBNNctuuMEdtO223uYfnv9Deuz5On5Ik/+pn3XyxnfyVuYpHw3hOGcAopXL2U5l46PrWoPGds6Rzyeffq3rd+o4fxHn9LOnOhwpqDuDAXHKnEzKGVCx7zMU4SXnI+17yPBofinsSIWX0vTl7J1bzz67gzYbA7JUGGsAY/r0ybSvp9J2RjieOdjpwxnBipkz3cwRI7w9nzUHbP3MKNDuT99zT3/gW2jeYaZC3HCdIKxHqoGKCITFaY+BgaOE99z/dDf68nsM8HOOE26kzAPsGvShLV/s4sA3jrbgGnzWFLfjzsd4bb0W0OdMJPKSr5mVqUPWia8p7EiFFwZ9bORoq3rjUwhcRf7j2njuAQe4egeOInnVGgfgZhNXCNQsILOYzPoBfLhh6NDK937ZAxACPv+JF9P+w7KlGqiMYFjc7g3+aI6pxTpr2+a1bQz075z9V29Dx6wivMc0w0mtfOOhFtCHDoMJNC647O4KXaGfujPzuOyaOcn4KexIhRcCfbxgZCEy9cGSEMRi/5kpQIeNTinzSSxdV4Sh5WO7r+f4aAbKP40cWWhWlGqglCBYePNAoCt4y7d/8dAoczRyV5SzHfMMzTvUEWD/2S7HVp1YKqDP19ZqBX1oA+B8J4AP/xTlZ2xNQdKmsCMVngv6gB+uiXiviMsjdu2sC6BkcZMFTMwbnMQ5+bTT/OIvC6CxhdKuAPa8PEPzTl78et6nGkga1u7tBfK6PZn286lHPnmow+25c9o8BH0A/dA+o6o+Hk9bYL/ffsfedWn60OELZ2j74Scua23vFHakwnNBX86px7SDbSmtvD4AABCkSURBVJqLw9DkOevOh1AA+fAKzSb1gGW7pE01UK2CYOk6BzAawWc+2II7HvdG0DMa5do+NO8IuF867oGq9sDLh3aaed+KujR92od1G7T9Rnw9LYUdqfBM0OdkyBCw6/2P6yIzhnYB60bVI9VAje7At896seKB0Gja9dLDjjpv0VtVHa1emq2eHq1SPuPYLmfhtzrPw/KFoM9mKMBd2/Npp0OOGukXYklfj3mH9HzsB9AfdMbEuuU9hR2p8EzQx0zDLtVGXti5GwWU7UQn1UChgOb9Z+o45Jxpji80hXFxA+RD30tfWNfhXRi3Ef/RmHBxCy/80LlCkOOD5XzWUHe2RpQjjwY+8eMmPexwqavVjzovj9R7zljBZMAibiqODscUpP8385nD/eDLhBsf8yDXzLyE9qSblvg8+d5v6tgBiduouwZ98jxv9Az/LWXkF3ngThxAX2zr9YI+/RR6rBuE/aBsvVLYkQrPBP12AtVWr0uqgcoIAIL0k536uKNOuMRrKnRaSQ+w/ejHh3TaQiGdY+i5N/jvtqI1odXgf853T/mWK2XhI+W6jJSVRa5d9jw56o8sdWnknQ73812P84uoLKSWOeiqEeWYfPMTvq2umvBQpa00XcAFV07KxecDzxxxU6cAMIuMbAai7WgzyqDL1YxnfNH/724ndGqe1ENAH14PHDbBu1SyxoKtn8GYmdiYq2dX8b1e0GdwOWvULb6uKDv18DOFHanw0qAfuiUWBdN6vH6K5tGd46UaqIwwAAoAKUIMgGEuIT0CdsDh53b6N0fpGBwRC3CQPwDLLAPtiWc6FO+umfxIRegBNz5eXsv3UXGHw3xVhmfEJU/8r/c+YGina/qnnjnJ84DpfqzcDIrMfhjM4RVA1FkaMLMx8iw6CwnLzxoFNMLwrP/15plFO/VOQJ/3DG7hFZv91Qv65DV2/FzP3wvHzirFo7AeKexIhZcC/dljxvjPA5bxasGcs3TaNHfNSSclPxXYncG6UWVPNVDYwKn/gChgiVYimqHExR2QzlvGRUzS1ntnwYq8YyDOzATTBuVmCi15sSHmP3c4zHs5SFiR+9UTF7hjTrqsQqdIGuKgaVFGALhomkbEA0zYqMMsiA+2x2jSlgxmuHJSxs4EfUwt5JmahcTKq8OO7nepo010WN5zvXnm0Y+916Afex8LawToz1+80vO31kFVypXCjlR4KdBfOH68e+ammwrb5HHr5IMlo484wg3cbbeqA9EaBZbtQifVQNKwWXe0Z+zmdNDjTrnC+xaL7ZF0LBYBrABIig7vAGHeo0ki1Km4RcOhgVsa5Ypp4IAe5eK93hEp2l5ZbxYApm//saXLLQOTHH1AuTvDzMNAR/3DQS/GX/gDnzoT9JEb8gSc4EfZ9QQG4LKgX2+eMd7lhZ02fLLDtJQXT79HRihrVp/S8WPP5LnNdvvVtENX00thRyq8MOijsadOp8wDXr4mZaD/bOZgmWog3bixZzR8bOXYyemgmCl4vnbqo16I6ajYJ1PaBMLLoi9+ybvve5pfROt9zAXuiuvmleoEqbJhbkKbj2mydBgBfW3eAOBIh80zRjcVVgvoy8BE56MT4j102NHne57FFsNTedcSDpCi5cODvMX1zgZ92ga5oR2YjXDuC3fdTnl1ZgAuA/rwQOe5/2Fnl84zr0yx98hALDwvrNZ0QlcP+vUMHinsSIUXAn1OqRzbt68/pnjl/PkevFYvWuQ3XrH5igsPH+7E5dI2fEB/0G9+Y5r+s2ngTzWQCEjWnek/OwgBfUw5aMpi9wVsGQhi5hWEFls7oDN7wese8ABo6GjNu1bhhia0MDlJeXQ9yAPQCwcFMVWdMPCqUjMOzBBlNX3yAtgAG3ym8W66/obFfqGZBUwGTSlzrA7yLrzH7MBhHAFyjl7Ioy1xMUXkxQ3zqeU/+TEQwhvMXwxQrHkgL0XqRp5lNX2dJ3JcJM+iZamFB81OI0oPG7Vkll1LninsSIXngj72+wkDB7rX7r/ffySEUyhZzJ0yeLAb169fh4udt3y4hI+hyAzANP002AuPUg1URAgAZTR5OikdRacRsMAdUYfzzAISoCymFzQtOjaDgGgeeNOcdNo1FVe1kEbWf6EfG3BIJ/ZbAFdrujwDbpQj1akpH3XVF2XFjqzD5DlVToAeHpAOzRJN/+45f/MeK6KlMjCwMYft96nyaPrEpT0YjHV4+MzXkMi7yOAm7VjEvEMZpd5Z9yyThngV4TpJuZExBicGaGiGdYnlA09pk/CdHkg1HclTFjbJk/qm8qSd4HPe3g7q2VWX9CNdT3mGD8h4rN9KnCL3FHakwnNBH1AC5FnEHbbPPpWTMbOOYeCdXuw10G8u6IvGoMFahEXAIlyMoyPSmdDkADXii6alTUHjpyx0101b1KGTC/3UnQ6bZc9nzUHeh2XjHUAYqw/5oekyEGHG0tcOvzza10mH8YzZKgU0MjABvph1ZAAUngCg8OOIY0f7j9FndWLKRj5ow9AbMPT6TL5hKhHQ12swMZ5KOxYBfcxiIQ9i//EKipndyF9s6+TLfzFFIC+hVoosweMwj//66eEVc6N+h1sk8hHWU/JkMOSdyDVyGpaT9KxfwT9OoIzRgwZ8/c7/3KvLriwZQLlBxqkDPAz5UfR/CtxT4YVAHxAH8DlWmCMU+M/xDJwgmbo4hli0WAP95oI+WgzaggZrERiECaEKNX3xWCGNAI5o3gLCdLo8kJN8wruYTWIdlriYfihzzFwAcLLXgA7Bc0ib/3QY8tCXaPo6TJ5jNKg3Aw/luOPeP3sz1He3/a3fZk98nTdrJLvtM7AQP9BA6ewCXrG8CdOgnwItSVsG9KEl9c66h+AtecFbZl960JWyEh6b7cTyQdNH7sJ3sfSESZ7iySUzoXAmKOXEjAngc5ew7nRHvloW9FnA5fgFPgt4/YABHswBfnbspi40fa7l06e7qaef7jiHh88e8jUrGQzsvnUwSI3KRYQY7RRgl2mxTkPHZrMTHgo6nDR8gk2f3Q5QQYfOxkWHwq6N94ZOC1iy0Ju1qCeDCot/oQ363nmvegBFa4zRoMzYOcseM1zWpg8Y0enEP5/dp9QfOgwCcpoidS8D+sSXgVTzLXym7t/eZg9fz5BHYdwyoB+mLftfQF/zX2ZE4uFUhGaZhVwBfb3+UyTPInwuUtauiCMzGWQ9nMmUKU8KO1LhhTR9wBnzzsRBg0oBNou5nJs/vn9/f1194olOzwAM9BsD+tI52HUbCgudCeDVGj1xAJHtfnKo3+FJHDozGi8giKbFAAA4o/nKJi+hzfQccIxp6WiZ0MbzhTjDzrvR/yeMPM654DZvgqFMotEJXbkTl+3pZf3my4K+aK8yIJKeMjPjwZuJxUQpU1nQl3RZd+pJfgzKtEEsrvATuzVxmZmwVlAPSMTyCcMwtaBhA0z3PPiKb4/hI2+OljFMK//LgD5pyFPMjcgez2XzlLw7686gA49kVkg78j9v5kb5xGSmZ1S1lDsF7qnwwqBvAL0VoJvBi1QDFRECAH37iN1T0mLjjQkW3/hEk8ceSwcHVMREhNCy9Zx0ISDdcPsyn26P/QZ3sO8CjriQAmRoMNDnwn7MHXdQ/O9DmlJW7nR4ylJGqyRdWdBn4RBNWwZLNFy+XEX5GfR0x20G6MtMAx7zrHkgz/AAezj8g5/E5ZlBCXCReI2+MyAyqMML2jk2i8zLsyzoIxOSJzJZS555ZWr0ew5nYy1J+hcOCP/jf+3jXZ/z8mLQR9FCAcrqD3l0UtiRCjfQz3CjbAa4p2imGiirwdmQJcCRJTjYzzmWgXtID40R4WO7P0ALcBIHc8PBR45wIy6e6cM0APIekw/ujaG2TjzKlLrC/GP/8fbhbJ4UEMbSEEbZy+7IDe3uaGxhGLSbAfrwmHaj46cW8uAnPA6vZgK+8Fd4EbaxvM+7l3XZhB4DL/JYa555ZWr0ezR9zIKAPmWnTXnGASIvL9kpL4pWXvzU+xR2pMIN9Lsp6KMBAtJ4cwDoAtYxwQA4EKzUZicEVUw2sigG4EJfFiVDuuR3ypDrcgU7TJf3n0VpZgm1aHloS5x1npdHmfd0agCZkxcxOTE7kql8GTqpuHL2TiPOVU/l0VXhzKCQra7KP8wX+UCu9YBJ+1JG3vFMX+GZO+m5E5843HXbA/KEoRD85reDPOiTlgX/IqAvZllxiw3LW/R/CtxT4Qb63RT02UDEQizT/N/3Pie3c3F2C2aCUNtnwZIjXtE2uaAnZ/Rg3sHOSmfQAggNfNolnn5XzzP5sBYgU+V6aDUqLZ2dmQeLulwMsvCsUfTFN70RO6AbVaZ2pANYY17EOYGFew47o54ALqZNLpwbWN8BtPmGLYCPFxntzoyMtJj/AHv6H4vOKEuss5AGwEdeGADyQB/a4rJc74CfAvdUuIF+NwV9BBb/eUASQSvSUaffsdwLpJ46syjI9JSLzUho8KLlpGgCzs04857pLjZkzFapvNstnFnE9jv29gDQbnVrpfrMmvt3P4NEtvAsw+6O1o+sn3vh7R70AW1s9Cg69Cl2uaMEIe8C/KTBsQHz49yFb/j0F195nwd9Me+w9pIH+swQUG5YrNb9sRaepcA9FW6g341BvxYBYcqNzbSWtM1OwzHMebtYm12GzqYP6OAaieko5Tff2WVq1/xQaOA1GjuzZOE3QC5HkWMGFYUG0GdWwAAA6LPvgPbiI0UAO4MEvJL1njKgjxkT8ykDTL38ToF7KtxAv4eBfr0CZunLfX+1CL9kn4V2ES2SzuIUbws27slHhFB68NpC+8dLCSDHxMkucECf//AWrR8vIgYJzDyiLDEYoKVr0JdBgAGiiKbP+hrnToXm1lraNAXuqXADfQP9ujWNWgTV0mwFLIACmzE2YgEc489W/tTLCzHPAOxo45gyAf3Tz55a+TA55yWFDhGYaGgXZgg8MwhQFvZMsMcFwMZMAx2ZqWGqAfQxlabaUkx69XrtCF9S4J4KN9A30DfQ/0vjAEY6Ytk7i8Nofmj9ZdNa/Pz2w5yCD/3hfS/0u8kx0bBoy4AA/9Da0eZFeycMsw2eZJzz1OfEMR7ocW7gHbMEZgYs5Mo+mDP+ON1vJsMURF6pBX82nNHWOFdAq94rBe6pcAN9A/26ha5eobX0/+74uG9iNtBugcab+kFR81CDug7nmRmXhNEGOBUAzDIwyJqAxEOT55n3cpf0qTv0APx63TQ1/RS4p8IN9A30K4KuBcmeGws2RfgJILEjVY6FKJLG4jSvnW6a+Yw3udEeuOpifiv7NbewfTDpNMqsI7RT4J4KN9A30DfQb8AUWzpgvXc0RvZA4AdeLy1LX/+AgM0e0xAXz/XwFLMObZuy9ddKOwXuqXADfQP9ugS5VkG1dGlAYrExPOTO+JXmV3fhDbu5Gw341L3sz0DfQN9Av4U0/e4CYFbO1hmEDPRbBMRTB6ulwlMNZ52rdTqXtYW1RSvKQAo7UuFVmn4qkoV3HQdaUcisTAZ+JgOtIwNl0clAvyzHOjm+da7W6VzWFtYWrSgDZSHJQL8sxyy+ccA4YBzoxhww0O/GjWdFNw4YB4wDZTlgoF+WYxbfOGAcMA50Yw4Y6HfjxrOiGweMA8aBshww0C/LMYtvHDAOGAe6MQcM9Ltx41nR25cDGzdudN98801DKrhlyxa3efPmhtAyIt2fA/8f3vxD+p7OupcAAAAASUVORK5CYII=)"
      ]
    },
    {
      "cell_type": "markdown",
      "metadata": {
        "id": "vGsWXG8_si1j"
      },
      "source": [
        "https://littlefoxdiary.tistory.com/12"
      ]
    },
    {
      "cell_type": "code",
      "metadata": {
        "id": "nnW4YscCqhNI"
      },
      "source": [
        "from rank_bm25 import BM25Okapi"
      ],
      "execution_count": 2,
      "outputs": []
    },
    {
      "cell_type": "code",
      "metadata": {
        "colab": {
          "base_uri": "https://localhost:8080/"
        },
        "id": "0xEKs2aqqdmh",
        "outputId": "fd5b5bda-4d1c-40a2-8407-0604f1137f6e"
      },
      "source": [
        "corpus = [\r\n",
        "    \"세계 배달 피자 리더 도미노피자가 우리 고구마를 활용한 신메뉴를 출시한다.\",\r\n",
        "    \"도미노피자는 오는 2월 1일 국내산 고구마와 4가지 치즈가 어우러진 신메뉴 `우리 고구마 피자`를 출시하고 전 매장에서 판매를 시작한다. 이번에 도미노피자가 내놓은 신메뉴 `우리 고구마 피자`는 까다롭게 엄선한 국내산 고구마를 무스와 큐브 형태로 듬뿍 올리고, 모차렐라, 카망베르, 체더 치즈와 리코타 치즈 소스 등 4가지 치즈와 와규 크럼블을 더한 프리미엄 고구마 피자다.\",\r\n",
        "    \"피자의 발상지이자 원조라고 할 수 있는 남부의 나폴리식 피자(Pizza Napolitana)는 재료 본연의 맛에 집중하여 뛰어난 식감을 자랑한다. 대표적인 나폴리 피자로는 피자 마리나라(Pizza Marinara)와 피자 마르게리타(Pizza Margherita)가 있다.\",\r\n",
        "    \"도미노피자가 삼일절을 맞아 '방문포장 1+1' 이벤트를 진행한다. 이번 이벤트는 도미노피자 102개 매장에서 3월 1일 단 하루 동안 방문포장 온라인, 오프라인 주문 시 피자 1판을 더 증정하는 이벤트다. 온라인 주문 시 장바구니에 2판을 담은 후 할인 적용이 가능하며, 동일 가격 또는 낮은 가격의 피자를 고객이 선택하면 무료로 증정한다.\"\r\n",
        "]\r\n",
        "\r\n",
        "def tokenizer(sent):\r\n",
        "  return sent.split(\" \")\r\n",
        "\r\n",
        "tokenized_corpus = [tokenizer(doc) for doc in corpus]\r\n",
        "tokenized_corpus"
      ],
      "execution_count": 21,
      "outputs": [
        {
          "output_type": "execute_result",
          "data": {
            "text/plain": [
              "[['세계', '배달', '피자', '리더', '도미노피자가', '우리', '고구마를', '활용한', '신메뉴를', '출시한다.'],\n",
              " ['도미노피자는',\n",
              "  '오는',\n",
              "  '2월',\n",
              "  '1일',\n",
              "  '국내산',\n",
              "  '고구마와',\n",
              "  '4가지',\n",
              "  '치즈가',\n",
              "  '어우러진',\n",
              "  '신메뉴',\n",
              "  '`우리',\n",
              "  '고구마',\n",
              "  '피자`를',\n",
              "  '출시하고',\n",
              "  '전',\n",
              "  '매장에서',\n",
              "  '판매를',\n",
              "  '시작한다.',\n",
              "  '이번에',\n",
              "  '도미노피자가',\n",
              "  '내놓은',\n",
              "  '신메뉴',\n",
              "  '`우리',\n",
              "  '고구마',\n",
              "  '피자`는',\n",
              "  '까다롭게',\n",
              "  '엄선한',\n",
              "  '국내산',\n",
              "  '고구마를',\n",
              "  '무스와',\n",
              "  '큐브',\n",
              "  '형태로',\n",
              "  '듬뿍',\n",
              "  '올리고,',\n",
              "  '모차렐라,',\n",
              "  '카망베르,',\n",
              "  '체더',\n",
              "  '치즈와',\n",
              "  '리코타',\n",
              "  '치즈',\n",
              "  '소스',\n",
              "  '등',\n",
              "  '4가지',\n",
              "  '치즈와',\n",
              "  '와규',\n",
              "  '크럼블을',\n",
              "  '더한',\n",
              "  '프리미엄',\n",
              "  '고구마',\n",
              "  '피자다.'],\n",
              " ['피자의',\n",
              "  '발상지이자',\n",
              "  '원조라고',\n",
              "  '할',\n",
              "  '수',\n",
              "  '있는',\n",
              "  '남부의',\n",
              "  '나폴리식',\n",
              "  '피자(Pizza',\n",
              "  'Napolitana)는',\n",
              "  '재료',\n",
              "  '본연의',\n",
              "  '맛에',\n",
              "  '집중하여',\n",
              "  '뛰어난',\n",
              "  '식감을',\n",
              "  '자랑한다.',\n",
              "  '대표적인',\n",
              "  '나폴리',\n",
              "  '피자로는',\n",
              "  '피자',\n",
              "  '마리나라(Pizza',\n",
              "  'Marinara)와',\n",
              "  '피자',\n",
              "  '마르게리타(Pizza',\n",
              "  'Margherita)가',\n",
              "  '있다.'],\n",
              " ['도미노피자가',\n",
              "  '삼일절을',\n",
              "  '맞아',\n",
              "  \"'방문포장\",\n",
              "  \"1+1'\",\n",
              "  '이벤트를',\n",
              "  '진행한다.',\n",
              "  '이번',\n",
              "  '이벤트는',\n",
              "  '도미노피자',\n",
              "  '102개',\n",
              "  '매장에서',\n",
              "  '3월',\n",
              "  '1일',\n",
              "  '단',\n",
              "  '하루',\n",
              "  '동안',\n",
              "  '방문포장',\n",
              "  '온라인,',\n",
              "  '오프라인',\n",
              "  '주문',\n",
              "  '시',\n",
              "  '피자',\n",
              "  '1판을',\n",
              "  '더',\n",
              "  '증정하는',\n",
              "  '이벤트다.',\n",
              "  '온라인',\n",
              "  '주문',\n",
              "  '시',\n",
              "  '장바구니에',\n",
              "  '2판을',\n",
              "  '담은',\n",
              "  '후',\n",
              "  '할인',\n",
              "  '적용이',\n",
              "  '가능하며,',\n",
              "  '동일',\n",
              "  '가격',\n",
              "  '또는',\n",
              "  '낮은',\n",
              "  '가격의',\n",
              "  '피자를',\n",
              "  '고객이',\n",
              "  '선택하면',\n",
              "  '무료로',\n",
              "  '증정한다.']]"
            ]
          },
          "metadata": {
            "tags": []
          },
          "execution_count": 21
        }
      ]
    },
    {
      "cell_type": "code",
      "metadata": {
        "colab": {
          "base_uri": "https://localhost:8080/"
        },
        "id": "VvfUrLQHsPgk",
        "outputId": "3b447e98-61fa-47e1-cba5-d480d95554e1"
      },
      "source": [
        "bm25 = BM25Okapi(tokenized_corpus)\r\n",
        "bm25"
      ],
      "execution_count": 23,
      "outputs": [
        {
          "output_type": "execute_result",
          "data": {
            "text/plain": [
              "<rank_bm25.BM25Okapi at 0x7fd57c13d358>"
            ]
          },
          "metadata": {
            "tags": []
          },
          "execution_count": 23
        }
      ]
    },
    {
      "cell_type": "code",
      "metadata": {
        "colab": {
          "base_uri": "https://localhost:8080/"
        },
        "id": "FzjwPvgEsV4R",
        "outputId": "5393b770-b106-40dc-ae51-673708662f5f"
      },
      "source": [
        "bm25.doc_freqs"
      ],
      "execution_count": 24,
      "outputs": [
        {
          "output_type": "execute_result",
          "data": {
            "text/plain": [
              "[{'고구마를': 1,\n",
              "  '도미노피자가': 1,\n",
              "  '리더': 1,\n",
              "  '배달': 1,\n",
              "  '세계': 1,\n",
              "  '신메뉴를': 1,\n",
              "  '우리': 1,\n",
              "  '출시한다.': 1,\n",
              "  '피자': 1,\n",
              "  '활용한': 1},\n",
              " {'1일': 1,\n",
              "  '2월': 1,\n",
              "  '4가지': 2,\n",
              "  '`우리': 2,\n",
              "  '고구마': 3,\n",
              "  '고구마를': 1,\n",
              "  '고구마와': 1,\n",
              "  '국내산': 2,\n",
              "  '까다롭게': 1,\n",
              "  '내놓은': 1,\n",
              "  '더한': 1,\n",
              "  '도미노피자가': 1,\n",
              "  '도미노피자는': 1,\n",
              "  '듬뿍': 1,\n",
              "  '등': 1,\n",
              "  '리코타': 1,\n",
              "  '매장에서': 1,\n",
              "  '모차렐라,': 1,\n",
              "  '무스와': 1,\n",
              "  '소스': 1,\n",
              "  '시작한다.': 1,\n",
              "  '신메뉴': 2,\n",
              "  '어우러진': 1,\n",
              "  '엄선한': 1,\n",
              "  '오는': 1,\n",
              "  '올리고,': 1,\n",
              "  '와규': 1,\n",
              "  '이번에': 1,\n",
              "  '전': 1,\n",
              "  '체더': 1,\n",
              "  '출시하고': 1,\n",
              "  '치즈': 1,\n",
              "  '치즈가': 1,\n",
              "  '치즈와': 2,\n",
              "  '카망베르,': 1,\n",
              "  '큐브': 1,\n",
              "  '크럼블을': 1,\n",
              "  '판매를': 1,\n",
              "  '프리미엄': 1,\n",
              "  '피자`는': 1,\n",
              "  '피자`를': 1,\n",
              "  '피자다.': 1,\n",
              "  '형태로': 1},\n",
              " {'Margherita)가': 1,\n",
              "  'Marinara)와': 1,\n",
              "  'Napolitana)는': 1,\n",
              "  '나폴리': 1,\n",
              "  '나폴리식': 1,\n",
              "  '남부의': 1,\n",
              "  '대표적인': 1,\n",
              "  '뛰어난': 1,\n",
              "  '마르게리타(Pizza': 1,\n",
              "  '마리나라(Pizza': 1,\n",
              "  '맛에': 1,\n",
              "  '발상지이자': 1,\n",
              "  '본연의': 1,\n",
              "  '수': 1,\n",
              "  '식감을': 1,\n",
              "  '원조라고': 1,\n",
              "  '있는': 1,\n",
              "  '있다.': 1,\n",
              "  '자랑한다.': 1,\n",
              "  '재료': 1,\n",
              "  '집중하여': 1,\n",
              "  '피자': 2,\n",
              "  '피자(Pizza': 1,\n",
              "  '피자로는': 1,\n",
              "  '피자의': 1,\n",
              "  '할': 1},\n",
              " {\"'방문포장\": 1,\n",
              "  \"1+1'\": 1,\n",
              "  '102개': 1,\n",
              "  '1일': 1,\n",
              "  '1판을': 1,\n",
              "  '2판을': 1,\n",
              "  '3월': 1,\n",
              "  '가격': 1,\n",
              "  '가격의': 1,\n",
              "  '가능하며,': 1,\n",
              "  '고객이': 1,\n",
              "  '낮은': 1,\n",
              "  '단': 1,\n",
              "  '담은': 1,\n",
              "  '더': 1,\n",
              "  '도미노피자': 1,\n",
              "  '도미노피자가': 1,\n",
              "  '동안': 1,\n",
              "  '동일': 1,\n",
              "  '또는': 1,\n",
              "  '맞아': 1,\n",
              "  '매장에서': 1,\n",
              "  '무료로': 1,\n",
              "  '방문포장': 1,\n",
              "  '삼일절을': 1,\n",
              "  '선택하면': 1,\n",
              "  '시': 2,\n",
              "  '오프라인': 1,\n",
              "  '온라인': 1,\n",
              "  '온라인,': 1,\n",
              "  '이번': 1,\n",
              "  '이벤트는': 1,\n",
              "  '이벤트다.': 1,\n",
              "  '이벤트를': 1,\n",
              "  '장바구니에': 1,\n",
              "  '적용이': 1,\n",
              "  '주문': 2,\n",
              "  '증정하는': 1,\n",
              "  '증정한다.': 1,\n",
              "  '진행한다.': 1,\n",
              "  '피자': 1,\n",
              "  '피자를': 1,\n",
              "  '하루': 1,\n",
              "  '할인': 1,\n",
              "  '후': 1}]"
            ]
          },
          "metadata": {
            "tags": []
          },
          "execution_count": 24
        }
      ]
    },
    {
      "cell_type": "code",
      "metadata": {
        "colab": {
          "base_uri": "https://localhost:8080/"
        },
        "id": "brfHVfZjscHE",
        "outputId": "2a5c775d-188a-4283-9450-75eb8da676f8"
      },
      "source": [
        "bm25.doc_len"
      ],
      "execution_count": 25,
      "outputs": [
        {
          "output_type": "execute_result",
          "data": {
            "text/plain": [
              "[10, 50, 27, 47]"
            ]
          },
          "metadata": {
            "tags": []
          },
          "execution_count": 25
        }
      ]
    },
    {
      "cell_type": "code",
      "metadata": {
        "colab": {
          "base_uri": "https://localhost:8080/"
        },
        "id": "RkIOp59wsep4",
        "outputId": "4595df7a-3dc8-4349-854c-d350a69917c0"
      },
      "source": [
        "bm25.idf"
      ],
      "execution_count": 26,
      "outputs": [
        {
          "output_type": "execute_result",
          "data": {
            "text/plain": [
              "{\"'방문포장\": 0.8472978603872037,\n",
              " \"1+1'\": 0.8472978603872037,\n",
              " '102개': 0.8472978603872037,\n",
              " '1일': 0.0,\n",
              " '1판을': 0.8472978603872037,\n",
              " '2월': 0.8472978603872037,\n",
              " '2판을': 0.8472978603872037,\n",
              " '3월': 0.8472978603872037,\n",
              " '4가지': 0.8472978603872037,\n",
              " 'Margherita)가': 0.8472978603872037,\n",
              " 'Marinara)와': 0.8472978603872037,\n",
              " 'Napolitana)는': 0.8472978603872037,\n",
              " '`우리': 0.8472978603872037,\n",
              " '가격': 0.8472978603872037,\n",
              " '가격의': 0.8472978603872037,\n",
              " '가능하며,': 0.8472978603872037,\n",
              " '고객이': 0.8472978603872037,\n",
              " '고구마': 0.8472978603872037,\n",
              " '고구마를': 0.0,\n",
              " '고구마와': 0.8472978603872037,\n",
              " '국내산': 0.8472978603872037,\n",
              " '까다롭게': 0.8472978603872037,\n",
              " '나폴리': 0.8472978603872037,\n",
              " '나폴리식': 0.8472978603872037,\n",
              " '남부의': 0.8472978603872037,\n",
              " '낮은': 0.8472978603872037,\n",
              " '내놓은': 0.8472978603872037,\n",
              " '단': 0.8472978603872037,\n",
              " '담은': 0.8472978603872037,\n",
              " '대표적인': 0.8472978603872037,\n",
              " '더': 0.8472978603872037,\n",
              " '더한': 0.8472978603872037,\n",
              " '도미노피자': 0.8472978603872037,\n",
              " '도미노피자가': 0.19915120650126542,\n",
              " '도미노피자는': 0.8472978603872037,\n",
              " '동안': 0.8472978603872037,\n",
              " '동일': 0.8472978603872037,\n",
              " '듬뿍': 0.8472978603872037,\n",
              " '등': 0.8472978603872037,\n",
              " '또는': 0.8472978603872037,\n",
              " '뛰어난': 0.8472978603872037,\n",
              " '리더': 0.8472978603872037,\n",
              " '리코타': 0.8472978603872037,\n",
              " '마르게리타(Pizza': 0.8472978603872037,\n",
              " '마리나라(Pizza': 0.8472978603872037,\n",
              " '맛에': 0.8472978603872037,\n",
              " '맞아': 0.8472978603872037,\n",
              " '매장에서': 0.0,\n",
              " '모차렐라,': 0.8472978603872037,\n",
              " '무료로': 0.8472978603872037,\n",
              " '무스와': 0.8472978603872037,\n",
              " '발상지이자': 0.8472978603872037,\n",
              " '방문포장': 0.8472978603872037,\n",
              " '배달': 0.8472978603872037,\n",
              " '본연의': 0.8472978603872037,\n",
              " '삼일절을': 0.8472978603872037,\n",
              " '선택하면': 0.8472978603872037,\n",
              " '세계': 0.8472978603872037,\n",
              " '소스': 0.8472978603872037,\n",
              " '수': 0.8472978603872037,\n",
              " '시': 0.8472978603872037,\n",
              " '시작한다.': 0.8472978603872037,\n",
              " '식감을': 0.8472978603872037,\n",
              " '신메뉴': 0.8472978603872037,\n",
              " '신메뉴를': 0.8472978603872037,\n",
              " '어우러진': 0.8472978603872037,\n",
              " '엄선한': 0.8472978603872037,\n",
              " '오는': 0.8472978603872037,\n",
              " '오프라인': 0.8472978603872037,\n",
              " '온라인': 0.8472978603872037,\n",
              " '온라인,': 0.8472978603872037,\n",
              " '올리고,': 0.8472978603872037,\n",
              " '와규': 0.8472978603872037,\n",
              " '우리': 0.8472978603872037,\n",
              " '원조라고': 0.8472978603872037,\n",
              " '이번': 0.8472978603872037,\n",
              " '이번에': 0.8472978603872037,\n",
              " '이벤트는': 0.8472978603872037,\n",
              " '이벤트다.': 0.8472978603872037,\n",
              " '이벤트를': 0.8472978603872037,\n",
              " '있는': 0.8472978603872037,\n",
              " '있다.': 0.8472978603872037,\n",
              " '자랑한다.': 0.8472978603872037,\n",
              " '장바구니에': 0.8472978603872037,\n",
              " '재료': 0.8472978603872037,\n",
              " '적용이': 0.8472978603872037,\n",
              " '전': 0.8472978603872037,\n",
              " '주문': 0.8472978603872037,\n",
              " '증정하는': 0.8472978603872037,\n",
              " '증정한다.': 0.8472978603872037,\n",
              " '진행한다.': 0.8472978603872037,\n",
              " '집중하여': 0.8472978603872037,\n",
              " '체더': 0.8472978603872037,\n",
              " '출시하고': 0.8472978603872037,\n",
              " '출시한다.': 0.8472978603872037,\n",
              " '치즈': 0.8472978603872037,\n",
              " '치즈가': 0.8472978603872037,\n",
              " '치즈와': 0.8472978603872037,\n",
              " '카망베르,': 0.8472978603872037,\n",
              " '큐브': 0.8472978603872037,\n",
              " '크럼블을': 0.8472978603872037,\n",
              " '판매를': 0.8472978603872037,\n",
              " '프리미엄': 0.8472978603872037,\n",
              " '피자': 0.19915120650126542,\n",
              " '피자(Pizza': 0.8472978603872037,\n",
              " '피자`는': 0.8472978603872037,\n",
              " '피자`를': 0.8472978603872037,\n",
              " '피자다.': 0.8472978603872037,\n",
              " '피자로는': 0.8472978603872037,\n",
              " '피자를': 0.8472978603872037,\n",
              " '피자의': 0.8472978603872037,\n",
              " '하루': 0.8472978603872037,\n",
              " '할': 0.8472978603872037,\n",
              " '할인': 0.8472978603872037,\n",
              " '형태로': 0.8472978603872037,\n",
              " '활용한': 0.8472978603872037,\n",
              " '후': 0.8472978603872037}"
            ]
          },
          "metadata": {
            "tags": []
          },
          "execution_count": 26
        }
      ]
    },
    {
      "cell_type": "code",
      "metadata": {
        "colab": {
          "base_uri": "https://localhost:8080/"
        },
        "id": "HfQogEbrslot",
        "outputId": "2e1cd8f9-8478-4f2a-d658-d8f41a2bcaba"
      },
      "source": [
        "query = \"1+1 이벤트\"\r\n",
        "tokenized_query = tokenizer(query)\r\n",
        "tokenized_query"
      ],
      "execution_count": 31,
      "outputs": [
        {
          "output_type": "execute_result",
          "data": {
            "text/plain": [
              "['1+1', '이벤트']"
            ]
          },
          "metadata": {
            "tags": []
          },
          "execution_count": 31
        }
      ]
    },
    {
      "cell_type": "code",
      "metadata": {
        "colab": {
          "base_uri": "https://localhost:8080/"
        },
        "id": "xNxrLIP7suTv",
        "outputId": "757d0b2c-458f-4610-bbbc-e6aca36235bd"
      },
      "source": [
        "doc_scores = bm25.get_scores(tokenized_query)\r\n",
        "doc_scores"
      ],
      "execution_count": 32,
      "outputs": [
        {
          "output_type": "execute_result",
          "data": {
            "text/plain": [
              "array([0., 0., 0., 0.])"
            ]
          },
          "metadata": {
            "tags": []
          },
          "execution_count": 32
        }
      ]
    },
    {
      "cell_type": "code",
      "metadata": {
        "colab": {
          "base_uri": "https://localhost:8080/"
        },
        "id": "maUB2oGetC1T",
        "outputId": "601e5491-e448-4987-e1bb-d287175240b5"
      },
      "source": [
        "# 점수에 따른 상위 n개 문서를 리턴\r\n",
        "bm25.get_top_n(tokenized_query, corpus, n=1)"
      ],
      "execution_count": 34,
      "outputs": [
        {
          "output_type": "execute_result",
          "data": {
            "text/plain": [
              "[\"도미노피자가 삼일절을 맞아 '방문포장 1+1' 이벤트를 진행한다. 이번 이벤트는 도미노피자 102개 매장에서 3월 1일 단 하루 동안 방문포장 온라인, 오프라인 주문 시 피자 1판을 더 증정하는 이벤트다. 온라인 주문 시 장바구니에 2판을 담은 후 할인 적용이 가능하며, 동일 가격 또는 낮은 가격의 피자를 고객이 선택하면 무료로 증정한다.\"]"
            ]
          },
          "metadata": {
            "tags": []
          },
          "execution_count": 34
        }
      ]
    },
    {
      "cell_type": "markdown",
      "metadata": {
        "id": "PKS_WbXWr_Z7"
      },
      "source": [
        ""
      ]
    }
  ]
}