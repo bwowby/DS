{
  "nbformat": 4,
  "nbformat_minor": 0,
  "metadata": {
    "colab": {
      "name": "statsmodel_linear_regression.ipynb",
      "provenance": [],
      "authorship_tag": "ABX9TyOWU7pEhIhxtREP76zrUYLU",
      "include_colab_link": true
    },
    "kernelspec": {
      "name": "python3",
      "display_name": "Python 3"
    }
  },
  "cells": [
    {
      "cell_type": "markdown",
      "metadata": {
        "id": "view-in-github",
        "colab_type": "text"
      },
      "source": [
        "<a href=\"https://colab.research.google.com/github/bwowby/DS/blob/master/statsmodel_linear_regression.ipynb\" target=\"_parent\"><img src=\"https://colab.research.google.com/assets/colab-badge.svg\" alt=\"Open In Colab\"/></a>"
      ]
    },
    {
      "cell_type": "code",
      "metadata": {
        "id": "pVbqWTe_mu9U",
        "outputId": "e21a673f-6629-434b-c328-b45d0c421cba",
        "colab": {
          "base_uri": "https://localhost:8080/",
          "height": 747
        }
      },
      "source": [
        "import numpy as np\n",
        "import io\n",
        "import statsmodels.api\n",
        "\n",
        "def main():\n",
        "    (N, X, Y) = read_data()\n",
        "    results = do_simple_regression(N, X, Y)\n",
        "    print(results.summary())\n",
        "    print(\"pvalues\", results.pvalues)\n",
        "    print(results.params)\n",
        "def read_data():\n",
        "    # 1\n",
        "    N = int(input().strip())\n",
        "    X = np.array([])\n",
        "    Y = np.array([])\n",
        "    for i in range(N):\n",
        "        tmp = input()\n",
        "        X = np.append(X,int(tmp.split(\" \")[0]))\n",
        "        Y = np.append(Y,int(tmp.split(\" \")[1]))\n",
        "        print(X,Y)\n",
        "    return (N, X, Y)\n",
        "\n",
        "def do_simple_regression(N, X, Y):\n",
        "    # 2\n",
        "    X = X.T\n",
        "    X = statsmodels.api.add_constant(X)\n",
        "    results = statsmodels.api.OLS(Y,X).fit()\n",
        "    return results\n",
        "\n",
        "if __name__ == \"__main__\":\n",
        "    main()\n"
      ],
      "execution_count": 4,
      "outputs": [
        {
          "output_type": "stream",
          "text": [
            "5\n",
            "1 1\n",
            "[1.] [1.]\n",
            "2 4\n",
            "[1. 2.] [1. 4.]\n",
            "3 9\n",
            "[1. 2. 3.] [1. 4. 9.]\n",
            "4 16\n",
            "[1. 2. 3. 4.] [ 1.  4.  9. 16.]\n",
            "5 25\n",
            "[1. 2. 3. 4. 5.] [ 1.  4.  9. 16. 25.]\n",
            "                            OLS Regression Results                            \n",
            "==============================================================================\n",
            "Dep. Variable:                      y   R-squared:                       0.963\n",
            "Model:                            OLS   Adj. R-squared:                  0.950\n",
            "Method:                 Least Squares   F-statistic:                     77.14\n",
            "Date:                Fri, 02 Oct 2020   Prob (F-statistic):            0.00311\n",
            "Time:                        10:40:07   Log-Likelihood:                -9.6687\n",
            "No. Observations:                   5   AIC:                             23.34\n",
            "Df Residuals:                       3   BIC:                             22.56\n",
            "Df Model:                           1                                         \n",
            "Covariance Type:            nonrobust                                         \n",
            "==============================================================================\n",
            "                 coef    std err          t      P>|t|      [0.025      0.975]\n",
            "------------------------------------------------------------------------------\n",
            "const         -7.0000      2.266     -3.090      0.054     -14.210       0.210\n",
            "x1             6.0000      0.683      8.783      0.003       3.826       8.174\n",
            "==============================================================================\n",
            "Omnibus:                          nan   Durbin-Watson:                   1.429\n",
            "Prob(Omnibus):                    nan   Jarque-Bera (JB):                0.674\n",
            "Skew:                           0.256   Prob(JB):                        0.714\n",
            "Kurtosis:                       1.276   Cond. No.                         8.37\n",
            "==============================================================================\n",
            "\n",
            "Warnings:\n",
            "[1] Standard Errors assume that the covariance matrix of the errors is correctly specified.\n",
            "pvalues [0.05373166 0.00310901]\n",
            "[-7.  6.]\n"
          ],
          "name": "stdout"
        },
        {
          "output_type": "stream",
          "text": [
            "/usr/local/lib/python3.6/dist-packages/statsmodels/stats/stattools.py:71: ValueWarning: omni_normtest is not valid with less than 8 observations; 5 samples were given.\n",
            "  \"samples were given.\" % int(n), ValueWarning)\n"
          ],
          "name": "stderr"
        }
      ]
    },
    {
      "cell_type": "code",
      "metadata": {
        "id": "dqZLcc9l5hGz"
      },
      "source": [
        ""
      ],
      "execution_count": null,
      "outputs": []
    }
  ]
}