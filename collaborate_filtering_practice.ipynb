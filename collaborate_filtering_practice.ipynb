{
  "nbformat": 4,
  "nbformat_minor": 0,
  "metadata": {
    "kernelspec": {
      "display_name": "Python 3",
      "language": "python",
      "name": "python3"
    },
    "language_info": {
      "codemirror_mode": {
        "name": "ipython",
        "version": 3
      },
      "file_extension": ".py",
      "mimetype": "text/x-python",
      "name": "python",
      "nbconvert_exporter": "python",
      "pygments_lexer": "ipython3",
      "version": "3.7.3"
    },
    "colab": {
      "name": "collaborate-filtering-practice.ipynb",
      "provenance": [],
      "toc_visible": true,
      "include_colab_link": true
    }
  },
  "cells": [
    {
      "cell_type": "markdown",
      "metadata": {
        "id": "view-in-github",
        "colab_type": "text"
      },
      "source": [
        "<a href=\"https://colab.research.google.com/github/bwowby/DS/blob/master/collaborate_filtering_practice.ipynb\" target=\"_parent\"><img src=\"https://colab.research.google.com/assets/colab-badge.svg\" alt=\"Open In Colab\"/></a>"
      ]
    },
    {
      "cell_type": "code",
      "metadata": {
        "id": "6a8Xv-mwsmSt"
      },
      "source": [
        "import numpy as np\n",
        "import pandas as pd"
      ],
      "execution_count": null,
      "outputs": []
    },
    {
      "cell_type": "markdown",
      "metadata": {
        "id": "0-THh2QPsmSz"
      },
      "source": [
        "### Load Data"
      ]
    },
    {
      "cell_type": "code",
      "metadata": {
        "id": "FhfKg-8MsmSz"
      },
      "source": [
        "ratings_url = \"https://bit.ly/dsml-01-ratings2\""
      ],
      "execution_count": null,
      "outputs": []
    },
    {
      "cell_type": "code",
      "metadata": {
        "id": "Q39bXodRsmS0",
        "outputId": "855f403c-b51b-48fb-d3dc-ac745f7135f6"
      },
      "source": [
        "data = pd.read_csv(ratings_url)\n",
        "data.head()"
      ],
      "execution_count": null,
      "outputs": [
        {
          "output_type": "execute_result",
          "data": {
            "text/html": [
              "<div>\n",
              "<style scoped>\n",
              "    .dataframe tbody tr th:only-of-type {\n",
              "        vertical-align: middle;\n",
              "    }\n",
              "\n",
              "    .dataframe tbody tr th {\n",
              "        vertical-align: top;\n",
              "    }\n",
              "\n",
              "    .dataframe thead th {\n",
              "        text-align: right;\n",
              "    }\n",
              "</style>\n",
              "<table border=\"1\" class=\"dataframe\">\n",
              "  <thead>\n",
              "    <tr style=\"text-align: right;\">\n",
              "      <th></th>\n",
              "      <th>사람</th>\n",
              "      <th>책</th>\n",
              "      <th>평점</th>\n",
              "    </tr>\n",
              "  </thead>\n",
              "  <tbody>\n",
              "    <tr>\n",
              "      <th>0</th>\n",
              "      <td>민지</td>\n",
              "      <td>백설공주</td>\n",
              "      <td>5.0</td>\n",
              "    </tr>\n",
              "    <tr>\n",
              "      <th>1</th>\n",
              "      <td>민지</td>\n",
              "      <td>신데렐라</td>\n",
              "      <td>4.0</td>\n",
              "    </tr>\n",
              "    <tr>\n",
              "      <th>2</th>\n",
              "      <td>민지</td>\n",
              "      <td>어린왕자</td>\n",
              "      <td>1.0</td>\n",
              "    </tr>\n",
              "    <tr>\n",
              "      <th>3</th>\n",
              "      <td>민지</td>\n",
              "      <td>흥부전</td>\n",
              "      <td>3.0</td>\n",
              "    </tr>\n",
              "    <tr>\n",
              "      <th>4</th>\n",
              "      <td>현우</td>\n",
              "      <td>노인과바다</td>\n",
              "      <td>3.0</td>\n",
              "    </tr>\n",
              "  </tbody>\n",
              "</table>\n",
              "</div>"
            ],
            "text/plain": [
              "   사람      책   평점\n",
              "0  민지   백설공주  5.0\n",
              "1  민지   신데렐라  4.0\n",
              "2  민지   어린왕자  1.0\n",
              "3  민지    흥부전  3.0\n",
              "4  현우  노인과바다  3.0"
            ]
          },
          "metadata": {
            "tags": []
          },
          "execution_count": 9
        }
      ]
    },
    {
      "cell_type": "code",
      "metadata": {
        "id": "7_EV4IgdsmS1",
        "outputId": "740cd859-4b17-4c77-89c6-753ab6d0ffa1"
      },
      "source": [
        "ratings = pd.pivot_table(data, index=\"사람\", columns=\"책\", values=\"평점\")\n",
        "ratings"
      ],
      "execution_count": null,
      "outputs": [
        {
          "output_type": "execute_result",
          "data": {
            "text/html": [
              "<div>\n",
              "<style scoped>\n",
              "    .dataframe tbody tr th:only-of-type {\n",
              "        vertical-align: middle;\n",
              "    }\n",
              "\n",
              "    .dataframe tbody tr th {\n",
              "        vertical-align: top;\n",
              "    }\n",
              "\n",
              "    .dataframe thead th {\n",
              "        text-align: right;\n",
              "    }\n",
              "</style>\n",
              "<table border=\"1\" class=\"dataframe\">\n",
              "  <thead>\n",
              "    <tr style=\"text-align: right;\">\n",
              "      <th>책</th>\n",
              "      <th>노인과바다</th>\n",
              "      <th>백설공주</th>\n",
              "      <th>신데렐라</th>\n",
              "      <th>어린왕자</th>\n",
              "      <th>콩쥐팥쥐</th>\n",
              "      <th>흥부전</th>\n",
              "    </tr>\n",
              "    <tr>\n",
              "      <th>사람</th>\n",
              "      <th></th>\n",
              "      <th></th>\n",
              "      <th></th>\n",
              "      <th></th>\n",
              "      <th></th>\n",
              "      <th></th>\n",
              "    </tr>\n",
              "  </thead>\n",
              "  <tbody>\n",
              "    <tr>\n",
              "      <th>민수</th>\n",
              "      <td>3.0</td>\n",
              "      <td>4.0</td>\n",
              "      <td>4.0</td>\n",
              "      <td>3.0</td>\n",
              "      <td>4.0</td>\n",
              "      <td>NaN</td>\n",
              "    </tr>\n",
              "    <tr>\n",
              "      <th>민지</th>\n",
              "      <td>NaN</td>\n",
              "      <td>5.0</td>\n",
              "      <td>4.0</td>\n",
              "      <td>1.0</td>\n",
              "      <td>NaN</td>\n",
              "      <td>3.0</td>\n",
              "    </tr>\n",
              "    <tr>\n",
              "      <th>지민</th>\n",
              "      <td>4.0</td>\n",
              "      <td>1.0</td>\n",
              "      <td>NaN</td>\n",
              "      <td>5.0</td>\n",
              "      <td>2.0</td>\n",
              "      <td>3.0</td>\n",
              "    </tr>\n",
              "    <tr>\n",
              "      <th>지연</th>\n",
              "      <td>5.0</td>\n",
              "      <td>NaN</td>\n",
              "      <td>3.0</td>\n",
              "      <td>4.0</td>\n",
              "      <td>3.0</td>\n",
              "      <td>3.0</td>\n",
              "    </tr>\n",
              "    <tr>\n",
              "      <th>현우</th>\n",
              "      <td>3.0</td>\n",
              "      <td>NaN</td>\n",
              "      <td>2.0</td>\n",
              "      <td>NaN</td>\n",
              "      <td>1.0</td>\n",
              "      <td>2.0</td>\n",
              "    </tr>\n",
              "  </tbody>\n",
              "</table>\n",
              "</div>"
            ],
            "text/plain": [
              "책   노인과바다  백설공주  신데렐라  어린왕자  콩쥐팥쥐  흥부전\n",
              "사람                                    \n",
              "민수    3.0   4.0   4.0   3.0   4.0  NaN\n",
              "민지    NaN   5.0   4.0   1.0   NaN  3.0\n",
              "지민    4.0   1.0   NaN   5.0   2.0  3.0\n",
              "지연    5.0   NaN   3.0   4.0   3.0  3.0\n",
              "현우    3.0   NaN   2.0   NaN   1.0  2.0"
            ]
          },
          "metadata": {
            "tags": []
          },
          "execution_count": 10
        }
      ]
    },
    {
      "cell_type": "markdown",
      "metadata": {
        "id": "4tGiTAh3smS1"
      },
      "source": [
        "### 코사인 유사도 계산하기"
      ]
    },
    {
      "cell_type": "code",
      "metadata": {
        "id": "3fh4kzXgsmS1"
      },
      "source": [
        "''' u v 사용자\n",
        "u = [3,4,3]\n",
        "v = [3,2,4]\n",
        "이 두명의 사용자의 유사도를 계산하자\n",
        "'''\n",
        "#벡터 연산 쉽게하기 위해 np 쓰기\n",
        "u = np.array([3,4,3])\n",
        "v = np.array([3,2,4])"
      ],
      "execution_count": null,
      "outputs": []
    },
    {
      "cell_type": "code",
      "metadata": {
        "id": "8AsBJLwbsmS2",
        "outputId": "b5a5fba3-428f-4667-a822-6f2918a6ad52"
      },
      "source": [
        "#코사인 유사도 분자 : 각 항목 값 곱해서 더하기\n",
        "uvdot = (u * v).sum()\n",
        "uvdot\n",
        "\n",
        "#분모 : 각자 제곱해서 더하기 후 루트\n",
        "norm1 = (u**2).sum()\n",
        "norm2 = (v**2).sum()\n",
        "\n",
        "score = uvdot / np.sqrt(norm1 * norm2)\n",
        "score"
      ],
      "execution_count": null,
      "outputs": [
        {
          "output_type": "execute_result",
          "data": {
            "text/plain": [
              "0.9235481451827989"
            ]
          },
          "metadata": {
            "tags": []
          },
          "execution_count": 31
        }
      ]
    },
    {
      "cell_type": "code",
      "metadata": {
        "id": "wLjuCcmWsmS2"
      },
      "source": [
        "# 평점을 남겼다는 게 전제인데 하나라도 평점이 없으면 skip 해줘야함 -> 공통된 상품만\n",
        "u = np.array([np.nan,4,3])\n",
        "v = np.array([3,2,np.nan])\n"
      ],
      "execution_count": null,
      "outputs": []
    },
    {
      "cell_type": "code",
      "metadata": {
        "id": "WQtUOeX0smS2",
        "outputId": "5ac79b3d-3b12-479c-fe2e-af9a179c3ef1"
      },
      "source": [
        "# nan이 아닌 애만 가져오기\n",
        "~np.isnan(u)\n",
        "np.isfinite(u) , np.isfinite(v)"
      ],
      "execution_count": null,
      "outputs": [
        {
          "output_type": "execute_result",
          "data": {
            "text/plain": [
              "(array([False,  True,  True]), array([ True,  True, False]))"
            ]
          },
          "metadata": {
            "tags": []
          },
          "execution_count": 24
        }
      ]
    },
    {
      "cell_type": "code",
      "metadata": {
        "id": "66qBeu0-smS3",
        "outputId": "7f9a5269-028e-447a-aa7b-928c33b5a182"
      },
      "source": [
        "mask = np.isfinite(u) & np.isfinite(v)\n",
        "u = u[mask]\n",
        "v = v[mask]\n",
        "u,v"
      ],
      "execution_count": null,
      "outputs": [
        {
          "output_type": "execute_result",
          "data": {
            "text/plain": [
              "(array([4.]), array([2.]))"
            ]
          },
          "metadata": {
            "tags": []
          },
          "execution_count": 29
        }
      ]
    },
    {
      "cell_type": "code",
      "metadata": {
        "id": "IrwMDrnesmS3",
        "outputId": "ffa2ca6f-111f-4b28-80fa-60ecb61da5a6"
      },
      "source": [
        "# 함수로 모듈화 하기\n",
        "def get_cosine_similarity(u,v) : \n",
        "    mask = np.isfinite(u) & np.isfinite(v)\n",
        "    u = u[mask]\n",
        "    v = v[mask]\n",
        "    \n",
        "    uvdot = (u*v).sum()\n",
        "    norm1 = (u**2).sum()\n",
        "    norm2 = (v**2).sum()\n",
        "    score = uvdot / np.sqrt(norm1*norm2)\n",
        "    \n",
        "    return score\n",
        "\n",
        "u = np.array([np.nan,4,3])\n",
        "v = np.array([3,2,4])\n",
        "\n",
        "get_cosine_similarity(u,v)"
      ],
      "execution_count": null,
      "outputs": [
        {
          "output_type": "execute_result",
          "data": {
            "text/plain": [
              "0.8944271909999159"
            ]
          },
          "metadata": {
            "tags": []
          },
          "execution_count": 32
        }
      ]
    },
    {
      "cell_type": "code",
      "metadata": {
        "id": "r0RFXavmsmS3",
        "outputId": "35a87189-8d52-4771-add2-f412fb9caaf8"
      },
      "source": [
        "u = ratings.loc[\"민수\"]\n",
        "v = ratings.loc[\"지민\"]\n",
        "\n",
        "get_cosine_similarity(u,v)"
      ],
      "execution_count": null,
      "outputs": [
        {
          "output_type": "execute_result",
          "data": {
            "text/plain": [
              "0.8132062148225916"
            ]
          },
          "metadata": {
            "tags": []
          },
          "execution_count": 36
        }
      ]
    },
    {
      "cell_type": "code",
      "metadata": {
        "id": "AP8BfDsSsmS4",
        "outputId": "015aca48-190a-47de-d51b-0f35ab5ca91b"
      },
      "source": [
        "#전체 사용자에 대한 유사도 구하기\n",
        "from itertools import product\n",
        "\n",
        "def get_cosine_similarity_table(ratings) : \n",
        "    index_combinations = list(product(ratings.index, repeat=2))\n",
        "    similarity_list = []\n",
        "    for uname,vname in index_combinations : \n",
        "        u,v  = ratings.loc[uname] ,ratings.loc[vname]        \n",
        "        score = get_cosine_similarity(u,v)\n",
        "#         print(uname,vname,score)\n",
        "\n",
        "        similarity = {\n",
        "            'u' : uname,\n",
        "            'v' : vname,\n",
        "            'score' : score,\n",
        "        }\n",
        "        \n",
        "        similarity_list.append(similarity)\n",
        "    \n",
        "    similarity_list = pd.DataFrame(similarity_list)\n",
        "    similarity_table = pd.pivot_table(similarity_list, index=\"u\", columns=\"v\", values=\"score\")\n",
        "    return similarity_table\n",
        "\n",
        "similarty_table = get_cosine_similarity_table(ratings)\n",
        "similarty_table"
      ],
      "execution_count": null,
      "outputs": [
        {
          "output_type": "execute_result",
          "data": {
            "text/html": [
              "<div>\n",
              "<style scoped>\n",
              "    .dataframe tbody tr th:only-of-type {\n",
              "        vertical-align: middle;\n",
              "    }\n",
              "\n",
              "    .dataframe tbody tr th {\n",
              "        vertical-align: top;\n",
              "    }\n",
              "\n",
              "    .dataframe thead th {\n",
              "        text-align: right;\n",
              "    }\n",
              "</style>\n",
              "<table border=\"1\" class=\"dataframe\">\n",
              "  <thead>\n",
              "    <tr style=\"text-align: right;\">\n",
              "      <th>v</th>\n",
              "      <th>민수</th>\n",
              "      <th>민지</th>\n",
              "      <th>지민</th>\n",
              "      <th>지연</th>\n",
              "      <th>현우</th>\n",
              "    </tr>\n",
              "    <tr>\n",
              "      <th>u</th>\n",
              "      <th></th>\n",
              "      <th></th>\n",
              "      <th></th>\n",
              "      <th></th>\n",
              "      <th></th>\n",
              "    </tr>\n",
              "  </thead>\n",
              "  <tbody>\n",
              "    <tr>\n",
              "      <th>민수</th>\n",
              "      <td>1.000000</td>\n",
              "      <td>0.939827</td>\n",
              "      <td>0.813206</td>\n",
              "      <td>0.938986</td>\n",
              "      <td>0.876523</td>\n",
              "    </tr>\n",
              "    <tr>\n",
              "      <th>민지</th>\n",
              "      <td>0.939827</td>\n",
              "      <td>1.000000</td>\n",
              "      <td>0.542857</td>\n",
              "      <td>0.840841</td>\n",
              "      <td>0.989949</td>\n",
              "    </tr>\n",
              "    <tr>\n",
              "      <th>지민</th>\n",
              "      <td>0.813206</td>\n",
              "      <td>0.542857</td>\n",
              "      <td>1.000000</td>\n",
              "      <td>0.974406</td>\n",
              "      <td>0.992583</td>\n",
              "    </tr>\n",
              "    <tr>\n",
              "      <th>지연</th>\n",
              "      <td>0.938986</td>\n",
              "      <td>0.840841</td>\n",
              "      <td>0.974406</td>\n",
              "      <td>1.000000</td>\n",
              "      <td>0.980581</td>\n",
              "    </tr>\n",
              "    <tr>\n",
              "      <th>현우</th>\n",
              "      <td>0.876523</td>\n",
              "      <td>0.989949</td>\n",
              "      <td>0.992583</td>\n",
              "      <td>0.980581</td>\n",
              "      <td>1.000000</td>\n",
              "    </tr>\n",
              "  </tbody>\n",
              "</table>\n",
              "</div>"
            ],
            "text/plain": [
              "v         민수        민지        지민        지연        현우\n",
              "u                                                   \n",
              "민수  1.000000  0.939827  0.813206  0.938986  0.876523\n",
              "민지  0.939827  1.000000  0.542857  0.840841  0.989949\n",
              "지민  0.813206  0.542857  1.000000  0.974406  0.992583\n",
              "지연  0.938986  0.840841  0.974406  1.000000  0.980581\n",
              "현우  0.876523  0.989949  0.992583  0.980581  1.000000"
            ]
          },
          "metadata": {
            "tags": []
          },
          "execution_count": 59
        }
      ]
    },
    {
      "cell_type": "code",
      "metadata": {
        "id": "xB9zu4cXsmS4"
      },
      "source": [
        ""
      ],
      "execution_count": null,
      "outputs": []
    },
    {
      "cell_type": "code",
      "metadata": {
        "id": "ejh5mvdzsmS4"
      },
      "source": [
        ""
      ],
      "execution_count": null,
      "outputs": []
    }
  ]
}