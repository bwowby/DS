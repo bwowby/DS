{
  "nbformat": 4,
  "nbformat_minor": 0,
  "metadata": {
    "kernelspec": {
      "display_name": "Python 3",
      "language": "python",
      "name": "python3"
    },
    "language_info": {
      "codemirror_mode": {
        "name": "ipython",
        "version": 3
      },
      "file_extension": ".py",
      "mimetype": "text/x-python",
      "name": "python",
      "nbconvert_exporter": "python",
      "pygments_lexer": "ipython3",
      "version": "3.7.3"
    },
    "colab": {
      "name": "visualization_practice.ipynb",
      "provenance": [],
      "include_colab_link": true
    }
  },
  "cells": [
    {
      "cell_type": "markdown",
      "metadata": {
        "id": "view-in-github",
        "colab_type": "text"
      },
      "source": [
        "<a href=\"https://colab.research.google.com/github/bwowby/DS/blob/master/visualization_practice.ipynb\" target=\"_parent\"><img src=\"https://colab.research.google.com/assets/colab-badge.svg\" alt=\"Open In Colab\"/></a>"
      ]
    },
    {
      "cell_type": "code",
      "metadata": {
        "id": "hcoVMnHxslOG"
      },
      "source": [
        "import pandas as pd"
      ],
      "execution_count": null,
      "outputs": []
    },
    {
      "cell_type": "markdown",
      "metadata": {
        "id": "VLccgnymslOG"
      },
      "source": [
        "## Load Data"
      ]
    },
    {
      "cell_type": "code",
      "metadata": {
        "id": "_x1EVQeKslOG",
        "outputId": "95eca1ad-9ec8-4b94-ad28-6e9025c49102"
      },
      "source": [
        "url = \"https://bit.ly/dsa-04-health\"\n",
        "data = pd.read_csv(url)\n",
        "\n",
        "#서울시 공공 건강검진 데이터 -> 좀 보기 불편함 (예:성별 1/2)\n",
        "print(data.shape)\n",
        "data.head()"
      ],
      "execution_count": null,
      "outputs": [
        {
          "output_type": "stream",
          "text": [
            "(1000, 34)\n"
          ],
          "name": "stdout"
        },
        {
          "output_type": "execute_result",
          "data": {
            "text/html": [
              "<div>\n",
              "<style scoped>\n",
              "    .dataframe tbody tr th:only-of-type {\n",
              "        vertical-align: middle;\n",
              "    }\n",
              "\n",
              "    .dataframe tbody tr th {\n",
              "        vertical-align: top;\n",
              "    }\n",
              "\n",
              "    .dataframe thead th {\n",
              "        text-align: right;\n",
              "    }\n",
              "</style>\n",
              "<table border=\"1\" class=\"dataframe\">\n",
              "  <thead>\n",
              "    <tr style=\"text-align: right;\">\n",
              "      <th></th>\n",
              "      <th>기준년도</th>\n",
              "      <th>가입자일련번호</th>\n",
              "      <th>성별코드</th>\n",
              "      <th>연령대코드(5세단위)</th>\n",
              "      <th>시도코드</th>\n",
              "      <th>신장(5Cm단위)</th>\n",
              "      <th>체중(5Kg단위)</th>\n",
              "      <th>허리둘레</th>\n",
              "      <th>시력(좌)</th>\n",
              "      <th>시력(우)</th>\n",
              "      <th>...</th>\n",
              "      <th>감마지티피</th>\n",
              "      <th>흡연상태</th>\n",
              "      <th>음주여부</th>\n",
              "      <th>구강검진 수검여부</th>\n",
              "      <th>치아우식증유무</th>\n",
              "      <th>결손치유무</th>\n",
              "      <th>치아마모증유무</th>\n",
              "      <th>제3대구치(사랑니)이상</th>\n",
              "      <th>치석</th>\n",
              "      <th>데이터공개일자</th>\n",
              "    </tr>\n",
              "  </thead>\n",
              "  <tbody>\n",
              "    <tr>\n",
              "      <th>0</th>\n",
              "      <td>2016</td>\n",
              "      <td>465969</td>\n",
              "      <td>1</td>\n",
              "      <td>8</td>\n",
              "      <td>41</td>\n",
              "      <td>170.0</td>\n",
              "      <td>70.0</td>\n",
              "      <td>74.0</td>\n",
              "      <td>0.7</td>\n",
              "      <td>0.7</td>\n",
              "      <td>...</td>\n",
              "      <td>96.0</td>\n",
              "      <td>3.0</td>\n",
              "      <td>NaN</td>\n",
              "      <td>1</td>\n",
              "      <td>NaN</td>\n",
              "      <td>NaN</td>\n",
              "      <td>NaN</td>\n",
              "      <td>NaN</td>\n",
              "      <td>2.0</td>\n",
              "      <td>20171219</td>\n",
              "    </tr>\n",
              "    <tr>\n",
              "      <th>1</th>\n",
              "      <td>2016</td>\n",
              "      <td>565871</td>\n",
              "      <td>1</td>\n",
              "      <td>10</td>\n",
              "      <td>41</td>\n",
              "      <td>160.0</td>\n",
              "      <td>60.0</td>\n",
              "      <td>81.0</td>\n",
              "      <td>1.2</td>\n",
              "      <td>1.0</td>\n",
              "      <td>...</td>\n",
              "      <td>14.0</td>\n",
              "      <td>1.0</td>\n",
              "      <td>NaN</td>\n",
              "      <td>0</td>\n",
              "      <td>NaN</td>\n",
              "      <td>NaN</td>\n",
              "      <td>NaN</td>\n",
              "      <td>NaN</td>\n",
              "      <td>NaN</td>\n",
              "      <td>20171219</td>\n",
              "    </tr>\n",
              "    <tr>\n",
              "      <th>2</th>\n",
              "      <td>2016</td>\n",
              "      <td>115718</td>\n",
              "      <td>2</td>\n",
              "      <td>11</td>\n",
              "      <td>11</td>\n",
              "      <td>160.0</td>\n",
              "      <td>55.0</td>\n",
              "      <td>71.0</td>\n",
              "      <td>1.0</td>\n",
              "      <td>1.0</td>\n",
              "      <td>...</td>\n",
              "      <td>20.0</td>\n",
              "      <td>1.0</td>\n",
              "      <td>NaN</td>\n",
              "      <td>1</td>\n",
              "      <td>NaN</td>\n",
              "      <td>NaN</td>\n",
              "      <td>NaN</td>\n",
              "      <td>NaN</td>\n",
              "      <td>0.0</td>\n",
              "      <td>20171219</td>\n",
              "    </tr>\n",
              "    <tr>\n",
              "      <th>3</th>\n",
              "      <td>2016</td>\n",
              "      <td>767524</td>\n",
              "      <td>1</td>\n",
              "      <td>6</td>\n",
              "      <td>28</td>\n",
              "      <td>180.0</td>\n",
              "      <td>70.0</td>\n",
              "      <td>79.0</td>\n",
              "      <td>1.0</td>\n",
              "      <td>0.9</td>\n",
              "      <td>...</td>\n",
              "      <td>16.0</td>\n",
              "      <td>1.0</td>\n",
              "      <td>NaN</td>\n",
              "      <td>0</td>\n",
              "      <td>NaN</td>\n",
              "      <td>NaN</td>\n",
              "      <td>NaN</td>\n",
              "      <td>NaN</td>\n",
              "      <td>NaN</td>\n",
              "      <td>20171219</td>\n",
              "    </tr>\n",
              "    <tr>\n",
              "      <th>4</th>\n",
              "      <td>2016</td>\n",
              "      <td>482178</td>\n",
              "      <td>2</td>\n",
              "      <td>9</td>\n",
              "      <td>11</td>\n",
              "      <td>160.0</td>\n",
              "      <td>60.0</td>\n",
              "      <td>85.0</td>\n",
              "      <td>0.8</td>\n",
              "      <td>1.2</td>\n",
              "      <td>...</td>\n",
              "      <td>13.0</td>\n",
              "      <td>1.0</td>\n",
              "      <td>NaN</td>\n",
              "      <td>1</td>\n",
              "      <td>NaN</td>\n",
              "      <td>NaN</td>\n",
              "      <td>NaN</td>\n",
              "      <td>NaN</td>\n",
              "      <td>0.0</td>\n",
              "      <td>20171219</td>\n",
              "    </tr>\n",
              "  </tbody>\n",
              "</table>\n",
              "<p>5 rows × 34 columns</p>\n",
              "</div>"
            ],
            "text/plain": [
              "   기준년도  가입자일련번호  성별코드  연령대코드(5세단위)  시도코드  신장(5Cm단위)  체중(5Kg단위)  허리둘레  시력(좌)  \\\n",
              "0  2016   465969     1            8    41      170.0       70.0  74.0    0.7   \n",
              "1  2016   565871     1           10    41      160.0       60.0  81.0    1.2   \n",
              "2  2016   115718     2           11    11      160.0       55.0  71.0    1.0   \n",
              "3  2016   767524     1            6    28      180.0       70.0  79.0    1.0   \n",
              "4  2016   482178     2            9    11      160.0       60.0  85.0    0.8   \n",
              "\n",
              "   시력(우)  ...  감마지티피  흡연상태  음주여부  구강검진 수검여부  치아우식증유무  결손치유무  치아마모증유무  \\\n",
              "0    0.7  ...   96.0   3.0   NaN          1      NaN    NaN      NaN   \n",
              "1    1.0  ...   14.0   1.0   NaN          0      NaN    NaN      NaN   \n",
              "2    1.0  ...   20.0   1.0   NaN          1      NaN    NaN      NaN   \n",
              "3    0.9  ...   16.0   1.0   NaN          0      NaN    NaN      NaN   \n",
              "4    1.2  ...   13.0   1.0   NaN          1      NaN    NaN      NaN   \n",
              "\n",
              "   제3대구치(사랑니)이상   치석   데이터공개일자  \n",
              "0           NaN  2.0  20171219  \n",
              "1           NaN  NaN  20171219  \n",
              "2           NaN  0.0  20171219  \n",
              "3           NaN  NaN  20171219  \n",
              "4           NaN  0.0  20171219  \n",
              "\n",
              "[5 rows x 34 columns]"
            ]
          },
          "metadata": {
            "tags": []
          },
          "execution_count": 2
        }
      ]
    },
    {
      "cell_type": "markdown",
      "metadata": {
        "id": "-Yq1nyqYslOI"
      },
      "source": [
        " ## Explore"
      ]
    },
    {
      "cell_type": "code",
      "metadata": {
        "id": "hC6Bz68yslOI"
      },
      "source": [
        "#한글 인코딩 등 설정 위해서 필요\n",
        "import matplotlib\n",
        "import seaborn as sns\n",
        "from IPython.display import set_matplotlib_formats\n",
        "\n",
        "#디폴트로 세틍해 줄 아이들\n",
        "\n",
        "#window\n",
        "#matplotlib.rc('font', family='NanumGothic')\n",
        "matplotlib.rc('font', family='Malgun Gothic')\n",
        "\n",
        "#Apple\n",
        "# matplotlib.rc('font', family='AppleGothic')\n",
        "\n",
        "#Retina : 더 선명하게\n",
        "set_matplotlib_formats('retina')\n",
        "\n",
        "#Minus : 마이너스 기호 깨질 때\n",
        "matplotlib.rc('axes', unicode_minus=False)"
      ],
      "execution_count": null,
      "outputs": []
    },
    {
      "cell_type": "code",
      "metadata": {
        "id": "Y4C_yQQ0slOI",
        "outputId": "4ce9c1e9-3bd4-4dd5-8e65-b6b45f3e0da0"
      },
      "source": [
        "# 1 남성, 2 여성 한글폰트 꺠짐\n",
        "sns.countplot(data=data, x=\"성별코드\")"
      ],
      "execution_count": null,
      "outputs": [
        {
          "output_type": "execute_result",
          "data": {
            "text/plain": [
              "<matplotlib.axes._subplots.AxesSubplot at 0x269a9da2f98>"
            ]
          },
          "metadata": {
            "tags": []
          },
          "execution_count": 4
        },
        {
          "output_type": "display_data",
          "data": {
            "image/png": "[encoded data removed]",
            "text/plain": [
              "<Figure size 432x288 with 1 Axes>"
            ]
          },
          "metadata": {
            "tags": [],
            "needs_background": "light"
          }
        }
      ]
    },
    {
      "cell_type": "markdown",
      "metadata": {
        "id": "BrlhrNgNslOI"
      },
      "source": [
        "### 사이즈 조절하기"
      ]
    },
    {
      "cell_type": "code",
      "metadata": {
        "id": "1JNm-KAUslOI",
        "outputId": "d4f7aa84-74de-4b68-c7f3-a2963e5537a0"
      },
      "source": [
        "import matplotlib.pyplot as plt\n",
        "\n",
        "sns.countplot(data=data, x=\"시도코드\")"
      ],
      "execution_count": null,
      "outputs": [
        {
          "output_type": "execute_result",
          "data": {
            "text/plain": [
              "<matplotlib.axes._subplots.AxesSubplot at 0x269aa10d828>"
            ]
          },
          "metadata": {
            "tags": []
          },
          "execution_count": 5
        },
        {
          "output_type": "display_data",
          "data": {
            "image/png": "[encoded data removed]",
            "text/plain": [
              "<Figure size 432x288 with 1 Axes>"
            ]
          },
          "metadata": {
            "tags": [],
            "needs_background": "light"
          }
        }
      ]
    },
    {
      "cell_type": "code",
      "metadata": {
        "id": "2GrflLUHslOI",
        "outputId": "fc1f6bc1-f6e1-49b6-c42a-b3168d000f71"
      },
      "source": [
        "plt.figure(figsize=(18,3))\n",
        "sns.countplot(data=data, x=\"시도코드\")"
      ],
      "execution_count": null,
      "outputs": [
        {
          "output_type": "execute_result",
          "data": {
            "text/plain": [
              "<matplotlib.axes._subplots.AxesSubplot at 0x269aa1b2dd8>"
            ]
          },
          "metadata": {
            "tags": []
          },
          "execution_count": 6
        },
        {
          "output_type": "display_data",
          "data": {
            "image/png": "[encoded data removed]",
            "text/plain": [
              "<Figure size 1296x216 with 1 Axes>"
            ]
          },
          "metadata": {
            "tags": [],
            "needs_background": "light"
          }
        }
      ]
    },
    {
      "cell_type": "markdown",
      "metadata": {
        "id": "aJGY7JklslOI"
      },
      "source": [
        "### 여러개 시각화 한번에 띄우기 : 직접적으로 연관없지만 간접적으로 묶어서 시각화 할때"
      ]
    },
    {
      "cell_type": "code",
      "metadata": {
        "id": "6nvRlLYcslOI",
        "outputId": "21b75fa8-1c4a-4ccd-d35a-2bafc8cfc4ed"
      },
      "source": [
        "figure, (ax1, ax2) = plt.subplots(nrows=1, ncols=2)\n",
        "\n",
        "figure.set_size_inches(18,3)\n",
        "\n",
        "#각각을 ax=ax1,ax2 로 줘서 위치 설정\n",
        "sns.countplot(data=data, x=\"성별코드\", ax=ax1)\n",
        "sns.countplot(data=data, x=\"시도코드\", ax=ax2)"
      ],
      "execution_count": null,
      "outputs": [
        {
          "output_type": "execute_result",
          "data": {
            "text/plain": [
              "<matplotlib.axes._subplots.AxesSubplot at 0x269aa280208>"
            ]
          },
          "metadata": {
            "tags": []
          },
          "execution_count": 7
        },
        {
          "output_type": "display_data",
          "data": {
            "image/png": "[encoded data removed]",
            "text/plain": [
              "<Figure size 1296x216 with 2 Axes>"
            ]
          },
          "metadata": {
            "tags": [],
            "needs_background": "light"
          }
        }
      ]
    },
    {
      "cell_type": "code",
      "metadata": {
        "id": "LqQCQyYwslOI",
        "outputId": "5dcd5324-87b3-4985-e82a-f79aca6aa6c1"
      },
      "source": [
        "# figure, ax1 = plt.subplots(nrows=1, ncols=1)\n",
        "# figure, (ax1, ax2) = plt.subplots(nrows=1, ncols=2) \n",
        "figure, ((ax1, ax2, ax3),(ax4, ax5, ax6)) = plt.subplots(nrows=2, ncols=3)"
      ],
      "execution_count": null,
      "outputs": [
        {
          "output_type": "display_data",
          "data": {
            "image/png": "[encoded data removed]",
            "text/plain": [
              "<Figure size 432x288 with 6 Axes>"
            ]
          },
          "metadata": {
            "tags": [],
            "needs_background": "light"
          }
        }
      ]
    },
    {
      "cell_type": "code",
      "metadata": {
        "id": "1jKTD_bpslOI",
        "outputId": "2cfe719c-b5c9-41c4-e2ee-e55b4b5896d6"
      },
      "source": [
        "#엄청 클때는 그냥 axes로 받기\n",
        "figure, axes = plt.subplots(nrows=3, ncols=10)\n",
        "#이런식으로 접근 가능\n",
        "axes[0][1] "
      ],
      "execution_count": null,
      "outputs": [
        {
          "output_type": "execute_result",
          "data": {
            "text/plain": [
              "<matplotlib.axes._subplots.AxesSubplot at 0x269aa56af60>"
            ]
          },
          "metadata": {
            "tags": []
          },
          "execution_count": 9
        },
        {
          "output_type": "display_data",
          "data": {
            "image/png": "[encoded data removed]",
            "text/plain": [
              "<Figure size 432x288 with 30 Axes>"
            ]
          },
          "metadata": {
            "tags": [],
            "needs_background": "light"
          }
        }
      ]
    },
    {
      "cell_type": "markdown",
      "metadata": {
        "id": "Gxpfz64tslOJ"
      },
      "source": [
        "### 컬러 선택하기"
      ]
    },
    {
      "cell_type": "code",
      "metadata": {
        "id": "OC1UwBWlslOJ",
        "outputId": "62574efd-b412-4f04-a82d-6442a0116733"
      },
      "source": [
        "plt.figure(figsize = (18,3))\n",
        "sns.countplot(data=data, x=\"시도코드\", color = 'r')"
      ],
      "execution_count": null,
      "outputs": [
        {
          "output_type": "execute_result",
          "data": {
            "text/plain": [
              "<matplotlib.axes._subplots.AxesSubplot at 0x269aad17278>"
            ]
          },
          "metadata": {
            "tags": []
          },
          "execution_count": 14
        },
        {
          "output_type": "display_data",
          "data": {
            "image/png": "[encoded data removed]",
            "text/plain": [
              "<Figure size 1296x216 with 1 Axes>"
            ]
          },
          "metadata": {
            "tags": [],
            "needs_background": "light"
          }
        }
      ]
    },
    {
      "cell_type": "code",
      "metadata": {
        "id": "EBEmcx1HslOJ",
        "outputId": "1daa066e-3c2d-495f-a61c-6d85cfa2d3b5"
      },
      "source": [
        "plt.figure(figsize = (18,3))\n",
        "sns.countplot(data=data, x=\"시도코드\", color = '#80e666')"
      ],
      "execution_count": null,
      "outputs": [
        {
          "output_type": "execute_result",
          "data": {
            "text/plain": [
              "<matplotlib.axes._subplots.AxesSubplot at 0x269ab33c8d0>"
            ]
          },
          "metadata": {
            "tags": []
          },
          "execution_count": 15
        },
        {
          "output_type": "display_data",
          "data": {
            "image/png": "[encoded data removed]",
            "text/plain": [
              "<Figure size 1296x216 with 1 Axes>"
            ]
          },
          "metadata": {
            "tags": [],
            "needs_background": "light"
          }
        }
      ]
    },
    {
      "cell_type": "markdown",
      "metadata": {
        "id": "9_jAXof8slOJ"
      },
      "source": [
        "### palette"
      ]
    },
    {
      "cell_type": "code",
      "metadata": {
        "id": "_F_yiz17slOJ",
        "outputId": "ecd539dd-37ba-4c95-b7e5-7e622ef22809"
      },
      "source": [
        "palette = sns.color_palette('deep', 10)\n",
        "sns.palplot(palette)"
      ],
      "execution_count": null,
      "outputs": [
        {
          "output_type": "display_data",
          "data": {
            "image/png": "[encoded data removed]",
            "text/plain": [
              "<Figure size 720x72 with 1 Axes>"
            ]
          },
          "metadata": {
            "tags": [],
            "needs_background": "light"
          }
        }
      ]
    },
    {
      "cell_type": "code",
      "metadata": {
        "id": "lb7uri3CslOJ",
        "outputId": "187b0050-42d7-4c1f-9bd1-c733bb1b2444"
      },
      "source": [
        "palette = sns.color_palette('colorblind', 10)\n",
        "sns.palplot(palette)"
      ],
      "execution_count": null,
      "outputs": [
        {
          "output_type": "display_data",
          "data": {
            "image/png": "[encoded data removed]",
            "text/plain": [
              "<Figure size 720x72 with 1 Axes>"
            ]
          },
          "metadata": {
            "tags": [],
            "needs_background": "light"
          }
        }
      ]
    },
    {
      "cell_type": "code",
      "metadata": {
        "id": "Is-JGqzKslOJ",
        "outputId": "87906a7c-9ff1-4715-a92e-804658cdc60b"
      },
      "source": [
        "palette = sns.color_palette('coolwarm', 10)\n",
        "sns.palplot(palette)"
      ],
      "execution_count": null,
      "outputs": [
        {
          "output_type": "display_data",
          "data": {
            "image/png": "[encoded data removed]",
            "text/plain": [
              "<Figure size 720x72 with 1 Axes>"
            ]
          },
          "metadata": {
            "tags": [],
            "needs_background": "light"
          }
        }
      ]
    },
    {
      "cell_type": "code",
      "metadata": {
        "id": "IG27yz08slOJ",
        "outputId": "1d4377ad-92d4-4874-84a6-650fb283d0e7"
      },
      "source": [
        "plt.figure(figsize = (18,3))\n",
        "sns.countplot(data=data, x=\"시도코드\", palette = palette)"
      ],
      "execution_count": null,
      "outputs": [
        {
          "output_type": "execute_result",
          "data": {
            "text/plain": [
              "<matplotlib.axes._subplots.AxesSubplot at 0x269ab484be0>"
            ]
          },
          "metadata": {
            "tags": []
          },
          "execution_count": 20
        },
        {
          "output_type": "display_data",
          "data": {
            "image/png": "[encoded data removed]",
            "text/plain": [
              "<Figure size 1296x216 with 1 Axes>"
            ]
          },
          "metadata": {
            "tags": [],
            "needs_background": "light"
          }
        }
      ]
    },
    {
      "cell_type": "markdown",
      "metadata": {
        "id": "OIrqpxpdslOJ"
      },
      "source": [
        "### countplot"
      ]
    },
    {
      "cell_type": "code",
      "metadata": {
        "id": "VEVVMSfNslOJ",
        "outputId": "394f2901-3d6a-4194-e51e-61e50c7b09fd"
      },
      "source": [
        "#hue: 그 기준으로 쪼개서 따로 시각화\n",
        "plt.figure(figsize=(18,3))\n",
        "sns.countplot(data=data, x=\"시도코드\", hue=\"성별코드\", palette = palette)"
      ],
      "execution_count": null,
      "outputs": [
        {
          "output_type": "execute_result",
          "data": {
            "text/plain": [
              "<matplotlib.axes._subplots.AxesSubplot at 0x269ac7d94a8>"
            ]
          },
          "metadata": {
            "tags": []
          },
          "execution_count": 25
        },
        {
          "output_type": "display_data",
          "data": {
            "image/png": "[encoded data removed]",
            "text/plain": [
              "<Figure size 1296x216 with 1 Axes>"
            ]
          },
          "metadata": {
            "tags": [],
            "needs_background": "light"
          }
        }
      ]
    },
    {
      "cell_type": "code",
      "metadata": {
        "id": "b3BIR9RAslOJ",
        "outputId": "f18de4d6-edbd-487f-a77b-eb4b67da8405"
      },
      "source": [
        "plt.figure(figsize=(4,9))\n",
        "sns.countplot(data=data, y=\"시도코드\", hue=\"성별코드\", palette = palette)\n",
        "\n",
        "#4-7"
      ],
      "execution_count": null,
      "outputs": [
        {
          "output_type": "execute_result",
          "data": {
            "text/plain": [
              "<matplotlib.axes._subplots.AxesSubplot at 0x269acab3cf8>"
            ]
          },
          "metadata": {
            "tags": []
          },
          "execution_count": 28
        },
        {
          "output_type": "display_data",
          "data": {
            "image/png": "[encoded data removed]",
            "text/plain": [
              "<Figure size 288x648 with 1 Axes>"
            ]
          },
          "metadata": {
            "tags": [],
            "needs_background": "light"
          }
        }
      ]
    },
    {
      "cell_type": "markdown",
      "metadata": {
        "id": "zzWMlgZbslOJ"
      },
      "source": [
        "### distplot"
      ]
    },
    {
      "cell_type": "code",
      "metadata": {
        "id": "4Hx0Dee9slOJ",
        "outputId": "55095da9-c1a2-4e6b-bd77-ddc33e49c89b"
      },
      "source": [
        "sns.distplot(data[\"허리둘레\"])"
      ],
      "execution_count": null,
      "outputs": [
        {
          "output_type": "execute_result",
          "data": {
            "text/plain": [
              "<matplotlib.axes._subplots.AxesSubplot at 0x269ab21c6a0>"
            ]
          },
          "metadata": {
            "tags": []
          },
          "execution_count": 32
        },
        {
          "output_type": "display_data",
          "data": {
            "image/png": "[encoded data removed]",
            "text/plain": [
              "<Figure size 432x288 with 1 Axes>"
            ]
          },
          "metadata": {
            "tags": [],
            "needs_background": "light"
          }
        }
      ]
    },
    {
      "cell_type": "code",
      "metadata": {
        "id": "B26DjPrsslOK",
        "outputId": "4be32e2c-09f7-4a7f-80cc-0ada4b73d62f"
      },
      "source": [
        "sns.distplot(data[\"허리둘레\"], hist=False)"
      ],
      "execution_count": null,
      "outputs": [
        {
          "output_type": "execute_result",
          "data": {
            "text/plain": [
              "<matplotlib.axes._subplots.AxesSubplot at 0x269ab28a5c0>"
            ]
          },
          "metadata": {
            "tags": []
          },
          "execution_count": 33
        },
        {
          "output_type": "display_data",
          "data": {
            "image/png": "[encoded data removed]",
            "text/plain": [
              "<Figure size 432x288 with 1 Axes>"
            ]
          },
          "metadata": {
            "tags": [],
            "needs_background": "light"
          }
        }
      ]
    },
    {
      "cell_type": "code",
      "metadata": {
        "id": "GT0RH3phslOK",
        "outputId": "d5ea13c2-610e-470d-a49e-ffd13cd3c234"
      },
      "source": [
        "sns.distplot(data[\"허리둘레\"], kde=False)"
      ],
      "execution_count": null,
      "outputs": [
        {
          "output_type": "execute_result",
          "data": {
            "text/plain": [
              "<matplotlib.axes._subplots.AxesSubplot at 0x269acc505c0>"
            ]
          },
          "metadata": {
            "tags": []
          },
          "execution_count": 35
        },
        {
          "output_type": "display_data",
          "data": {
            "image/png": "[encoded data removed]",
            "text/plain": [
              "<Figure size 432x288 with 1 Axes>"
            ]
          },
          "metadata": {
            "tags": [],
            "needs_background": "light"
          }
        }
      ]
    },
    {
      "cell_type": "code",
      "metadata": {
        "id": "gsIG0IcnslOK",
        "outputId": "8e421ba5-76bf-4612-a03f-784c47e1eb9e"
      },
      "source": [
        "one = data[data[\"흡연상태\"]==1]\n",
        "two = data[data[\"흡연상태\"]==2]\n",
        "three = data[data[\"흡연상태\"]==3]\n",
        "\n",
        "sns.distplot(one[\"흡연상태\"], hist=False)\n"
      ],
      "execution_count": null,
      "outputs": [
        {
          "output_type": "execute_result",
          "data": {
            "text/plain": [
              "<matplotlib.axes._subplots.AxesSubplot at 0x269acd019b0>"
            ]
          },
          "metadata": {
            "tags": []
          },
          "execution_count": 42
        },
        {
          "output_type": "display_data",
          "data": {
            "image/png": "[encoded data removed]",
            "text/plain": [
              "<Figure size 432x288 with 1 Axes>"
            ]
          },
          "metadata": {
            "tags": [],
            "needs_background": "light"
          }
        }
      ]
    },
    {
      "cell_type": "code",
      "metadata": {
        "id": "j3UsGY7AslOK"
      },
      "source": [
        ""
      ],
      "execution_count": null,
      "outputs": []
    }
  ]
}