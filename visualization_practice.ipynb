{
  "nbformat": 4,
  "nbformat_minor": 0,
  "metadata": {
    "kernelspec": {
      "display_name": "Python 3",
      "language": "python",
      "name": "python3"
    },
    "language_info": {
      "codemirror_mode": {
        "name": "ipython",
        "version": 3
      },
      "file_extension": ".py",
      "mimetype": "text/x-python",
      "name": "python",
      "nbconvert_exporter": "python",
      "pygments_lexer": "ipython3",
      "version": "3.7.3"
    },
    "colab": {
      "name": "visualization_practice.ipynb",
      "provenance": [],
      "toc_visible": true,
      "include_colab_link": true
    }
  },
  "cells": [
    {
      "cell_type": "markdown",
      "metadata": {
        "id": "view-in-github",
        "colab_type": "text"
      },
      "source": [
        "<a href=\"https://colab.research.google.com/github/bwowby/DS/blob/master/visualization_practice.ipynb\" target=\"_parent\"><img src=\"https://colab.research.google.com/assets/colab-badge.svg\" alt=\"Open In Colab\"/></a>"
      ]
    },
    {
      "cell_type": "code",
      "metadata": {
        "id": "svg-WMV6qTvF"
      },
      "source": [
        "import pandas as pd"
      ],
      "execution_count": null,
      "outputs": []
    },
    {
      "cell_type": "markdown",
      "metadata": {
        "id": "zUyDxxpsqTvG"
      },
      "source": [
        "## Load Data"
      ]
    },
    {
      "cell_type": "code",
      "metadata": {
        "id": "0-Fgh03DqTvG",
        "outputId": "3c5b5767-a34e-4c48-d2bb-dd78b2d95d4c"
      },
      "source": [
        "url = \"https://bit.ly/dsa-04-health\"\n",
        "data = pd.read_csv(url)\n",
        "\n",
        "#서울시 공공 건강검진 데이터 -> 좀 보기 불편함 (예:성별 1/2)\n",
        "print(data.shape)\n",
        "data.head()"
      ],
      "execution_count": null,
      "outputs": [
        {
          "output_type": "stream",
          "text": [
            "(1000, 34)\n"
          ],
          "name": "stdout"
        },
        {
          "output_type": "execute_result",
          "data": {
            "text/html": [
              "<div>\n",
              "<style scoped>\n",
              "    .dataframe tbody tr th:only-of-type {\n",
              "        vertical-align: middle;\n",
              "    }\n",
              "\n",
              "    .dataframe tbody tr th {\n",
              "        vertical-align: top;\n",
              "    }\n",
              "\n",
              "    .dataframe thead th {\n",
              "        text-align: right;\n",
              "    }\n",
              "</style>\n",
              "<table border=\"1\" class=\"dataframe\">\n",
              "  <thead>\n",
              "    <tr style=\"text-align: right;\">\n",
              "      <th></th>\n",
              "      <th>기준년도</th>\n",
              "      <th>가입자일련번호</th>\n",
              "      <th>성별코드</th>\n",
              "      <th>연령대코드(5세단위)</th>\n",
              "      <th>시도코드</th>\n",
              "      <th>신장(5Cm단위)</th>\n",
              "      <th>체중(5Kg단위)</th>\n",
              "      <th>허리둘레</th>\n",
              "      <th>시력(좌)</th>\n",
              "      <th>시력(우)</th>\n",
              "      <th>...</th>\n",
              "      <th>감마지티피</th>\n",
              "      <th>흡연상태</th>\n",
              "      <th>음주여부</th>\n",
              "      <th>구강검진 수검여부</th>\n",
              "      <th>치아우식증유무</th>\n",
              "      <th>결손치유무</th>\n",
              "      <th>치아마모증유무</th>\n",
              "      <th>제3대구치(사랑니)이상</th>\n",
              "      <th>치석</th>\n",
              "      <th>데이터공개일자</th>\n",
              "    </tr>\n",
              "  </thead>\n",
              "  <tbody>\n",
              "    <tr>\n",
              "      <th>0</th>\n",
              "      <td>2016</td>\n",
              "      <td>465969</td>\n",
              "      <td>1</td>\n",
              "      <td>8</td>\n",
              "      <td>41</td>\n",
              "      <td>170.0</td>\n",
              "      <td>70.0</td>\n",
              "      <td>74.0</td>\n",
              "      <td>0.7</td>\n",
              "      <td>0.7</td>\n",
              "      <td>...</td>\n",
              "      <td>96.0</td>\n",
              "      <td>3.0</td>\n",
              "      <td>NaN</td>\n",
              "      <td>1</td>\n",
              "      <td>NaN</td>\n",
              "      <td>NaN</td>\n",
              "      <td>NaN</td>\n",
              "      <td>NaN</td>\n",
              "      <td>2.0</td>\n",
              "      <td>20171219</td>\n",
              "    </tr>\n",
              "    <tr>\n",
              "      <th>1</th>\n",
              "      <td>2016</td>\n",
              "      <td>565871</td>\n",
              "      <td>1</td>\n",
              "      <td>10</td>\n",
              "      <td>41</td>\n",
              "      <td>160.0</td>\n",
              "      <td>60.0</td>\n",
              "      <td>81.0</td>\n",
              "      <td>1.2</td>\n",
              "      <td>1.0</td>\n",
              "      <td>...</td>\n",
              "      <td>14.0</td>\n",
              "      <td>1.0</td>\n",
              "      <td>NaN</td>\n",
              "      <td>0</td>\n",
              "      <td>NaN</td>\n",
              "      <td>NaN</td>\n",
              "      <td>NaN</td>\n",
              "      <td>NaN</td>\n",
              "      <td>NaN</td>\n",
              "      <td>20171219</td>\n",
              "    </tr>\n",
              "    <tr>\n",
              "      <th>2</th>\n",
              "      <td>2016</td>\n",
              "      <td>115718</td>\n",
              "      <td>2</td>\n",
              "      <td>11</td>\n",
              "      <td>11</td>\n",
              "      <td>160.0</td>\n",
              "      <td>55.0</td>\n",
              "      <td>71.0</td>\n",
              "      <td>1.0</td>\n",
              "      <td>1.0</td>\n",
              "      <td>...</td>\n",
              "      <td>20.0</td>\n",
              "      <td>1.0</td>\n",
              "      <td>NaN</td>\n",
              "      <td>1</td>\n",
              "      <td>NaN</td>\n",
              "      <td>NaN</td>\n",
              "      <td>NaN</td>\n",
              "      <td>NaN</td>\n",
              "      <td>0.0</td>\n",
              "      <td>20171219</td>\n",
              "    </tr>\n",
              "    <tr>\n",
              "      <th>3</th>\n",
              "      <td>2016</td>\n",
              "      <td>767524</td>\n",
              "      <td>1</td>\n",
              "      <td>6</td>\n",
              "      <td>28</td>\n",
              "      <td>180.0</td>\n",
              "      <td>70.0</td>\n",
              "      <td>79.0</td>\n",
              "      <td>1.0</td>\n",
              "      <td>0.9</td>\n",
              "      <td>...</td>\n",
              "      <td>16.0</td>\n",
              "      <td>1.0</td>\n",
              "      <td>NaN</td>\n",
              "      <td>0</td>\n",
              "      <td>NaN</td>\n",
              "      <td>NaN</td>\n",
              "      <td>NaN</td>\n",
              "      <td>NaN</td>\n",
              "      <td>NaN</td>\n",
              "      <td>20171219</td>\n",
              "    </tr>\n",
              "    <tr>\n",
              "      <th>4</th>\n",
              "      <td>2016</td>\n",
              "      <td>482178</td>\n",
              "      <td>2</td>\n",
              "      <td>9</td>\n",
              "      <td>11</td>\n",
              "      <td>160.0</td>\n",
              "      <td>60.0</td>\n",
              "      <td>85.0</td>\n",
              "      <td>0.8</td>\n",
              "      <td>1.2</td>\n",
              "      <td>...</td>\n",
              "      <td>13.0</td>\n",
              "      <td>1.0</td>\n",
              "      <td>NaN</td>\n",
              "      <td>1</td>\n",
              "      <td>NaN</td>\n",
              "      <td>NaN</td>\n",
              "      <td>NaN</td>\n",
              "      <td>NaN</td>\n",
              "      <td>0.0</td>\n",
              "      <td>20171219</td>\n",
              "    </tr>\n",
              "  </tbody>\n",
              "</table>\n",
              "<p>5 rows × 34 columns</p>\n",
              "</div>"
            ],
            "text/plain": [
              "   기준년도  가입자일련번호  성별코드  연령대코드(5세단위)  시도코드  신장(5Cm단위)  체중(5Kg단위)  허리둘레  시력(좌)  \\\n",
              "0  2016   465969     1            8    41      170.0       70.0  74.0    0.7   \n",
              "1  2016   565871     1           10    41      160.0       60.0  81.0    1.2   \n",
              "2  2016   115718     2           11    11      160.0       55.0  71.0    1.0   \n",
              "3  2016   767524     1            6    28      180.0       70.0  79.0    1.0   \n",
              "4  2016   482178     2            9    11      160.0       60.0  85.0    0.8   \n",
              "\n",
              "   시력(우)  ...  감마지티피  흡연상태  음주여부  구강검진 수검여부  치아우식증유무  결손치유무  치아마모증유무  \\\n",
              "0    0.7  ...   96.0   3.0   NaN          1      NaN    NaN      NaN   \n",
              "1    1.0  ...   14.0   1.0   NaN          0      NaN    NaN      NaN   \n",
              "2    1.0  ...   20.0   1.0   NaN          1      NaN    NaN      NaN   \n",
              "3    0.9  ...   16.0   1.0   NaN          0      NaN    NaN      NaN   \n",
              "4    1.2  ...   13.0   1.0   NaN          1      NaN    NaN      NaN   \n",
              "\n",
              "   제3대구치(사랑니)이상   치석   데이터공개일자  \n",
              "0           NaN  2.0  20171219  \n",
              "1           NaN  NaN  20171219  \n",
              "2           NaN  0.0  20171219  \n",
              "3           NaN  NaN  20171219  \n",
              "4           NaN  0.0  20171219  \n",
              "\n",
              "[5 rows x 34 columns]"
            ]
          },
          "metadata": {
            "tags": []
          },
          "execution_count": 2
        }
      ]
    },
    {
      "cell_type": "markdown",
      "metadata": {
        "id": "thFDgjm_qTvH"
      },
      "source": [
        " ## Explore"
      ]
    },
    {
      "cell_type": "code",
      "metadata": {
        "id": "bRESKpWPqTvH"
      },
      "source": [
        "#한글 인코딩 등 설정 위해서 필요\n",
        "import matplotlib\n",
        "import seaborn as sns\n",
        "from IPython.display import set_matplotlib_formats\n",
        "\n",
        "#디폴트로 세틍해 줄 아이들\n",
        "\n",
        "#window\n",
        "#matplotlib.rc('font', family='NanumGothic')\n",
        "matplotlib.rc('font', family='Malgun Gothic')\n",
        "\n",
        "#Apple\n",
        "# matplotlib.rc('font', family='AppleGothic')\n",
        "\n",
        "#Retina : 더 선명하게\n",
        "set_matplotlib_formats('retina')\n",
        "\n",
        "#Minus : 마이너스 기호 깨질 때\n",
        "matplotlib.rc('axes', unicode_minus=False)"
      ],
      "execution_count": null,
      "outputs": []
    },
    {
      "cell_type": "code",
      "metadata": {
        "id": "wuuzAT2sqTvH",
        "outputId": "959d4d50-895c-4af0-a9ec-e3883ba2765f"
      },
      "source": [
        "# 1 남성, 2 여성 한글폰트 꺠짐\n",
        "sns.countplot(data=data, x=\"성별코드\")"
      ],
      "execution_count": null,
      "outputs": [
        {
          "output_type": "execute_result",
          "data": {
            "text/plain": [
              "<matplotlib.axes._subplots.AxesSubplot at 0x269a9da2f98>"
            ]
          },
          "metadata": {
            "tags": []
          },
          "execution_count": 4
        },
        {
          "output_type": "display_data",
          "data": {
            "image/png": "[encoded data removed]",
            "text/plain": [
              "<Figure size 432x288 with 1 Axes>"
            ]
          },
          "metadata": {
            "tags": [],
            "needs_background": "light"
          }
        }
      ]
    },
    {
      "cell_type": "markdown",
      "metadata": {
        "id": "13mJNXNnqTvH"
      },
      "source": [
        "### 사이즈 조절하기"
      ]
    },
    {
      "cell_type": "code",
      "metadata": {
        "id": "5Vshd2m5qTvH",
        "outputId": "3326ad96-34b9-4853-c904-da551734f267"
      },
      "source": [
        "import matplotlib.pyplot as plt\n",
        "\n",
        "sns.countplot(data=data, x=\"시도코드\")"
      ],
      "execution_count": null,
      "outputs": [
        {
          "output_type": "execute_result",
          "data": {
            "text/plain": [
              "<matplotlib.axes._subplots.AxesSubplot at 0x269aa10d828>"
            ]
          },
          "metadata": {
            "tags": []
          },
          "execution_count": 5
        },
        {
          "output_type": "display_data",
          "data": {
            "image/png": "[encoded data removed]",
            "text/plain": [
              "<Figure size 432x288 with 1 Axes>"
            ]
          },
          "metadata": {
            "tags": [],
            "needs_background": "light"
          }
        }
      ]
    },
    {
      "cell_type": "code",
      "metadata": {
        "id": "k8sNBjiXqTvH",
        "outputId": "fa61868b-baf6-4fa7-95cb-ebd14489d7a4"
      },
      "source": [
        "plt.figure(figsize=(18,3))\n",
        "sns.countplot(data=data, x=\"시도코드\")"
      ],
      "execution_count": null,
      "outputs": [
        {
          "output_type": "execute_result",
          "data": {
            "text/plain": [
              "<matplotlib.axes._subplots.AxesSubplot at 0x269aa1b2dd8>"
            ]
          },
          "metadata": {
            "tags": []
          },
          "execution_count": 6
        },
        {
          "output_type": "display_data",
          "data": {
            "image/png": "[encoded data removed]",
            "text/plain": [
              "<Figure size 1296x216 with 1 Axes>"
            ]
          },
          "metadata": {
            "tags": [],
            "needs_background": "light"
          }
        }
      ]
    },
    {
      "cell_type": "markdown",
      "metadata": {
        "id": "2c-kQhBAqTvI"
      },
      "source": [
        "### 여러개 시각화 한번에 띄우기 : 직접적으로 연관없지만 간접적으로 묶어서 시각화 할때"
      ]
    },
    {
      "cell_type": "code",
      "metadata": {
        "id": "AZGF_6hJqTvI",
        "outputId": "429b20cc-5b99-4b51-ae8e-e2cd606591b0"
      },
      "source": [
        "figure, (ax1, ax2) = plt.subplots(nrows=1, ncols=2)\n",
        "\n",
        "figure.set_size_inches(18,3)\n",
        "\n",
        "#각각을 ax=ax1,ax2 로 줘서 위치 설정\n",
        "sns.countplot(data=data, x=\"성별코드\", ax=ax1)\n",
        "sns.countplot(data=data, x=\"시도코드\", ax=ax2)"
      ],
      "execution_count": null,
      "outputs": [
        {
          "output_type": "execute_result",
          "data": {
            "text/plain": [
              "<matplotlib.axes._subplots.AxesSubplot at 0x269aa280208>"
            ]
          },
          "metadata": {
            "tags": []
          },
          "execution_count": 7
        },
        {
          "output_type": "display_data",
          "data": {
            "image/png": "[encoded data removed]",
            "text/plain": [
              "<Figure size 1296x216 with 2 Axes>"
            ]
          },
          "metadata": {
            "tags": [],
            "needs_background": "light"
          }
        }
      ]
    },
    {
      "cell_type": "code",
      "metadata": {
        "id": "srTflOVoqTvI",
        "outputId": "8754393f-0479-4542-f8a2-3c86e4415ca1"
      },
      "source": [
        "# figure, ax1 = plt.subplots(nrows=1, ncols=1)\n",
        "# figure, (ax1, ax2) = plt.subplots(nrows=1, ncols=2) \n",
        "figure, ((ax1, ax2, ax3),(ax4, ax5, ax6)) = plt.subplots(nrows=2, ncols=3)"
      ],
      "execution_count": null,
      "outputs": [
        {
          "output_type": "display_data",
          "data": {
            "image/png": "[encoded data removed]",
            "text/plain": [
              "<Figure size 432x288 with 6 Axes>"
            ]
          },
          "metadata": {
            "tags": [],
            "needs_background": "light"
          }
        }
      ]
    },
    {
      "cell_type": "code",
      "metadata": {
        "id": "wpPsUtLLqTvI",
        "outputId": "7d6861eb-aefc-44ac-e378-e64c602c97a9"
      },
      "source": [
        "#엄청 클때는 그냥 axes로 받기\n",
        "figure, axes = plt.subplots(nrows=3, ncols=10)\n",
        "#이런식으로 접근 가능\n",
        "axes[0][1] "
      ],
      "execution_count": null,
      "outputs": [
        {
          "output_type": "execute_result",
          "data": {
            "text/plain": [
              "<matplotlib.axes._subplots.AxesSubplot at 0x269aa56af60>"
            ]
          },
          "metadata": {
            "tags": []
          },
          "execution_count": 9
        },
        {
          "output_type": "display_data",
          "data": {
            "image/png": "[encoded data removed]",
            "text/plain": [
              "<Figure size 432x288 with 30 Axes>"
            ]
          },
          "metadata": {
            "tags": [],
            "needs_background": "light"
          }
        }
      ]
    },
    {
      "cell_type": "markdown",
      "metadata": {
        "id": "gsRHmqDXqTvI"
      },
      "source": [
        "### 컬러 선택하기"
      ]
    },
    {
      "cell_type": "code",
      "metadata": {
        "id": "KKT689K7qTvI",
        "outputId": "aec93d67-5b21-4382-cd04-fcf1fe3fbc9a"
      },
      "source": [
        "plt.figure(figsize = (18,3))\n",
        "sns.countplot(data=data, x=\"시도코드\", color = 'r')"
      ],
      "execution_count": null,
      "outputs": [
        {
          "output_type": "execute_result",
          "data": {
            "text/plain": [
              "<matplotlib.axes._subplots.AxesSubplot at 0x269aad17278>"
            ]
          },
          "metadata": {
            "tags": []
          },
          "execution_count": 14
        },
        {
          "output_type": "display_data",
          "data": {
            "image/png": "[encoded data removed]",
            "text/plain": [
              "<Figure size 1296x216 with 1 Axes>"
            ]
          },
          "metadata": {
            "tags": [],
            "needs_background": "light"
          }
        }
      ]
    },
    {
      "cell_type": "code",
      "metadata": {
        "id": "rImzzzVQqTvI",
        "outputId": "7aa62e88-6d23-43bd-93c5-3aaefe2d3505"
      },
      "source": [
        "plt.figure(figsize = (18,3))\n",
        "sns.countplot(data=data, x=\"시도코드\", color = '#80e666')"
      ],
      "execution_count": null,
      "outputs": [
        {
          "output_type": "execute_result",
          "data": {
            "text/plain": [
              "<matplotlib.axes._subplots.AxesSubplot at 0x269ab33c8d0>"
            ]
          },
          "metadata": {
            "tags": []
          },
          "execution_count": 15
        },
        {
          "output_type": "display_data",
          "data": {
            "image/png": "[encoded data removed]",
            "text/plain": [
              "<Figure size 1296x216 with 1 Axes>"
            ]
          },
          "metadata": {
            "tags": [],
            "needs_background": "light"
          }
        }
      ]
    },
    {
      "cell_type": "markdown",
      "metadata": {
        "id": "u5kAYUtYqTvI"
      },
      "source": [
        "### palette"
      ]
    },
    {
      "cell_type": "code",
      "metadata": {
        "id": "miuMM77jqTvI",
        "outputId": "ac662326-86e8-463a-fbdb-138d1d530d94"
      },
      "source": [
        "palette = sns.color_palette('deep', 10)\n",
        "sns.palplot(palette)"
      ],
      "execution_count": null,
      "outputs": [
        {
          "output_type": "display_data",
          "data": {
            "image/png": "[encoded data removed]",
            "text/plain": [
              "<Figure size 720x72 with 1 Axes>"
            ]
          },
          "metadata": {
            "tags": [],
            "needs_background": "light"
          }
        }
      ]
    },
    {
      "cell_type": "code",
      "metadata": {
        "id": "zD2UQ9RbqTvI",
        "outputId": "850a8947-ee09-4771-b0a2-d77fcf8fcdcf"
      },
      "source": [
        "palette = sns.color_palette('colorblind', 10)\n",
        "sns.palplot(palette)"
      ],
      "execution_count": null,
      "outputs": [
        {
          "output_type": "display_data",
          "data": {
            "image/png": "[encoded data removed]",
            "text/plain": [
              "<Figure size 720x72 with 1 Axes>"
            ]
          },
          "metadata": {
            "tags": [],
            "needs_background": "light"
          }
        }
      ]
    },
    {
      "cell_type": "code",
      "metadata": {
        "id": "bEKMvFZDqTvI",
        "outputId": "0eb17e3d-1e59-48b4-e76d-fcf5a08a5fd7"
      },
      "source": [
        "palette = sns.color_palette('coolwarm', 10)\n",
        "sns.palplot(palette)"
      ],
      "execution_count": null,
      "outputs": [
        {
          "output_type": "display_data",
          "data": {
            "image/png": "[encoded data removed]",
            "text/plain": [
              "<Figure size 720x72 with 1 Axes>"
            ]
          },
          "metadata": {
            "tags": [],
            "needs_background": "light"
          }
        }
      ]
    },
    {
      "cell_type": "code",
      "metadata": {
        "id": "VFnT89NhqTvJ",
        "outputId": "6d180dfe-2791-422c-e8be-9af08e71a58a"
      },
      "source": [
        "plt.figure(figsize = (18,3))\n",
        "sns.countplot(data=data, x=\"시도코드\", palette = palette)"
      ],
      "execution_count": null,
      "outputs": [
        {
          "output_type": "execute_result",
          "data": {
            "text/plain": [
              "<matplotlib.axes._subplots.AxesSubplot at 0x269ab484be0>"
            ]
          },
          "metadata": {
            "tags": []
          },
          "execution_count": 20
        },
        {
          "output_type": "display_data",
          "data": {
            "image/png": "[encoded data removed]",
            "text/plain": [
              "<Figure size 1296x216 with 1 Axes>"
            ]
          },
          "metadata": {
            "tags": [],
            "needs_background": "light"
          }
        }
      ]
    },
    {
      "cell_type": "markdown",
      "metadata": {
        "id": "0t2HXz43qTvJ"
      },
      "source": [
        "### countplot"
      ]
    },
    {
      "cell_type": "code",
      "metadata": {
        "id": "wMBwoTnVqTvJ",
        "outputId": "e0127453-1ffe-49e9-fafe-cb7c63aead92"
      },
      "source": [
        "#hue: 그 기준으로 쪼개서 따로 시각화\n",
        "plt.figure(figsize=(18,3))\n",
        "sns.countplot(data=data, x=\"시도코드\", hue=\"성별코드\", palette = palette)"
      ],
      "execution_count": null,
      "outputs": [
        {
          "output_type": "execute_result",
          "data": {
            "text/plain": [
              "<matplotlib.axes._subplots.AxesSubplot at 0x269ac7d94a8>"
            ]
          },
          "metadata": {
            "tags": []
          },
          "execution_count": 25
        },
        {
          "output_type": "display_data",
          "data": {
            "image/png": "[encoded data removed]",
            "text/plain": [
              "<Figure size 1296x216 with 1 Axes>"
            ]
          },
          "metadata": {
            "tags": [],
            "needs_background": "light"
          }
        }
      ]
    },
    {
      "cell_type": "code",
      "metadata": {
        "id": "uCEbL8LwqTvJ",
        "outputId": "25363b05-94c8-4d5d-ce18-c4dbc2270dfe"
      },
      "source": [
        "plt.figure(figsize=(4,9))\n",
        "sns.countplot(data=data, y=\"시도코드\", hue=\"성별코드\", palette = palette)\n",
        "\n",
        "#4-7"
      ],
      "execution_count": null,
      "outputs": [
        {
          "output_type": "execute_result",
          "data": {
            "text/plain": [
              "<matplotlib.axes._subplots.AxesSubplot at 0x269acab3cf8>"
            ]
          },
          "metadata": {
            "tags": []
          },
          "execution_count": 28
        },
        {
          "output_type": "display_data",
          "data": {
            "image/png": "[encoded data removed]",
            "text/plain": [
              "<Figure size 288x648 with 1 Axes>"
            ]
          },
          "metadata": {
            "tags": [],
            "needs_background": "light"
          }
        }
      ]
    },
    {
      "cell_type": "markdown",
      "metadata": {
        "id": "JJEDSc7qqTvJ"
      },
      "source": [
        "### distplot"
      ]
    },
    {
      "cell_type": "code",
      "metadata": {
        "id": "JWmQghNiqTvJ",
        "outputId": "6d4f6f15-4911-4304-9200-30a26612a740"
      },
      "source": [
        "sns.distplot(data[\"허리둘레\"])"
      ],
      "execution_count": null,
      "outputs": [
        {
          "output_type": "execute_result",
          "data": {
            "text/plain": [
              "<matplotlib.axes._subplots.AxesSubplot at 0x269ab21c6a0>"
            ]
          },
          "metadata": {
            "tags": []
          },
          "execution_count": 32
        },
        {
          "output_type": "display_data",
          "data": {
            "image/png": "[encoded data removed]",
            "text/plain": [
              "<Figure size 432x288 with 1 Axes>"
            ]
          },
          "metadata": {
            "tags": [],
            "needs_background": "light"
          }
        }
      ]
    },
    {
      "cell_type": "code",
      "metadata": {
        "id": "DkSzjxHpqTvJ",
        "outputId": "647a0e52-a671-4fe7-c795-66b96e3ad074"
      },
      "source": [
        "sns.distplot(data[\"허리둘레\"], hist=False)"
      ],
      "execution_count": null,
      "outputs": [
        {
          "output_type": "execute_result",
          "data": {
            "text/plain": [
              "<matplotlib.axes._subplots.AxesSubplot at 0x269ab28a5c0>"
            ]
          },
          "metadata": {
            "tags": []
          },
          "execution_count": 33
        },
        {
          "output_type": "display_data",
          "data": {
            "image/png": "[encoded data removed]",
            "text/plain": [
              "<Figure size 432x288 with 1 Axes>"
            ]
          },
          "metadata": {
            "tags": [],
            "needs_background": "light"
          }
        }
      ]
    },
    {
      "cell_type": "code",
      "metadata": {
        "id": "Km28P7fmqTvJ",
        "outputId": "0cde9f4e-cdf9-4992-fba4-f4e2104fe0d6"
      },
      "source": [
        "sns.distplot(data[\"허리둘레\"], kde=False)"
      ],
      "execution_count": null,
      "outputs": [
        {
          "output_type": "execute_result",
          "data": {
            "text/plain": [
              "<matplotlib.axes._subplots.AxesSubplot at 0x269acc505c0>"
            ]
          },
          "metadata": {
            "tags": []
          },
          "execution_count": 35
        },
        {
          "output_type": "display_data",
          "data": {
            "image/png": "[encoded data removed]",
            "text/plain": [
              "<Figure size 432x288 with 1 Axes>"
            ]
          },
          "metadata": {
            "tags": [],
            "needs_background": "light"
          }
        }
      ]
    },
    {
      "cell_type": "code",
      "metadata": {
        "id": "nam2VCu1qTvJ",
        "outputId": "6a7a59e7-225d-4422-8c8a-f118fd499826"
      },
      "source": [
        "one = data[data[\"흡연상태\"]==1]\n",
        "two = data[data[\"흡연상태\"]==2]\n",
        "three = data[data[\"흡연상태\"]==3]\n",
        "\n",
        "\n",
        "sns.distplot(one[\"허리둘레\"], hist=False, label=\"흡연 안 함\")\n",
        "sns.distplot(two[\"허리둘레\"], hist=False, label=\"흡연 했지만 그만둠\")\n",
        "sns.distplot(three[\"허리둘레\"], hist=False, label=\"흡연 하고 있음\")\n",
        "\n",
        "#4-8"
      ],
      "execution_count": null,
      "outputs": [
        {
          "output_type": "execute_result",
          "data": {
            "text/plain": [
              "<matplotlib.axes._subplots.AxesSubplot at 0x269addf0a90>"
            ]
          },
          "metadata": {
            "tags": []
          },
          "execution_count": 45
        },
        {
          "output_type": "display_data",
          "data": {
            "image/png": "[encoded data removed]",
            "text/plain": [
              "<Figure size 432x288 with 1 Axes>"
            ]
          },
          "metadata": {
            "tags": [],
            "needs_background": "light"
          }
        }
      ]
    },
    {
      "cell_type": "markdown",
      "metadata": {
        "id": "Y0I_AtSWqTvJ"
      },
      "source": [
        "### barplot\n",
        "countplot은 y축 지정 못하고 기본으로 count   \n",
        "barplot은 숫자인 y축 지정 가능"
      ]
    },
    {
      "cell_type": "code",
      "metadata": {
        "id": "KQdrFpHMqTvJ",
        "outputId": "686d2181-6646-485b-f740-f42c172c88f3"
      },
      "source": [
        "plt.figure(figsize=(18,3))\n",
        "sns.barplot(data=data, x=\"연령대코드(5세단위)\", y=\"수축기혈압\", palette = palette)\n",
        "#신뢰구간 : 신뢰구간 검은바 안에 있으면 outlier 가 아님"
      ],
      "execution_count": null,
      "outputs": [
        {
          "output_type": "execute_result",
          "data": {
            "text/plain": [
              "<matplotlib.axes._subplots.AxesSubplot at 0x269adef5550>"
            ]
          },
          "metadata": {
            "tags": []
          },
          "execution_count": 49
        },
        {
          "output_type": "display_data",
          "data": {
            "image/png": "[encoded data removed]",
            "text/plain": [
              "<Figure size 1296x216 with 1 Axes>"
            ]
          },
          "metadata": {
            "tags": [],
            "needs_background": "light"
          }
        }
      ]
    },
    {
      "cell_type": "code",
      "metadata": {
        "id": "zAUoBbJyqTvJ",
        "outputId": "dc39f919-d311-4116-a352-214fdef7e3a5"
      },
      "source": [
        "import numpy as np\n",
        "plt.figure(figsize=(18,3))\n",
        "sns.barplot(data=data, x=\"연령대코드(5세단위)\", y=\"수축기혈압\", estimator = np.sum)\n",
        "#신뢰구간 : 신뢰구간 검은바 안에 있으면 outlier 가 아님\n",
        "#estimator default : np.mean"
      ],
      "execution_count": null,
      "outputs": [
        {
          "output_type": "execute_result",
          "data": {
            "text/plain": [
              "<matplotlib.axes._subplots.AxesSubplot at 0x269adfc6748>"
            ]
          },
          "metadata": {
            "tags": []
          },
          "execution_count": 50
        },
        {
          "output_type": "display_data",
          "data": {
            "image/png": "[encoded data removed]",
            "text/plain": [
              "<Figure size 1296x216 with 1 Axes>"
            ]
          },
          "metadata": {
            "tags": [],
            "needs_background": "light"
          }
        }
      ]
    },
    {
      "cell_type": "code",
      "metadata": {
        "id": "ueWVpPZYqTvJ",
        "outputId": "f8a5eebb-c034-4797-b087-0422f87da3f7"
      },
      "source": [
        "import numpy as np\n",
        "plt.figure(figsize=(4,9))\n",
        "sns.barplot(data=data, y=\"연령대코드(5세단위)\", x=\"수축기혈압\",\n",
        "            hue=\"성별코드\", orient='h')\n",
        "#신뢰구간 : 신뢰구간 검은바 안에 있으면 outlier 가 아님\n",
        "#4-9"
      ],
      "execution_count": null,
      "outputs": [
        {
          "output_type": "execute_result",
          "data": {
            "text/plain": [
              "<matplotlib.axes._subplots.AxesSubplot at 0x269ae3ffa90>"
            ]
          },
          "metadata": {
            "tags": []
          },
          "execution_count": 53
        },
        {
          "output_type": "display_data",
          "data": {
            "image/png": "[encoded data removed]",
            "text/plain": [
              "<Figure size 288x648 with 1 Axes>"
            ]
          },
          "metadata": {
            "tags": [],
            "needs_background": "light"
          }
        }
      ]
    },
    {
      "cell_type": "code",
      "metadata": {
        "id": "ycX6G2KeqTvJ"
      },
      "source": [
        ""
      ],
      "execution_count": null,
      "outputs": []
    }
  ]
}